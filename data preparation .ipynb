{
 "cells": [
  {
   "cell_type": "markdown",
   "source": "## Landslide Point values",
   "metadata": {
    "cell_id": "bccc0f7e-288d-4dd3-b270-9fb40cc87fac",
    "deepnote_app_coordinates": {
     "x": 0,
     "y": null,
     "w": 12,
     "h": 5
    },
    "deepnote_cell_type": "markdown",
    "deepnote_cell_height": 69.60000610351562
   }
  },
  {
   "cell_type": "markdown",
   "source": "For susceptibility mapping, you need to extract point values (for both presence and absent like landslide location with value 1 and non-landslide location with value 0) for causing factor raster maps in ArcGIS. Then export those values as .txt file. ",
   "metadata": {
    "cell_id": "393f37cc727d4c3ba41e8ae4e92e870e",
    "tags": [],
    "is_collapsed": false,
    "deepnote_app_coordinates": {
     "x": 0,
     "y": 132,
     "w": 8,
     "h": 2
    },
    "deepnote_cell_type": "text-cell-p"
   }
  },
  {
   "cell_type": "code",
   "metadata": {
    "cell_id": "00001-d1d89233-7f0f-4c5d-bcbf-b05b811f61bf",
    "deepnote_to_be_reexecuted": false,
    "source_hash": "9b82ee11",
    "execution_start": 1649572186151,
    "execution_millis": 6,
    "deepnote_app_coordinates": {
     "x": 0,
     "y": 6,
     "w": 12,
     "h": 5
    },
    "deepnote_cell_type": "code",
    "deepnote_cell_height": 80.60000610351562
   },
   "source": "import pandas as pd",
   "execution_count": null,
   "outputs": []
  },
  {
   "cell_type": "code",
   "metadata": {
    "cell_id": "00002-d0a1c02c-5b92-48c2-800a-007d96c251f3",
    "deepnote_to_be_reexecuted": false,
    "source_hash": "bc3ea15",
    "execution_start": 1649572190185,
    "execution_millis": 0,
    "deepnote_app_coordinates": {
     "x": 0,
     "y": 12,
     "w": 12,
     "h": 5
    },
    "deepnote_cell_type": "code",
    "deepnote_cell_height": 98.60000610351562
   },
   "source": "read_file = pd.read_csv ('/work/land_poi.txt',delimiter=',') #read .txt file as csv\nread_file.to_csv ('/work/land_poi.csv', index=None) #convert and save it to as csv file",
   "execution_count": null,
   "outputs": []
  },
  {
   "cell_type": "code",
   "metadata": {
    "scrolled": false,
    "cell_id": "00003-82eef263-fbdf-46df-b97e-b1e54093b8f2",
    "deepnote_to_be_reexecuted": false,
    "source_hash": "63259304",
    "execution_start": 1649572211136,
    "execution_millis": 461,
    "deepnote_app_coordinates": {
     "x": 0,
     "y": 18,
     "w": 12,
     "h": 5
    },
    "deepnote_cell_type": "code",
    "deepnote_cell_height": 429
   },
   "source": "df_land=pd.read_csv('land_poi.csv') #read csv file \ndf_land.head()",
   "execution_count": null,
   "outputs": [
    {
     "output_type": "execute_result",
     "execution_count": 4,
     "data": {
      "application/vnd.deepnote.dataframe.v3+json": {
       "column_count": 16,
       "row_count": 5,
       "columns": [
        {
         "name": "Rowid_",
         "dtype": "float64",
         "stats": {
          "unique_count": 0,
          "nan_count": 5,
          "min": null,
          "max": null,
          "histogram": [
           {
            "bin_start": 0,
            "bin_end": 0.1,
            "count": 0
           },
           {
            "bin_start": 0.1,
            "bin_end": 0.2,
            "count": 0
           },
           {
            "bin_start": 0.2,
            "bin_end": 0.30000000000000004,
            "count": 0
           },
           {
            "bin_start": 0.30000000000000004,
            "bin_end": 0.4,
            "count": 0
           },
           {
            "bin_start": 0.4,
            "bin_end": 0.5,
            "count": 0
           },
           {
            "bin_start": 0.5,
            "bin_end": 0.6000000000000001,
            "count": 0
           },
           {
            "bin_start": 0.6000000000000001,
            "bin_end": 0.7000000000000001,
            "count": 0
           },
           {
            "bin_start": 0.7000000000000001,
            "bin_end": 0.8,
            "count": 0
           },
           {
            "bin_start": 0.8,
            "bin_end": 0.9,
            "count": 0
           },
           {
            "bin_start": 0.9,
            "bin_end": 1,
            "count": 0
           }
          ]
         }
        },
        {
         "name": "LANDSLIDE_PROJ",
         "dtype": "int64",
         "stats": {
          "unique_count": 5,
          "nan_count": 0,
          "min": "0",
          "max": "4",
          "histogram": [
           {
            "bin_start": 0,
            "bin_end": 0.4,
            "count": 1
           },
           {
            "bin_start": 0.4,
            "bin_end": 0.8,
            "count": 0
           },
           {
            "bin_start": 0.8,
            "bin_end": 1.2000000000000002,
            "count": 1
           },
           {
            "bin_start": 1.2000000000000002,
            "bin_end": 1.6,
            "count": 0
           },
           {
            "bin_start": 1.6,
            "bin_end": 2,
            "count": 0
           },
           {
            "bin_start": 2,
            "bin_end": 2.4000000000000004,
            "count": 1
           },
           {
            "bin_start": 2.4000000000000004,
            "bin_end": 2.8000000000000003,
            "count": 0
           },
           {
            "bin_start": 2.8000000000000003,
            "bin_end": 3.2,
            "count": 1
           },
           {
            "bin_start": 3.2,
            "bin_end": 3.6,
            "count": 0
           },
           {
            "bin_start": 3.6,
            "bin_end": 4,
            "count": 1
           }
          ]
         }
        },
        {
         "name": "X",
         "dtype": "float64",
         "stats": {
          "unique_count": 5,
          "nan_count": 0,
          "min": "473087.6466457734",
          "max": "508983.2838800547",
          "histogram": [
           {
            "bin_start": 473087.6466457734,
            "bin_end": 476677.2103692015,
            "count": 2
           },
           {
            "bin_start": 476677.2103692015,
            "bin_end": 480266.77409262967,
            "count": 0
           },
           {
            "bin_start": 480266.77409262967,
            "bin_end": 483856.3378160578,
            "count": 0
           },
           {
            "bin_start": 483856.3378160578,
            "bin_end": 487445.9015394859,
            "count": 1
           },
           {
            "bin_start": 487445.9015394859,
            "bin_end": 491035.4652629141,
            "count": 0
           },
           {
            "bin_start": 491035.4652629141,
            "bin_end": 494625.0289863422,
            "count": 1
           },
           {
            "bin_start": 494625.0289863422,
            "bin_end": 498214.5927097703,
            "count": 0
           },
           {
            "bin_start": 498214.5927097703,
            "bin_end": 501804.1564331984,
            "count": 0
           },
           {
            "bin_start": 501804.1564331984,
            "bin_end": 505393.7201566266,
            "count": 0
           },
           {
            "bin_start": 505393.7201566266,
            "bin_end": 508983.2838800547,
            "count": 1
           }
          ]
         }
        },
        {
         "name": "Y",
         "dtype": "float64",
         "stats": {
          "unique_count": 5,
          "nan_count": 0,
          "min": "4039444.507216436",
          "max": "4068765.421656069",
          "histogram": [
           {
            "bin_start": 4039444.507216436,
            "bin_end": 4042376.598660399,
            "count": 1
           },
           {
            "bin_start": 4042376.598660399,
            "bin_end": 4045308.6901043626,
            "count": 0
           },
           {
            "bin_start": 4045308.6901043626,
            "bin_end": 4048240.781548326,
            "count": 0
           },
           {
            "bin_start": 4048240.781548326,
            "bin_end": 4051172.8729922893,
            "count": 0
           },
           {
            "bin_start": 4051172.8729922893,
            "bin_end": 4054104.9644362526,
            "count": 0
           },
           {
            "bin_start": 4054104.9644362526,
            "bin_end": 4057037.0558802155,
            "count": 2
           },
           {
            "bin_start": 4057037.0558802155,
            "bin_end": 4059969.147324179,
            "count": 0
           },
           {
            "bin_start": 4059969.147324179,
            "bin_end": 4062901.238768142,
            "count": 0
           },
           {
            "bin_start": 4062901.238768142,
            "bin_end": 4065833.3302121055,
            "count": 0
           },
           {
            "bin_start": 4065833.3302121055,
            "bin_end": 4068765.421656069,
            "count": 2
           }
          ]
         }
        },
        {
         "name": "DEM",
         "dtype": "int64",
         "stats": {
          "unique_count": 5,
          "nan_count": 0,
          "min": "3070",
          "max": "3402",
          "histogram": [
           {
            "bin_start": 3070,
            "bin_end": 3103.2,
            "count": 2
           },
           {
            "bin_start": 3103.2,
            "bin_end": 3136.4,
            "count": 2
           },
           {
            "bin_start": 3136.4,
            "bin_end": 3169.6,
            "count": 0
           },
           {
            "bin_start": 3169.6,
            "bin_end": 3202.8,
            "count": 0
           },
           {
            "bin_start": 3202.8,
            "bin_end": 3236,
            "count": 0
           },
           {
            "bin_start": 3236,
            "bin_end": 3269.2,
            "count": 0
           },
           {
            "bin_start": 3269.2,
            "bin_end": 3302.4,
            "count": 0
           },
           {
            "bin_start": 3302.4,
            "bin_end": 3335.6,
            "count": 0
           },
           {
            "bin_start": 3335.6,
            "bin_end": 3368.8,
            "count": 0
           },
           {
            "bin_start": 3368.8,
            "bin_end": 3402,
            "count": 1
           }
          ]
         }
        },
        {
         "name": "ASPECT3_BAND_1",
         "dtype": "float64",
         "stats": {
          "unique_count": 5,
          "nan_count": 0,
          "min": "68.936554",
          "max": "239.3148346",
          "histogram": [
           {
            "bin_start": 68.936554,
            "bin_end": 85.97438206000001,
            "count": 2
           },
           {
            "bin_start": 85.97438206000001,
            "bin_end": 103.01221012,
            "count": 0
           },
           {
            "bin_start": 103.01221012,
            "bin_end": 120.05003818,
            "count": 0
           },
           {
            "bin_start": 120.05003818,
            "bin_end": 137.08786624,
            "count": 0
           },
           {
            "bin_start": 137.08786624,
            "bin_end": 154.12569430000002,
            "count": 0
           },
           {
            "bin_start": 154.12569430000002,
            "bin_end": 171.16352236,
            "count": 0
           },
           {
            "bin_start": 171.16352236,
            "bin_end": 188.20135042,
            "count": 1
           },
           {
            "bin_start": 188.20135042,
            "bin_end": 205.23917848000002,
            "count": 0
           },
           {
            "bin_start": 205.23917848000002,
            "bin_end": 222.27700654000003,
            "count": 1
           },
           {
            "bin_start": 222.27700654000003,
            "bin_end": 239.3148346,
            "count": 1
           }
          ]
         }
        },
        {
         "name": "SPI3_BAND_1",
         "dtype": "float64",
         "stats": {
          "unique_count": 5,
          "nan_count": 0,
          "min": "3.209363",
          "max": "6.1995521",
          "histogram": [
           {
            "bin_start": 3.209363,
            "bin_end": 3.50838191,
            "count": 1
           },
           {
            "bin_start": 3.50838191,
            "bin_end": 3.8074008200000002,
            "count": 1
           },
           {
            "bin_start": 3.8074008200000002,
            "bin_end": 4.10641973,
            "count": 0
           },
           {
            "bin_start": 4.10641973,
            "bin_end": 4.40543864,
            "count": 1
           },
           {
            "bin_start": 4.40543864,
            "bin_end": 4.70445755,
            "count": 1
           },
           {
            "bin_start": 4.70445755,
            "bin_end": 5.00347646,
            "count": 0
           },
           {
            "bin_start": 5.00347646,
            "bin_end": 5.30249537,
            "count": 0
           },
           {
            "bin_start": 5.30249537,
            "bin_end": 5.60151428,
            "count": 0
           },
           {
            "bin_start": 5.60151428,
            "bin_end": 5.90053319,
            "count": 0
           },
           {
            "bin_start": 5.90053319,
            "bin_end": 6.1995521,
            "count": 1
           }
          ]
         }
        },
        {
         "name": "LULC2_BAND_1",
         "dtype": "int64",
         "stats": {
          "unique_count": 2,
          "nan_count": 0,
          "min": "2",
          "max": "4",
          "histogram": [
           {
            "bin_start": 2,
            "bin_end": 2.2,
            "count": 4
           },
           {
            "bin_start": 2.2,
            "bin_end": 2.4,
            "count": 0
           },
           {
            "bin_start": 2.4,
            "bin_end": 2.6,
            "count": 0
           },
           {
            "bin_start": 2.6,
            "bin_end": 2.8,
            "count": 0
           },
           {
            "bin_start": 2.8,
            "bin_end": 3,
            "count": 0
           },
           {
            "bin_start": 3,
            "bin_end": 3.2,
            "count": 0
           },
           {
            "bin_start": 3.2,
            "bin_end": 3.4000000000000004,
            "count": 0
           },
           {
            "bin_start": 3.4000000000000004,
            "bin_end": 3.6,
            "count": 0
           },
           {
            "bin_start": 3.6,
            "bin_end": 3.8,
            "count": 0
           },
           {
            "bin_start": 3.8,
            "bin_end": 4,
            "count": 1
           }
          ]
         }
        },
        {
         "name": "FINAL_GEO2",
         "dtype": "int64",
         "stats": {
          "unique_count": 2,
          "nan_count": 0,
          "min": "7",
          "max": "8",
          "histogram": [
           {
            "bin_start": 7,
            "bin_end": 7.1,
            "count": 1
           },
           {
            "bin_start": 7.1,
            "bin_end": 7.2,
            "count": 0
           },
           {
            "bin_start": 7.2,
            "bin_end": 7.3,
            "count": 0
           },
           {
            "bin_start": 7.3,
            "bin_end": 7.4,
            "count": 0
           },
           {
            "bin_start": 7.4,
            "bin_end": 7.5,
            "count": 0
           },
           {
            "bin_start": 7.5,
            "bin_end": 7.6,
            "count": 0
           },
           {
            "bin_start": 7.6,
            "bin_end": 7.7,
            "count": 0
           },
           {
            "bin_start": 7.7,
            "bin_end": 7.8,
            "count": 0
           },
           {
            "bin_start": 7.8,
            "bin_end": 7.9,
            "count": 0
           },
           {
            "bin_start": 7.9,
            "bin_end": 8,
            "count": 4
           }
          ]
         }
        },
        {
         "name": "FAULT",
         "dtype": "int64",
         "stats": {
          "unique_count": 1,
          "nan_count": 0,
          "min": "4",
          "max": "4",
          "histogram": [
           {
            "bin_start": 3.5,
            "bin_end": 3.6,
            "count": 0
           },
           {
            "bin_start": 3.6,
            "bin_end": 3.7,
            "count": 0
           },
           {
            "bin_start": 3.7,
            "bin_end": 3.8,
            "count": 0
           },
           {
            "bin_start": 3.8,
            "bin_end": 3.9,
            "count": 0
           },
           {
            "bin_start": 3.9,
            "bin_end": 4,
            "count": 0
           },
           {
            "bin_start": 4,
            "bin_end": 4.1,
            "count": 5
           },
           {
            "bin_start": 4.1,
            "bin_end": 4.2,
            "count": 0
           },
           {
            "bin_start": 4.2,
            "bin_end": 4.3,
            "count": 0
           },
           {
            "bin_start": 4.3,
            "bin_end": 4.4,
            "count": 0
           },
           {
            "bin_start": 4.4,
            "bin_end": 4.5,
            "count": 0
           }
          ]
         }
        },
        {
         "name": "RAIN",
         "dtype": "int64",
         "stats": {
          "unique_count": 2,
          "nan_count": 0,
          "min": "1",
          "max": "2",
          "histogram": [
           {
            "bin_start": 1,
            "bin_end": 1.1,
            "count": 3
           },
           {
            "bin_start": 1.1,
            "bin_end": 1.2,
            "count": 0
           },
           {
            "bin_start": 1.2,
            "bin_end": 1.3,
            "count": 0
           },
           {
            "bin_start": 1.3,
            "bin_end": 1.4,
            "count": 0
           },
           {
            "bin_start": 1.4,
            "bin_end": 1.5,
            "count": 0
           },
           {
            "bin_start": 1.5,
            "bin_end": 1.6,
            "count": 0
           },
           {
            "bin_start": 1.6,
            "bin_end": 1.7000000000000002,
            "count": 0
           },
           {
            "bin_start": 1.7000000000000002,
            "bin_end": 1.8,
            "count": 0
           },
           {
            "bin_start": 1.8,
            "bin_end": 1.9,
            "count": 0
           },
           {
            "bin_start": 1.9,
            "bin_end": 2,
            "count": 2
           }
          ]
         }
        },
        {
         "name": "RIVER_BUFF",
         "dtype": "int64",
         "stats": {
          "unique_count": 3,
          "nan_count": 0,
          "min": "1",
          "max": "105",
          "histogram": [
           {
            "bin_start": 1,
            "bin_end": 11.4,
            "count": 4
           },
           {
            "bin_start": 11.4,
            "bin_end": 21.8,
            "count": 0
           },
           {
            "bin_start": 21.8,
            "bin_end": 32.2,
            "count": 0
           },
           {
            "bin_start": 32.2,
            "bin_end": 42.6,
            "count": 0
           },
           {
            "bin_start": 42.6,
            "bin_end": 53,
            "count": 0
           },
           {
            "bin_start": 53,
            "bin_end": 63.400000000000006,
            "count": 0
           },
           {
            "bin_start": 63.400000000000006,
            "bin_end": 73.8,
            "count": 0
           },
           {
            "bin_start": 73.8,
            "bin_end": 84.2,
            "count": 0
           },
           {
            "bin_start": 84.2,
            "bin_end": 94.60000000000001,
            "count": 0
           },
           {
            "bin_start": 94.60000000000001,
            "bin_end": 105,
            "count": 1
           }
          ]
         }
        },
        {
         "name": "KKH_BUFF2",
         "dtype": "int64",
         "stats": {
          "unique_count": 2,
          "nan_count": 0,
          "min": "2",
          "max": "105",
          "histogram": [
           {
            "bin_start": 2,
            "bin_end": 12.3,
            "count": 1
           },
           {
            "bin_start": 12.3,
            "bin_end": 22.6,
            "count": 0
           },
           {
            "bin_start": 22.6,
            "bin_end": 32.900000000000006,
            "count": 0
           },
           {
            "bin_start": 32.900000000000006,
            "bin_end": 43.2,
            "count": 0
           },
           {
            "bin_start": 43.2,
            "bin_end": 53.5,
            "count": 0
           },
           {
            "bin_start": 53.5,
            "bin_end": 63.800000000000004,
            "count": 0
           },
           {
            "bin_start": 63.800000000000004,
            "bin_end": 74.10000000000001,
            "count": 0
           },
           {
            "bin_start": 74.10000000000001,
            "bin_end": 84.4,
            "count": 0
           },
           {
            "bin_start": 84.4,
            "bin_end": 94.7,
            "count": 0
           },
           {
            "bin_start": 94.7,
            "bin_end": 105,
            "count": 4
           }
          ]
         }
        },
        {
         "name": "PCURV",
         "dtype": "float64",
         "stats": {
          "unique_count": 5,
          "nan_count": 0,
          "min": "-0.1657047",
          "max": "0.5234393",
          "histogram": [
           {
            "bin_start": -0.1657047,
            "bin_end": -0.0967903,
            "count": 1
           },
           {
            "bin_start": -0.0967903,
            "bin_end": -0.02787589999999998,
            "count": 0
           },
           {
            "bin_start": -0.02787589999999998,
            "bin_end": 0.04103850000000003,
            "count": 1
           },
           {
            "bin_start": 0.04103850000000003,
            "bin_end": 0.10995290000000005,
            "count": 0
           },
           {
            "bin_start": 0.10995290000000005,
            "bin_end": 0.1788673000000001,
            "count": 0
           },
           {
            "bin_start": 0.1788673000000001,
            "bin_end": 0.24778170000000008,
            "count": 1
           },
           {
            "bin_start": 0.24778170000000008,
            "bin_end": 0.31669610000000004,
            "count": 0
           },
           {
            "bin_start": 0.31669610000000004,
            "bin_end": 0.3856105000000001,
            "count": 1
           },
           {
            "bin_start": 0.3856105000000001,
            "bin_end": 0.4545249000000001,
            "count": 0
           },
           {
            "bin_start": 0.4545249000000001,
            "bin_end": 0.5234393,
            "count": 1
           }
          ]
         }
        },
        {
         "name": "TWI3_BAND_1",
         "dtype": "float64",
         "stats": {
          "unique_count": 5,
          "nan_count": 0,
          "min": "2.9820273",
          "max": "5.7446456",
          "histogram": [
           {
            "bin_start": 2.9820273,
            "bin_end": 3.25828913,
            "count": 1
           },
           {
            "bin_start": 3.25828913,
            "bin_end": 3.53455096,
            "count": 1
           },
           {
            "bin_start": 3.53455096,
            "bin_end": 3.81081279,
            "count": 0
           },
           {
            "bin_start": 3.81081279,
            "bin_end": 4.08707462,
            "count": 0
           },
           {
            "bin_start": 4.08707462,
            "bin_end": 4.36333645,
            "count": 0
           },
           {
            "bin_start": 4.36333645,
            "bin_end": 4.63959828,
            "count": 0
           },
           {
            "bin_start": 4.63959828,
            "bin_end": 4.915860110000001,
            "count": 1
           },
           {
            "bin_start": 4.915860110000001,
            "bin_end": 5.19212194,
            "count": 1
           },
           {
            "bin_start": 5.19212194,
            "bin_end": 5.468383770000001,
            "count": 0
           },
           {
            "bin_start": 5.468383770000001,
            "bin_end": 5.7446456,
            "count": 1
           }
          ]
         }
        },
        {
         "name": "SLOPE",
         "dtype": "float64",
         "stats": {
          "unique_count": 5,
          "nan_count": 0,
          "min": "31.7457237",
          "max": "54.7479477",
          "histogram": [
           {
            "bin_start": 31.7457237,
            "bin_end": 34.0459461,
            "count": 1
           },
           {
            "bin_start": 34.0459461,
            "bin_end": 36.3461685,
            "count": 0
           },
           {
            "bin_start": 36.3461685,
            "bin_end": 38.6463909,
            "count": 0
           },
           {
            "bin_start": 38.6463909,
            "bin_end": 40.946613299999996,
            "count": 0
           },
           {
            "bin_start": 40.946613299999996,
            "bin_end": 43.2468357,
            "count": 1
           },
           {
            "bin_start": 43.2468357,
            "bin_end": 45.5470581,
            "count": 1
           },
           {
            "bin_start": 45.5470581,
            "bin_end": 47.8472805,
            "count": 0
           },
           {
            "bin_start": 47.8472805,
            "bin_end": 50.1475029,
            "count": 0
           },
           {
            "bin_start": 50.1475029,
            "bin_end": 52.4477253,
            "count": 1
           },
           {
            "bin_start": 52.4477253,
            "bin_end": 54.7479477,
            "count": 1
           }
          ]
         }
        },
        {
         "name": "_deepnote_index_column",
         "dtype": "int64"
        }
       ],
       "rows": [
        {
         "Rowid_": "nan",
         "LANDSLIDE_PROJ": 0,
         "X": 493397.47852738266,
         "Y": 4054910.698492207,
         "DEM": 3402,
         "ASPECT3_BAND_1": 185.7928009,
         "SPI3_BAND_1": 4.2483153,
         "LULC2_BAND_1": 2,
         "FINAL_GEO2": 8,
         "FAULT": 4,
         "RAIN": 1,
         "RIVER_BUFF": 105,
         "KKH_BUFF2": 105,
         "PCURV": 0.0367445,
         "TWI3_BAND_1": 5.1903563,
         "SLOPE": 31.7457237,
         "_deepnote_index_column": 0
        },
        {
         "Rowid_": "nan",
         "LANDSLIDE_PROJ": 1,
         "X": 484881.6734476933,
         "Y": 4055971.533473897,
         "DEM": 3130,
         "ASPECT3_BAND_1": 73.7747269,
         "SPI3_BAND_1": 3.209363,
         "LULC2_BAND_1": 2,
         "FINAL_GEO2": 8,
         "FAULT": 4,
         "RAIN": 2,
         "RIVER_BUFF": 2,
         "KKH_BUFF2": 2,
         "PCURV": 0.3847047,
         "TWI3_BAND_1": 3.4567196,
         "SLOPE": 41.2836189,
         "_deepnote_index_column": 1
        },
        {
         "Rowid_": "nan",
         "LANDSLIDE_PROJ": 2,
         "X": 475180.89340057765,
         "Y": 4066249.5401604255,
         "DEM": 3070,
         "ASPECT3_BAND_1": 214.8244934,
         "SPI3_BAND_1": 6.1995521,
         "LULC2_BAND_1": 2,
         "FINAL_GEO2": 8,
         "FAULT": 4,
         "RAIN": 2,
         "RIVER_BUFF": 1,
         "KKH_BUFF2": 105,
         "PCURV": -0.1657047,
         "TWI3_BAND_1": 5.7446456,
         "SLOPE": 51.3346138,
         "_deepnote_index_column": 2
        },
        {
         "Rowid_": "nan",
         "LANDSLIDE_PROJ": 3,
         "X": 473087.6466457734,
         "Y": 4068765.421656069,
         "DEM": 3078,
         "ASPECT3_BAND_1": 68.936554,
         "SPI3_BAND_1": 3.6840556,
         "LULC2_BAND_1": 2,
         "FINAL_GEO2": 8,
         "FAULT": 4,
         "RAIN": 1,
         "RIVER_BUFF": 1,
         "KKH_BUFF2": 105,
         "PCURV": 0.1851503,
         "TWI3_BAND_1": 2.9820273,
         "SLOPE": 54.7479477,
         "_deepnote_index_column": 3
        },
        {
         "Rowid_": "nan",
         "LANDSLIDE_PROJ": 4,
         "X": 508983.2838800547,
         "Y": 4039444.507216436,
         "DEM": 3109,
         "ASPECT3_BAND_1": 239.3148346,
         "SPI3_BAND_1": 4.6676664,
         "LULC2_BAND_1": 4,
         "FINAL_GEO2": 7,
         "FAULT": 4,
         "RAIN": 1,
         "RIVER_BUFF": 1,
         "KKH_BUFF2": 105,
         "PCURV": 0.5234393,
         "TWI3_BAND_1": 4.7710052,
         "SLOPE": 43.3497849,
         "_deepnote_index_column": 4
        }
       ]
      },
      "text/plain": "   Rowid_  LANDSLIDE_PROJ              X             Y   DEM  ASPECT3_BAND_1  \\\n0     NaN               0  493397.478527  4.054911e+06  3402      185.792801   \n1     NaN               1  484881.673448  4.055972e+06  3130       73.774727   \n2     NaN               2  475180.893401  4.066250e+06  3070      214.824493   \n3     NaN               3  473087.646646  4.068765e+06  3078       68.936554   \n4     NaN               4  508983.283880  4.039445e+06  3109      239.314835   \n\n   SPI3_BAND_1  LULC2_BAND_1  FINAL_GEO2  FAULT  RAIN  RIVER_BUFF  KKH_BUFF2  \\\n0     4.248315             2           8      4     1         105        105   \n1     3.209363             2           8      4     2           2          2   \n2     6.199552             2           8      4     2           1        105   \n3     3.684056             2           8      4     1           1        105   \n4     4.667666             4           7      4     1           1        105   \n\n      PCURV  TWI3_BAND_1      SLOPE  \n0  0.036744     5.190356  31.745724  \n1  0.384705     3.456720  41.283619  \n2 -0.165705     5.744646  51.334614  \n3  0.185150     2.982027  54.747948  \n4  0.523439     4.771005  43.349785  ",
      "text/html": "<div>\n<style scoped>\n    .dataframe tbody tr th:only-of-type {\n        vertical-align: middle;\n    }\n\n    .dataframe tbody tr th {\n        vertical-align: top;\n    }\n\n    .dataframe thead th {\n        text-align: right;\n    }\n</style>\n<table border=\"1\" class=\"dataframe\">\n  <thead>\n    <tr style=\"text-align: right;\">\n      <th></th>\n      <th>Rowid_</th>\n      <th>LANDSLIDE_PROJ</th>\n      <th>X</th>\n      <th>Y</th>\n      <th>DEM</th>\n      <th>ASPECT3_BAND_1</th>\n      <th>SPI3_BAND_1</th>\n      <th>LULC2_BAND_1</th>\n      <th>FINAL_GEO2</th>\n      <th>FAULT</th>\n      <th>RAIN</th>\n      <th>RIVER_BUFF</th>\n      <th>KKH_BUFF2</th>\n      <th>PCURV</th>\n      <th>TWI3_BAND_1</th>\n      <th>SLOPE</th>\n    </tr>\n  </thead>\n  <tbody>\n    <tr>\n      <th>0</th>\n      <td>NaN</td>\n      <td>0</td>\n      <td>493397.478527</td>\n      <td>4.054911e+06</td>\n      <td>3402</td>\n      <td>185.792801</td>\n      <td>4.248315</td>\n      <td>2</td>\n      <td>8</td>\n      <td>4</td>\n      <td>1</td>\n      <td>105</td>\n      <td>105</td>\n      <td>0.036744</td>\n      <td>5.190356</td>\n      <td>31.745724</td>\n    </tr>\n    <tr>\n      <th>1</th>\n      <td>NaN</td>\n      <td>1</td>\n      <td>484881.673448</td>\n      <td>4.055972e+06</td>\n      <td>3130</td>\n      <td>73.774727</td>\n      <td>3.209363</td>\n      <td>2</td>\n      <td>8</td>\n      <td>4</td>\n      <td>2</td>\n      <td>2</td>\n      <td>2</td>\n      <td>0.384705</td>\n      <td>3.456720</td>\n      <td>41.283619</td>\n    </tr>\n    <tr>\n      <th>2</th>\n      <td>NaN</td>\n      <td>2</td>\n      <td>475180.893401</td>\n      <td>4.066250e+06</td>\n      <td>3070</td>\n      <td>214.824493</td>\n      <td>6.199552</td>\n      <td>2</td>\n      <td>8</td>\n      <td>4</td>\n      <td>2</td>\n      <td>1</td>\n      <td>105</td>\n      <td>-0.165705</td>\n      <td>5.744646</td>\n      <td>51.334614</td>\n    </tr>\n    <tr>\n      <th>3</th>\n      <td>NaN</td>\n      <td>3</td>\n      <td>473087.646646</td>\n      <td>4.068765e+06</td>\n      <td>3078</td>\n      <td>68.936554</td>\n      <td>3.684056</td>\n      <td>2</td>\n      <td>8</td>\n      <td>4</td>\n      <td>1</td>\n      <td>1</td>\n      <td>105</td>\n      <td>0.185150</td>\n      <td>2.982027</td>\n      <td>54.747948</td>\n    </tr>\n    <tr>\n      <th>4</th>\n      <td>NaN</td>\n      <td>4</td>\n      <td>508983.283880</td>\n      <td>4.039445e+06</td>\n      <td>3109</td>\n      <td>239.314835</td>\n      <td>4.667666</td>\n      <td>4</td>\n      <td>7</td>\n      <td>4</td>\n      <td>1</td>\n      <td>1</td>\n      <td>105</td>\n      <td>0.523439</td>\n      <td>4.771005</td>\n      <td>43.349785</td>\n    </tr>\n  </tbody>\n</table>\n</div>"
     },
     "metadata": {}
    }
   ]
  },
  {
   "cell_type": "code",
   "metadata": {
    "cell_id": "00004-9a872f22-d604-4edd-ac95-4fd290e93e28",
    "deepnote_to_be_reexecuted": false,
    "source_hash": "62dd08d0",
    "execution_start": 1649572381085,
    "execution_millis": 1,
    "deepnote_app_coordinates": {
     "x": 0,
     "y": 24,
     "w": 12,
     "h": 5
    },
    "deepnote_cell_type": "code",
    "deepnote_cell_height": 98.60000610351562
   },
   "source": "#change the name of all columns\ndf_land.columns=['ID','Land_poi','X','Y','DEM','ASPECT','SPI','LULC','GEO','FAULT','RAIN','RIVER_BUFF','ROAD_BUFF','CURVA','TWI','SLOPE']",
   "execution_count": null,
   "outputs": []
  },
  {
   "cell_type": "code",
   "metadata": {
    "scrolled": false,
    "cell_id": "00005-156bd251-3751-4930-8b29-8e37fde2b650",
    "deepnote_to_be_reexecuted": false,
    "source_hash": "14b5d11e",
    "execution_start": 1649572396300,
    "execution_millis": 61,
    "deepnote_app_coordinates": {
     "x": 0,
     "y": 30,
     "w": 12,
     "h": 5
    },
    "deepnote_cell_type": "code",
    "deepnote_cell_height": 411
   },
   "source": "df_land.head() #names are changed now",
   "execution_count": null,
   "outputs": [
    {
     "output_type": "execute_result",
     "execution_count": 7,
     "data": {
      "application/vnd.deepnote.dataframe.v3+json": {
       "column_count": 16,
       "row_count": 5,
       "columns": [
        {
         "name": "ID",
         "dtype": "float64",
         "stats": {
          "unique_count": 0,
          "nan_count": 5,
          "min": null,
          "max": null,
          "histogram": [
           {
            "bin_start": 0,
            "bin_end": 0.1,
            "count": 0
           },
           {
            "bin_start": 0.1,
            "bin_end": 0.2,
            "count": 0
           },
           {
            "bin_start": 0.2,
            "bin_end": 0.30000000000000004,
            "count": 0
           },
           {
            "bin_start": 0.30000000000000004,
            "bin_end": 0.4,
            "count": 0
           },
           {
            "bin_start": 0.4,
            "bin_end": 0.5,
            "count": 0
           },
           {
            "bin_start": 0.5,
            "bin_end": 0.6000000000000001,
            "count": 0
           },
           {
            "bin_start": 0.6000000000000001,
            "bin_end": 0.7000000000000001,
            "count": 0
           },
           {
            "bin_start": 0.7000000000000001,
            "bin_end": 0.8,
            "count": 0
           },
           {
            "bin_start": 0.8,
            "bin_end": 0.9,
            "count": 0
           },
           {
            "bin_start": 0.9,
            "bin_end": 1,
            "count": 0
           }
          ]
         }
        },
        {
         "name": "Land_poi",
         "dtype": "int64",
         "stats": {
          "unique_count": 5,
          "nan_count": 0,
          "min": "0",
          "max": "4",
          "histogram": [
           {
            "bin_start": 0,
            "bin_end": 0.4,
            "count": 1
           },
           {
            "bin_start": 0.4,
            "bin_end": 0.8,
            "count": 0
           },
           {
            "bin_start": 0.8,
            "bin_end": 1.2000000000000002,
            "count": 1
           },
           {
            "bin_start": 1.2000000000000002,
            "bin_end": 1.6,
            "count": 0
           },
           {
            "bin_start": 1.6,
            "bin_end": 2,
            "count": 0
           },
           {
            "bin_start": 2,
            "bin_end": 2.4000000000000004,
            "count": 1
           },
           {
            "bin_start": 2.4000000000000004,
            "bin_end": 2.8000000000000003,
            "count": 0
           },
           {
            "bin_start": 2.8000000000000003,
            "bin_end": 3.2,
            "count": 1
           },
           {
            "bin_start": 3.2,
            "bin_end": 3.6,
            "count": 0
           },
           {
            "bin_start": 3.6,
            "bin_end": 4,
            "count": 1
           }
          ]
         }
        },
        {
         "name": "X",
         "dtype": "float64",
         "stats": {
          "unique_count": 5,
          "nan_count": 0,
          "min": "473087.6466457734",
          "max": "508983.2838800547",
          "histogram": [
           {
            "bin_start": 473087.6466457734,
            "bin_end": 476677.2103692015,
            "count": 2
           },
           {
            "bin_start": 476677.2103692015,
            "bin_end": 480266.77409262967,
            "count": 0
           },
           {
            "bin_start": 480266.77409262967,
            "bin_end": 483856.3378160578,
            "count": 0
           },
           {
            "bin_start": 483856.3378160578,
            "bin_end": 487445.9015394859,
            "count": 1
           },
           {
            "bin_start": 487445.9015394859,
            "bin_end": 491035.4652629141,
            "count": 0
           },
           {
            "bin_start": 491035.4652629141,
            "bin_end": 494625.0289863422,
            "count": 1
           },
           {
            "bin_start": 494625.0289863422,
            "bin_end": 498214.5927097703,
            "count": 0
           },
           {
            "bin_start": 498214.5927097703,
            "bin_end": 501804.1564331984,
            "count": 0
           },
           {
            "bin_start": 501804.1564331984,
            "bin_end": 505393.7201566266,
            "count": 0
           },
           {
            "bin_start": 505393.7201566266,
            "bin_end": 508983.2838800547,
            "count": 1
           }
          ]
         }
        },
        {
         "name": "Y",
         "dtype": "float64",
         "stats": {
          "unique_count": 5,
          "nan_count": 0,
          "min": "4039444.507216436",
          "max": "4068765.421656069",
          "histogram": [
           {
            "bin_start": 4039444.507216436,
            "bin_end": 4042376.598660399,
            "count": 1
           },
           {
            "bin_start": 4042376.598660399,
            "bin_end": 4045308.6901043626,
            "count": 0
           },
           {
            "bin_start": 4045308.6901043626,
            "bin_end": 4048240.781548326,
            "count": 0
           },
           {
            "bin_start": 4048240.781548326,
            "bin_end": 4051172.8729922893,
            "count": 0
           },
           {
            "bin_start": 4051172.8729922893,
            "bin_end": 4054104.9644362526,
            "count": 0
           },
           {
            "bin_start": 4054104.9644362526,
            "bin_end": 4057037.0558802155,
            "count": 2
           },
           {
            "bin_start": 4057037.0558802155,
            "bin_end": 4059969.147324179,
            "count": 0
           },
           {
            "bin_start": 4059969.147324179,
            "bin_end": 4062901.238768142,
            "count": 0
           },
           {
            "bin_start": 4062901.238768142,
            "bin_end": 4065833.3302121055,
            "count": 0
           },
           {
            "bin_start": 4065833.3302121055,
            "bin_end": 4068765.421656069,
            "count": 2
           }
          ]
         }
        },
        {
         "name": "DEM",
         "dtype": "int64",
         "stats": {
          "unique_count": 5,
          "nan_count": 0,
          "min": "3070",
          "max": "3402",
          "histogram": [
           {
            "bin_start": 3070,
            "bin_end": 3103.2,
            "count": 2
           },
           {
            "bin_start": 3103.2,
            "bin_end": 3136.4,
            "count": 2
           },
           {
            "bin_start": 3136.4,
            "bin_end": 3169.6,
            "count": 0
           },
           {
            "bin_start": 3169.6,
            "bin_end": 3202.8,
            "count": 0
           },
           {
            "bin_start": 3202.8,
            "bin_end": 3236,
            "count": 0
           },
           {
            "bin_start": 3236,
            "bin_end": 3269.2,
            "count": 0
           },
           {
            "bin_start": 3269.2,
            "bin_end": 3302.4,
            "count": 0
           },
           {
            "bin_start": 3302.4,
            "bin_end": 3335.6,
            "count": 0
           },
           {
            "bin_start": 3335.6,
            "bin_end": 3368.8,
            "count": 0
           },
           {
            "bin_start": 3368.8,
            "bin_end": 3402,
            "count": 1
           }
          ]
         }
        },
        {
         "name": "ASPECT",
         "dtype": "float64",
         "stats": {
          "unique_count": 5,
          "nan_count": 0,
          "min": "68.936554",
          "max": "239.3148346",
          "histogram": [
           {
            "bin_start": 68.936554,
            "bin_end": 85.97438206000001,
            "count": 2
           },
           {
            "bin_start": 85.97438206000001,
            "bin_end": 103.01221012,
            "count": 0
           },
           {
            "bin_start": 103.01221012,
            "bin_end": 120.05003818,
            "count": 0
           },
           {
            "bin_start": 120.05003818,
            "bin_end": 137.08786624,
            "count": 0
           },
           {
            "bin_start": 137.08786624,
            "bin_end": 154.12569430000002,
            "count": 0
           },
           {
            "bin_start": 154.12569430000002,
            "bin_end": 171.16352236,
            "count": 0
           },
           {
            "bin_start": 171.16352236,
            "bin_end": 188.20135042,
            "count": 1
           },
           {
            "bin_start": 188.20135042,
            "bin_end": 205.23917848000002,
            "count": 0
           },
           {
            "bin_start": 205.23917848000002,
            "bin_end": 222.27700654000003,
            "count": 1
           },
           {
            "bin_start": 222.27700654000003,
            "bin_end": 239.3148346,
            "count": 1
           }
          ]
         }
        },
        {
         "name": "SPI",
         "dtype": "float64",
         "stats": {
          "unique_count": 5,
          "nan_count": 0,
          "min": "3.209363",
          "max": "6.1995521",
          "histogram": [
           {
            "bin_start": 3.209363,
            "bin_end": 3.50838191,
            "count": 1
           },
           {
            "bin_start": 3.50838191,
            "bin_end": 3.8074008200000002,
            "count": 1
           },
           {
            "bin_start": 3.8074008200000002,
            "bin_end": 4.10641973,
            "count": 0
           },
           {
            "bin_start": 4.10641973,
            "bin_end": 4.40543864,
            "count": 1
           },
           {
            "bin_start": 4.40543864,
            "bin_end": 4.70445755,
            "count": 1
           },
           {
            "bin_start": 4.70445755,
            "bin_end": 5.00347646,
            "count": 0
           },
           {
            "bin_start": 5.00347646,
            "bin_end": 5.30249537,
            "count": 0
           },
           {
            "bin_start": 5.30249537,
            "bin_end": 5.60151428,
            "count": 0
           },
           {
            "bin_start": 5.60151428,
            "bin_end": 5.90053319,
            "count": 0
           },
           {
            "bin_start": 5.90053319,
            "bin_end": 6.1995521,
            "count": 1
           }
          ]
         }
        },
        {
         "name": "LULC",
         "dtype": "int64",
         "stats": {
          "unique_count": 2,
          "nan_count": 0,
          "min": "2",
          "max": "4",
          "histogram": [
           {
            "bin_start": 2,
            "bin_end": 2.2,
            "count": 4
           },
           {
            "bin_start": 2.2,
            "bin_end": 2.4,
            "count": 0
           },
           {
            "bin_start": 2.4,
            "bin_end": 2.6,
            "count": 0
           },
           {
            "bin_start": 2.6,
            "bin_end": 2.8,
            "count": 0
           },
           {
            "bin_start": 2.8,
            "bin_end": 3,
            "count": 0
           },
           {
            "bin_start": 3,
            "bin_end": 3.2,
            "count": 0
           },
           {
            "bin_start": 3.2,
            "bin_end": 3.4000000000000004,
            "count": 0
           },
           {
            "bin_start": 3.4000000000000004,
            "bin_end": 3.6,
            "count": 0
           },
           {
            "bin_start": 3.6,
            "bin_end": 3.8,
            "count": 0
           },
           {
            "bin_start": 3.8,
            "bin_end": 4,
            "count": 1
           }
          ]
         }
        },
        {
         "name": "GEO",
         "dtype": "int64",
         "stats": {
          "unique_count": 2,
          "nan_count": 0,
          "min": "7",
          "max": "8",
          "histogram": [
           {
            "bin_start": 7,
            "bin_end": 7.1,
            "count": 1
           },
           {
            "bin_start": 7.1,
            "bin_end": 7.2,
            "count": 0
           },
           {
            "bin_start": 7.2,
            "bin_end": 7.3,
            "count": 0
           },
           {
            "bin_start": 7.3,
            "bin_end": 7.4,
            "count": 0
           },
           {
            "bin_start": 7.4,
            "bin_end": 7.5,
            "count": 0
           },
           {
            "bin_start": 7.5,
            "bin_end": 7.6,
            "count": 0
           },
           {
            "bin_start": 7.6,
            "bin_end": 7.7,
            "count": 0
           },
           {
            "bin_start": 7.7,
            "bin_end": 7.8,
            "count": 0
           },
           {
            "bin_start": 7.8,
            "bin_end": 7.9,
            "count": 0
           },
           {
            "bin_start": 7.9,
            "bin_end": 8,
            "count": 4
           }
          ]
         }
        },
        {
         "name": "FAULT",
         "dtype": "int64",
         "stats": {
          "unique_count": 1,
          "nan_count": 0,
          "min": "4",
          "max": "4",
          "histogram": [
           {
            "bin_start": 3.5,
            "bin_end": 3.6,
            "count": 0
           },
           {
            "bin_start": 3.6,
            "bin_end": 3.7,
            "count": 0
           },
           {
            "bin_start": 3.7,
            "bin_end": 3.8,
            "count": 0
           },
           {
            "bin_start": 3.8,
            "bin_end": 3.9,
            "count": 0
           },
           {
            "bin_start": 3.9,
            "bin_end": 4,
            "count": 0
           },
           {
            "bin_start": 4,
            "bin_end": 4.1,
            "count": 5
           },
           {
            "bin_start": 4.1,
            "bin_end": 4.2,
            "count": 0
           },
           {
            "bin_start": 4.2,
            "bin_end": 4.3,
            "count": 0
           },
           {
            "bin_start": 4.3,
            "bin_end": 4.4,
            "count": 0
           },
           {
            "bin_start": 4.4,
            "bin_end": 4.5,
            "count": 0
           }
          ]
         }
        },
        {
         "name": "RAIN",
         "dtype": "int64",
         "stats": {
          "unique_count": 2,
          "nan_count": 0,
          "min": "1",
          "max": "2",
          "histogram": [
           {
            "bin_start": 1,
            "bin_end": 1.1,
            "count": 3
           },
           {
            "bin_start": 1.1,
            "bin_end": 1.2,
            "count": 0
           },
           {
            "bin_start": 1.2,
            "bin_end": 1.3,
            "count": 0
           },
           {
            "bin_start": 1.3,
            "bin_end": 1.4,
            "count": 0
           },
           {
            "bin_start": 1.4,
            "bin_end": 1.5,
            "count": 0
           },
           {
            "bin_start": 1.5,
            "bin_end": 1.6,
            "count": 0
           },
           {
            "bin_start": 1.6,
            "bin_end": 1.7000000000000002,
            "count": 0
           },
           {
            "bin_start": 1.7000000000000002,
            "bin_end": 1.8,
            "count": 0
           },
           {
            "bin_start": 1.8,
            "bin_end": 1.9,
            "count": 0
           },
           {
            "bin_start": 1.9,
            "bin_end": 2,
            "count": 2
           }
          ]
         }
        },
        {
         "name": "RIVER_BUFF",
         "dtype": "int64",
         "stats": {
          "unique_count": 3,
          "nan_count": 0,
          "min": "1",
          "max": "105",
          "histogram": [
           {
            "bin_start": 1,
            "bin_end": 11.4,
            "count": 4
           },
           {
            "bin_start": 11.4,
            "bin_end": 21.8,
            "count": 0
           },
           {
            "bin_start": 21.8,
            "bin_end": 32.2,
            "count": 0
           },
           {
            "bin_start": 32.2,
            "bin_end": 42.6,
            "count": 0
           },
           {
            "bin_start": 42.6,
            "bin_end": 53,
            "count": 0
           },
           {
            "bin_start": 53,
            "bin_end": 63.400000000000006,
            "count": 0
           },
           {
            "bin_start": 63.400000000000006,
            "bin_end": 73.8,
            "count": 0
           },
           {
            "bin_start": 73.8,
            "bin_end": 84.2,
            "count": 0
           },
           {
            "bin_start": 84.2,
            "bin_end": 94.60000000000001,
            "count": 0
           },
           {
            "bin_start": 94.60000000000001,
            "bin_end": 105,
            "count": 1
           }
          ]
         }
        },
        {
         "name": "ROAD_BUFF",
         "dtype": "int64",
         "stats": {
          "unique_count": 2,
          "nan_count": 0,
          "min": "2",
          "max": "105",
          "histogram": [
           {
            "bin_start": 2,
            "bin_end": 12.3,
            "count": 1
           },
           {
            "bin_start": 12.3,
            "bin_end": 22.6,
            "count": 0
           },
           {
            "bin_start": 22.6,
            "bin_end": 32.900000000000006,
            "count": 0
           },
           {
            "bin_start": 32.900000000000006,
            "bin_end": 43.2,
            "count": 0
           },
           {
            "bin_start": 43.2,
            "bin_end": 53.5,
            "count": 0
           },
           {
            "bin_start": 53.5,
            "bin_end": 63.800000000000004,
            "count": 0
           },
           {
            "bin_start": 63.800000000000004,
            "bin_end": 74.10000000000001,
            "count": 0
           },
           {
            "bin_start": 74.10000000000001,
            "bin_end": 84.4,
            "count": 0
           },
           {
            "bin_start": 84.4,
            "bin_end": 94.7,
            "count": 0
           },
           {
            "bin_start": 94.7,
            "bin_end": 105,
            "count": 4
           }
          ]
         }
        },
        {
         "name": "CURVA",
         "dtype": "float64",
         "stats": {
          "unique_count": 5,
          "nan_count": 0,
          "min": "-0.1657047",
          "max": "0.5234393",
          "histogram": [
           {
            "bin_start": -0.1657047,
            "bin_end": -0.0967903,
            "count": 1
           },
           {
            "bin_start": -0.0967903,
            "bin_end": -0.02787589999999998,
            "count": 0
           },
           {
            "bin_start": -0.02787589999999998,
            "bin_end": 0.04103850000000003,
            "count": 1
           },
           {
            "bin_start": 0.04103850000000003,
            "bin_end": 0.10995290000000005,
            "count": 0
           },
           {
            "bin_start": 0.10995290000000005,
            "bin_end": 0.1788673000000001,
            "count": 0
           },
           {
            "bin_start": 0.1788673000000001,
            "bin_end": 0.24778170000000008,
            "count": 1
           },
           {
            "bin_start": 0.24778170000000008,
            "bin_end": 0.31669610000000004,
            "count": 0
           },
           {
            "bin_start": 0.31669610000000004,
            "bin_end": 0.3856105000000001,
            "count": 1
           },
           {
            "bin_start": 0.3856105000000001,
            "bin_end": 0.4545249000000001,
            "count": 0
           },
           {
            "bin_start": 0.4545249000000001,
            "bin_end": 0.5234393,
            "count": 1
           }
          ]
         }
        },
        {
         "name": "TWI",
         "dtype": "float64",
         "stats": {
          "unique_count": 5,
          "nan_count": 0,
          "min": "2.9820273",
          "max": "5.7446456",
          "histogram": [
           {
            "bin_start": 2.9820273,
            "bin_end": 3.25828913,
            "count": 1
           },
           {
            "bin_start": 3.25828913,
            "bin_end": 3.53455096,
            "count": 1
           },
           {
            "bin_start": 3.53455096,
            "bin_end": 3.81081279,
            "count": 0
           },
           {
            "bin_start": 3.81081279,
            "bin_end": 4.08707462,
            "count": 0
           },
           {
            "bin_start": 4.08707462,
            "bin_end": 4.36333645,
            "count": 0
           },
           {
            "bin_start": 4.36333645,
            "bin_end": 4.63959828,
            "count": 0
           },
           {
            "bin_start": 4.63959828,
            "bin_end": 4.915860110000001,
            "count": 1
           },
           {
            "bin_start": 4.915860110000001,
            "bin_end": 5.19212194,
            "count": 1
           },
           {
            "bin_start": 5.19212194,
            "bin_end": 5.468383770000001,
            "count": 0
           },
           {
            "bin_start": 5.468383770000001,
            "bin_end": 5.7446456,
            "count": 1
           }
          ]
         }
        },
        {
         "name": "SLOPE",
         "dtype": "float64",
         "stats": {
          "unique_count": 5,
          "nan_count": 0,
          "min": "31.7457237",
          "max": "54.7479477",
          "histogram": [
           {
            "bin_start": 31.7457237,
            "bin_end": 34.0459461,
            "count": 1
           },
           {
            "bin_start": 34.0459461,
            "bin_end": 36.3461685,
            "count": 0
           },
           {
            "bin_start": 36.3461685,
            "bin_end": 38.6463909,
            "count": 0
           },
           {
            "bin_start": 38.6463909,
            "bin_end": 40.946613299999996,
            "count": 0
           },
           {
            "bin_start": 40.946613299999996,
            "bin_end": 43.2468357,
            "count": 1
           },
           {
            "bin_start": 43.2468357,
            "bin_end": 45.5470581,
            "count": 1
           },
           {
            "bin_start": 45.5470581,
            "bin_end": 47.8472805,
            "count": 0
           },
           {
            "bin_start": 47.8472805,
            "bin_end": 50.1475029,
            "count": 0
           },
           {
            "bin_start": 50.1475029,
            "bin_end": 52.4477253,
            "count": 1
           },
           {
            "bin_start": 52.4477253,
            "bin_end": 54.7479477,
            "count": 1
           }
          ]
         }
        },
        {
         "name": "_deepnote_index_column",
         "dtype": "int64"
        }
       ],
       "rows": [
        {
         "ID": "nan",
         "Land_poi": 0,
         "X": 493397.47852738266,
         "Y": 4054910.698492207,
         "DEM": 3402,
         "ASPECT": 185.7928009,
         "SPI": 4.2483153,
         "LULC": 2,
         "GEO": 8,
         "FAULT": 4,
         "RAIN": 1,
         "RIVER_BUFF": 105,
         "ROAD_BUFF": 105,
         "CURVA": 0.0367445,
         "TWI": 5.1903563,
         "SLOPE": 31.7457237,
         "_deepnote_index_column": 0
        },
        {
         "ID": "nan",
         "Land_poi": 1,
         "X": 484881.6734476933,
         "Y": 4055971.533473897,
         "DEM": 3130,
         "ASPECT": 73.7747269,
         "SPI": 3.209363,
         "LULC": 2,
         "GEO": 8,
         "FAULT": 4,
         "RAIN": 2,
         "RIVER_BUFF": 2,
         "ROAD_BUFF": 2,
         "CURVA": 0.3847047,
         "TWI": 3.4567196,
         "SLOPE": 41.2836189,
         "_deepnote_index_column": 1
        },
        {
         "ID": "nan",
         "Land_poi": 2,
         "X": 475180.89340057765,
         "Y": 4066249.5401604255,
         "DEM": 3070,
         "ASPECT": 214.8244934,
         "SPI": 6.1995521,
         "LULC": 2,
         "GEO": 8,
         "FAULT": 4,
         "RAIN": 2,
         "RIVER_BUFF": 1,
         "ROAD_BUFF": 105,
         "CURVA": -0.1657047,
         "TWI": 5.7446456,
         "SLOPE": 51.3346138,
         "_deepnote_index_column": 2
        },
        {
         "ID": "nan",
         "Land_poi": 3,
         "X": 473087.6466457734,
         "Y": 4068765.421656069,
         "DEM": 3078,
         "ASPECT": 68.936554,
         "SPI": 3.6840556,
         "LULC": 2,
         "GEO": 8,
         "FAULT": 4,
         "RAIN": 1,
         "RIVER_BUFF": 1,
         "ROAD_BUFF": 105,
         "CURVA": 0.1851503,
         "TWI": 2.9820273,
         "SLOPE": 54.7479477,
         "_deepnote_index_column": 3
        },
        {
         "ID": "nan",
         "Land_poi": 4,
         "X": 508983.2838800547,
         "Y": 4039444.507216436,
         "DEM": 3109,
         "ASPECT": 239.3148346,
         "SPI": 4.6676664,
         "LULC": 4,
         "GEO": 7,
         "FAULT": 4,
         "RAIN": 1,
         "RIVER_BUFF": 1,
         "ROAD_BUFF": 105,
         "CURVA": 0.5234393,
         "TWI": 4.7710052,
         "SLOPE": 43.3497849,
         "_deepnote_index_column": 4
        }
       ]
      },
      "text/plain": "   ID  Land_poi              X             Y   DEM      ASPECT       SPI  \\\n0 NaN         0  493397.478527  4.054911e+06  3402  185.792801  4.248315   \n1 NaN         1  484881.673448  4.055972e+06  3130   73.774727  3.209363   \n2 NaN         2  475180.893401  4.066250e+06  3070  214.824493  6.199552   \n3 NaN         3  473087.646646  4.068765e+06  3078   68.936554  3.684056   \n4 NaN         4  508983.283880  4.039445e+06  3109  239.314835  4.667666   \n\n   LULC  GEO  FAULT  RAIN  RIVER_BUFF  ROAD_BUFF     CURVA       TWI  \\\n0     2    8      4     1         105        105  0.036744  5.190356   \n1     2    8      4     2           2          2  0.384705  3.456720   \n2     2    8      4     2           1        105 -0.165705  5.744646   \n3     2    8      4     1           1        105  0.185150  2.982027   \n4     4    7      4     1           1        105  0.523439  4.771005   \n\n       SLOPE  \n0  31.745724  \n1  41.283619  \n2  51.334614  \n3  54.747948  \n4  43.349785  ",
      "text/html": "<div>\n<style scoped>\n    .dataframe tbody tr th:only-of-type {\n        vertical-align: middle;\n    }\n\n    .dataframe tbody tr th {\n        vertical-align: top;\n    }\n\n    .dataframe thead th {\n        text-align: right;\n    }\n</style>\n<table border=\"1\" class=\"dataframe\">\n  <thead>\n    <tr style=\"text-align: right;\">\n      <th></th>\n      <th>ID</th>\n      <th>Land_poi</th>\n      <th>X</th>\n      <th>Y</th>\n      <th>DEM</th>\n      <th>ASPECT</th>\n      <th>SPI</th>\n      <th>LULC</th>\n      <th>GEO</th>\n      <th>FAULT</th>\n      <th>RAIN</th>\n      <th>RIVER_BUFF</th>\n      <th>ROAD_BUFF</th>\n      <th>CURVA</th>\n      <th>TWI</th>\n      <th>SLOPE</th>\n    </tr>\n  </thead>\n  <tbody>\n    <tr>\n      <th>0</th>\n      <td>NaN</td>\n      <td>0</td>\n      <td>493397.478527</td>\n      <td>4.054911e+06</td>\n      <td>3402</td>\n      <td>185.792801</td>\n      <td>4.248315</td>\n      <td>2</td>\n      <td>8</td>\n      <td>4</td>\n      <td>1</td>\n      <td>105</td>\n      <td>105</td>\n      <td>0.036744</td>\n      <td>5.190356</td>\n      <td>31.745724</td>\n    </tr>\n    <tr>\n      <th>1</th>\n      <td>NaN</td>\n      <td>1</td>\n      <td>484881.673448</td>\n      <td>4.055972e+06</td>\n      <td>3130</td>\n      <td>73.774727</td>\n      <td>3.209363</td>\n      <td>2</td>\n      <td>8</td>\n      <td>4</td>\n      <td>2</td>\n      <td>2</td>\n      <td>2</td>\n      <td>0.384705</td>\n      <td>3.456720</td>\n      <td>41.283619</td>\n    </tr>\n    <tr>\n      <th>2</th>\n      <td>NaN</td>\n      <td>2</td>\n      <td>475180.893401</td>\n      <td>4.066250e+06</td>\n      <td>3070</td>\n      <td>214.824493</td>\n      <td>6.199552</td>\n      <td>2</td>\n      <td>8</td>\n      <td>4</td>\n      <td>2</td>\n      <td>1</td>\n      <td>105</td>\n      <td>-0.165705</td>\n      <td>5.744646</td>\n      <td>51.334614</td>\n    </tr>\n    <tr>\n      <th>3</th>\n      <td>NaN</td>\n      <td>3</td>\n      <td>473087.646646</td>\n      <td>4.068765e+06</td>\n      <td>3078</td>\n      <td>68.936554</td>\n      <td>3.684056</td>\n      <td>2</td>\n      <td>8</td>\n      <td>4</td>\n      <td>1</td>\n      <td>1</td>\n      <td>105</td>\n      <td>0.185150</td>\n      <td>2.982027</td>\n      <td>54.747948</td>\n    </tr>\n    <tr>\n      <th>4</th>\n      <td>NaN</td>\n      <td>4</td>\n      <td>508983.283880</td>\n      <td>4.039445e+06</td>\n      <td>3109</td>\n      <td>239.314835</td>\n      <td>4.667666</td>\n      <td>4</td>\n      <td>7</td>\n      <td>4</td>\n      <td>1</td>\n      <td>1</td>\n      <td>105</td>\n      <td>0.523439</td>\n      <td>4.771005</td>\n      <td>43.349785</td>\n    </tr>\n  </tbody>\n</table>\n</div>"
     },
     "metadata": {}
    }
   ]
  },
  {
   "cell_type": "code",
   "metadata": {
    "scrolled": true,
    "cell_id": "00006-636dd24e-ebcc-4399-9157-ef98ca3216c6",
    "deepnote_to_be_reexecuted": false,
    "source_hash": "a6f87cc3",
    "execution_start": 1649572608373,
    "execution_millis": 637,
    "deepnote_app_coordinates": {
     "x": 0,
     "y": 36,
     "w": 12,
     "h": 5
    },
    "deepnote_cell_type": "code",
    "deepnote_cell_height": 465
   },
   "source": "# we have to add a new column for dependent factor landslide presence with value of 1\n#add new column landslide\ndf_land['Landslide']=1\ndf_land.head()",
   "execution_count": null,
   "outputs": [
    {
     "output_type": "execute_result",
     "execution_count": 8,
     "data": {
      "application/vnd.deepnote.dataframe.v3+json": {
       "column_count": 17,
       "row_count": 5,
       "columns": [
        {
         "name": "ID",
         "dtype": "float64",
         "stats": {
          "unique_count": 0,
          "nan_count": 5,
          "min": null,
          "max": null,
          "histogram": [
           {
            "bin_start": 0,
            "bin_end": 0.1,
            "count": 0
           },
           {
            "bin_start": 0.1,
            "bin_end": 0.2,
            "count": 0
           },
           {
            "bin_start": 0.2,
            "bin_end": 0.30000000000000004,
            "count": 0
           },
           {
            "bin_start": 0.30000000000000004,
            "bin_end": 0.4,
            "count": 0
           },
           {
            "bin_start": 0.4,
            "bin_end": 0.5,
            "count": 0
           },
           {
            "bin_start": 0.5,
            "bin_end": 0.6000000000000001,
            "count": 0
           },
           {
            "bin_start": 0.6000000000000001,
            "bin_end": 0.7000000000000001,
            "count": 0
           },
           {
            "bin_start": 0.7000000000000001,
            "bin_end": 0.8,
            "count": 0
           },
           {
            "bin_start": 0.8,
            "bin_end": 0.9,
            "count": 0
           },
           {
            "bin_start": 0.9,
            "bin_end": 1,
            "count": 0
           }
          ]
         }
        },
        {
         "name": "Land_poi",
         "dtype": "int64",
         "stats": {
          "unique_count": 5,
          "nan_count": 0,
          "min": "0",
          "max": "4",
          "histogram": [
           {
            "bin_start": 0,
            "bin_end": 0.4,
            "count": 1
           },
           {
            "bin_start": 0.4,
            "bin_end": 0.8,
            "count": 0
           },
           {
            "bin_start": 0.8,
            "bin_end": 1.2000000000000002,
            "count": 1
           },
           {
            "bin_start": 1.2000000000000002,
            "bin_end": 1.6,
            "count": 0
           },
           {
            "bin_start": 1.6,
            "bin_end": 2,
            "count": 0
           },
           {
            "bin_start": 2,
            "bin_end": 2.4000000000000004,
            "count": 1
           },
           {
            "bin_start": 2.4000000000000004,
            "bin_end": 2.8000000000000003,
            "count": 0
           },
           {
            "bin_start": 2.8000000000000003,
            "bin_end": 3.2,
            "count": 1
           },
           {
            "bin_start": 3.2,
            "bin_end": 3.6,
            "count": 0
           },
           {
            "bin_start": 3.6,
            "bin_end": 4,
            "count": 1
           }
          ]
         }
        },
        {
         "name": "X",
         "dtype": "float64",
         "stats": {
          "unique_count": 5,
          "nan_count": 0,
          "min": "473087.6466457734",
          "max": "508983.2838800547",
          "histogram": [
           {
            "bin_start": 473087.6466457734,
            "bin_end": 476677.2103692015,
            "count": 2
           },
           {
            "bin_start": 476677.2103692015,
            "bin_end": 480266.77409262967,
            "count": 0
           },
           {
            "bin_start": 480266.77409262967,
            "bin_end": 483856.3378160578,
            "count": 0
           },
           {
            "bin_start": 483856.3378160578,
            "bin_end": 487445.9015394859,
            "count": 1
           },
           {
            "bin_start": 487445.9015394859,
            "bin_end": 491035.4652629141,
            "count": 0
           },
           {
            "bin_start": 491035.4652629141,
            "bin_end": 494625.0289863422,
            "count": 1
           },
           {
            "bin_start": 494625.0289863422,
            "bin_end": 498214.5927097703,
            "count": 0
           },
           {
            "bin_start": 498214.5927097703,
            "bin_end": 501804.1564331984,
            "count": 0
           },
           {
            "bin_start": 501804.1564331984,
            "bin_end": 505393.7201566266,
            "count": 0
           },
           {
            "bin_start": 505393.7201566266,
            "bin_end": 508983.2838800547,
            "count": 1
           }
          ]
         }
        },
        {
         "name": "Y",
         "dtype": "float64",
         "stats": {
          "unique_count": 5,
          "nan_count": 0,
          "min": "4039444.507216436",
          "max": "4068765.421656069",
          "histogram": [
           {
            "bin_start": 4039444.507216436,
            "bin_end": 4042376.598660399,
            "count": 1
           },
           {
            "bin_start": 4042376.598660399,
            "bin_end": 4045308.6901043626,
            "count": 0
           },
           {
            "bin_start": 4045308.6901043626,
            "bin_end": 4048240.781548326,
            "count": 0
           },
           {
            "bin_start": 4048240.781548326,
            "bin_end": 4051172.8729922893,
            "count": 0
           },
           {
            "bin_start": 4051172.8729922893,
            "bin_end": 4054104.9644362526,
            "count": 0
           },
           {
            "bin_start": 4054104.9644362526,
            "bin_end": 4057037.0558802155,
            "count": 2
           },
           {
            "bin_start": 4057037.0558802155,
            "bin_end": 4059969.147324179,
            "count": 0
           },
           {
            "bin_start": 4059969.147324179,
            "bin_end": 4062901.238768142,
            "count": 0
           },
           {
            "bin_start": 4062901.238768142,
            "bin_end": 4065833.3302121055,
            "count": 0
           },
           {
            "bin_start": 4065833.3302121055,
            "bin_end": 4068765.421656069,
            "count": 2
           }
          ]
         }
        },
        {
         "name": "DEM",
         "dtype": "int64",
         "stats": {
          "unique_count": 5,
          "nan_count": 0,
          "min": "3070",
          "max": "3402",
          "histogram": [
           {
            "bin_start": 3070,
            "bin_end": 3103.2,
            "count": 2
           },
           {
            "bin_start": 3103.2,
            "bin_end": 3136.4,
            "count": 2
           },
           {
            "bin_start": 3136.4,
            "bin_end": 3169.6,
            "count": 0
           },
           {
            "bin_start": 3169.6,
            "bin_end": 3202.8,
            "count": 0
           },
           {
            "bin_start": 3202.8,
            "bin_end": 3236,
            "count": 0
           },
           {
            "bin_start": 3236,
            "bin_end": 3269.2,
            "count": 0
           },
           {
            "bin_start": 3269.2,
            "bin_end": 3302.4,
            "count": 0
           },
           {
            "bin_start": 3302.4,
            "bin_end": 3335.6,
            "count": 0
           },
           {
            "bin_start": 3335.6,
            "bin_end": 3368.8,
            "count": 0
           },
           {
            "bin_start": 3368.8,
            "bin_end": 3402,
            "count": 1
           }
          ]
         }
        },
        {
         "name": "ASPECT",
         "dtype": "float64",
         "stats": {
          "unique_count": 5,
          "nan_count": 0,
          "min": "68.936554",
          "max": "239.3148346",
          "histogram": [
           {
            "bin_start": 68.936554,
            "bin_end": 85.97438206000001,
            "count": 2
           },
           {
            "bin_start": 85.97438206000001,
            "bin_end": 103.01221012,
            "count": 0
           },
           {
            "bin_start": 103.01221012,
            "bin_end": 120.05003818,
            "count": 0
           },
           {
            "bin_start": 120.05003818,
            "bin_end": 137.08786624,
            "count": 0
           },
           {
            "bin_start": 137.08786624,
            "bin_end": 154.12569430000002,
            "count": 0
           },
           {
            "bin_start": 154.12569430000002,
            "bin_end": 171.16352236,
            "count": 0
           },
           {
            "bin_start": 171.16352236,
            "bin_end": 188.20135042,
            "count": 1
           },
           {
            "bin_start": 188.20135042,
            "bin_end": 205.23917848000002,
            "count": 0
           },
           {
            "bin_start": 205.23917848000002,
            "bin_end": 222.27700654000003,
            "count": 1
           },
           {
            "bin_start": 222.27700654000003,
            "bin_end": 239.3148346,
            "count": 1
           }
          ]
         }
        },
        {
         "name": "SPI",
         "dtype": "float64",
         "stats": {
          "unique_count": 5,
          "nan_count": 0,
          "min": "3.209363",
          "max": "6.1995521",
          "histogram": [
           {
            "bin_start": 3.209363,
            "bin_end": 3.50838191,
            "count": 1
           },
           {
            "bin_start": 3.50838191,
            "bin_end": 3.8074008200000002,
            "count": 1
           },
           {
            "bin_start": 3.8074008200000002,
            "bin_end": 4.10641973,
            "count": 0
           },
           {
            "bin_start": 4.10641973,
            "bin_end": 4.40543864,
            "count": 1
           },
           {
            "bin_start": 4.40543864,
            "bin_end": 4.70445755,
            "count": 1
           },
           {
            "bin_start": 4.70445755,
            "bin_end": 5.00347646,
            "count": 0
           },
           {
            "bin_start": 5.00347646,
            "bin_end": 5.30249537,
            "count": 0
           },
           {
            "bin_start": 5.30249537,
            "bin_end": 5.60151428,
            "count": 0
           },
           {
            "bin_start": 5.60151428,
            "bin_end": 5.90053319,
            "count": 0
           },
           {
            "bin_start": 5.90053319,
            "bin_end": 6.1995521,
            "count": 1
           }
          ]
         }
        },
        {
         "name": "LULC",
         "dtype": "int64",
         "stats": {
          "unique_count": 2,
          "nan_count": 0,
          "min": "2",
          "max": "4",
          "histogram": [
           {
            "bin_start": 2,
            "bin_end": 2.2,
            "count": 4
           },
           {
            "bin_start": 2.2,
            "bin_end": 2.4,
            "count": 0
           },
           {
            "bin_start": 2.4,
            "bin_end": 2.6,
            "count": 0
           },
           {
            "bin_start": 2.6,
            "bin_end": 2.8,
            "count": 0
           },
           {
            "bin_start": 2.8,
            "bin_end": 3,
            "count": 0
           },
           {
            "bin_start": 3,
            "bin_end": 3.2,
            "count": 0
           },
           {
            "bin_start": 3.2,
            "bin_end": 3.4000000000000004,
            "count": 0
           },
           {
            "bin_start": 3.4000000000000004,
            "bin_end": 3.6,
            "count": 0
           },
           {
            "bin_start": 3.6,
            "bin_end": 3.8,
            "count": 0
           },
           {
            "bin_start": 3.8,
            "bin_end": 4,
            "count": 1
           }
          ]
         }
        },
        {
         "name": "GEO",
         "dtype": "int64",
         "stats": {
          "unique_count": 2,
          "nan_count": 0,
          "min": "7",
          "max": "8",
          "histogram": [
           {
            "bin_start": 7,
            "bin_end": 7.1,
            "count": 1
           },
           {
            "bin_start": 7.1,
            "bin_end": 7.2,
            "count": 0
           },
           {
            "bin_start": 7.2,
            "bin_end": 7.3,
            "count": 0
           },
           {
            "bin_start": 7.3,
            "bin_end": 7.4,
            "count": 0
           },
           {
            "bin_start": 7.4,
            "bin_end": 7.5,
            "count": 0
           },
           {
            "bin_start": 7.5,
            "bin_end": 7.6,
            "count": 0
           },
           {
            "bin_start": 7.6,
            "bin_end": 7.7,
            "count": 0
           },
           {
            "bin_start": 7.7,
            "bin_end": 7.8,
            "count": 0
           },
           {
            "bin_start": 7.8,
            "bin_end": 7.9,
            "count": 0
           },
           {
            "bin_start": 7.9,
            "bin_end": 8,
            "count": 4
           }
          ]
         }
        },
        {
         "name": "FAULT",
         "dtype": "int64",
         "stats": {
          "unique_count": 1,
          "nan_count": 0,
          "min": "4",
          "max": "4",
          "histogram": [
           {
            "bin_start": 3.5,
            "bin_end": 3.6,
            "count": 0
           },
           {
            "bin_start": 3.6,
            "bin_end": 3.7,
            "count": 0
           },
           {
            "bin_start": 3.7,
            "bin_end": 3.8,
            "count": 0
           },
           {
            "bin_start": 3.8,
            "bin_end": 3.9,
            "count": 0
           },
           {
            "bin_start": 3.9,
            "bin_end": 4,
            "count": 0
           },
           {
            "bin_start": 4,
            "bin_end": 4.1,
            "count": 5
           },
           {
            "bin_start": 4.1,
            "bin_end": 4.2,
            "count": 0
           },
           {
            "bin_start": 4.2,
            "bin_end": 4.3,
            "count": 0
           },
           {
            "bin_start": 4.3,
            "bin_end": 4.4,
            "count": 0
           },
           {
            "bin_start": 4.4,
            "bin_end": 4.5,
            "count": 0
           }
          ]
         }
        },
        {
         "name": "RAIN",
         "dtype": "int64",
         "stats": {
          "unique_count": 2,
          "nan_count": 0,
          "min": "1",
          "max": "2",
          "histogram": [
           {
            "bin_start": 1,
            "bin_end": 1.1,
            "count": 3
           },
           {
            "bin_start": 1.1,
            "bin_end": 1.2,
            "count": 0
           },
           {
            "bin_start": 1.2,
            "bin_end": 1.3,
            "count": 0
           },
           {
            "bin_start": 1.3,
            "bin_end": 1.4,
            "count": 0
           },
           {
            "bin_start": 1.4,
            "bin_end": 1.5,
            "count": 0
           },
           {
            "bin_start": 1.5,
            "bin_end": 1.6,
            "count": 0
           },
           {
            "bin_start": 1.6,
            "bin_end": 1.7000000000000002,
            "count": 0
           },
           {
            "bin_start": 1.7000000000000002,
            "bin_end": 1.8,
            "count": 0
           },
           {
            "bin_start": 1.8,
            "bin_end": 1.9,
            "count": 0
           },
           {
            "bin_start": 1.9,
            "bin_end": 2,
            "count": 2
           }
          ]
         }
        },
        {
         "name": "RIVER_BUFF",
         "dtype": "int64",
         "stats": {
          "unique_count": 3,
          "nan_count": 0,
          "min": "1",
          "max": "105",
          "histogram": [
           {
            "bin_start": 1,
            "bin_end": 11.4,
            "count": 4
           },
           {
            "bin_start": 11.4,
            "bin_end": 21.8,
            "count": 0
           },
           {
            "bin_start": 21.8,
            "bin_end": 32.2,
            "count": 0
           },
           {
            "bin_start": 32.2,
            "bin_end": 42.6,
            "count": 0
           },
           {
            "bin_start": 42.6,
            "bin_end": 53,
            "count": 0
           },
           {
            "bin_start": 53,
            "bin_end": 63.400000000000006,
            "count": 0
           },
           {
            "bin_start": 63.400000000000006,
            "bin_end": 73.8,
            "count": 0
           },
           {
            "bin_start": 73.8,
            "bin_end": 84.2,
            "count": 0
           },
           {
            "bin_start": 84.2,
            "bin_end": 94.60000000000001,
            "count": 0
           },
           {
            "bin_start": 94.60000000000001,
            "bin_end": 105,
            "count": 1
           }
          ]
         }
        },
        {
         "name": "ROAD_BUFF",
         "dtype": "int64",
         "stats": {
          "unique_count": 2,
          "nan_count": 0,
          "min": "2",
          "max": "105",
          "histogram": [
           {
            "bin_start": 2,
            "bin_end": 12.3,
            "count": 1
           },
           {
            "bin_start": 12.3,
            "bin_end": 22.6,
            "count": 0
           },
           {
            "bin_start": 22.6,
            "bin_end": 32.900000000000006,
            "count": 0
           },
           {
            "bin_start": 32.900000000000006,
            "bin_end": 43.2,
            "count": 0
           },
           {
            "bin_start": 43.2,
            "bin_end": 53.5,
            "count": 0
           },
           {
            "bin_start": 53.5,
            "bin_end": 63.800000000000004,
            "count": 0
           },
           {
            "bin_start": 63.800000000000004,
            "bin_end": 74.10000000000001,
            "count": 0
           },
           {
            "bin_start": 74.10000000000001,
            "bin_end": 84.4,
            "count": 0
           },
           {
            "bin_start": 84.4,
            "bin_end": 94.7,
            "count": 0
           },
           {
            "bin_start": 94.7,
            "bin_end": 105,
            "count": 4
           }
          ]
         }
        },
        {
         "name": "CURVA",
         "dtype": "float64",
         "stats": {
          "unique_count": 5,
          "nan_count": 0,
          "min": "-0.1657047",
          "max": "0.5234393",
          "histogram": [
           {
            "bin_start": -0.1657047,
            "bin_end": -0.0967903,
            "count": 1
           },
           {
            "bin_start": -0.0967903,
            "bin_end": -0.02787589999999998,
            "count": 0
           },
           {
            "bin_start": -0.02787589999999998,
            "bin_end": 0.04103850000000003,
            "count": 1
           },
           {
            "bin_start": 0.04103850000000003,
            "bin_end": 0.10995290000000005,
            "count": 0
           },
           {
            "bin_start": 0.10995290000000005,
            "bin_end": 0.1788673000000001,
            "count": 0
           },
           {
            "bin_start": 0.1788673000000001,
            "bin_end": 0.24778170000000008,
            "count": 1
           },
           {
            "bin_start": 0.24778170000000008,
            "bin_end": 0.31669610000000004,
            "count": 0
           },
           {
            "bin_start": 0.31669610000000004,
            "bin_end": 0.3856105000000001,
            "count": 1
           },
           {
            "bin_start": 0.3856105000000001,
            "bin_end": 0.4545249000000001,
            "count": 0
           },
           {
            "bin_start": 0.4545249000000001,
            "bin_end": 0.5234393,
            "count": 1
           }
          ]
         }
        },
        {
         "name": "TWI",
         "dtype": "float64",
         "stats": {
          "unique_count": 5,
          "nan_count": 0,
          "min": "2.9820273",
          "max": "5.7446456",
          "histogram": [
           {
            "bin_start": 2.9820273,
            "bin_end": 3.25828913,
            "count": 1
           },
           {
            "bin_start": 3.25828913,
            "bin_end": 3.53455096,
            "count": 1
           },
           {
            "bin_start": 3.53455096,
            "bin_end": 3.81081279,
            "count": 0
           },
           {
            "bin_start": 3.81081279,
            "bin_end": 4.08707462,
            "count": 0
           },
           {
            "bin_start": 4.08707462,
            "bin_end": 4.36333645,
            "count": 0
           },
           {
            "bin_start": 4.36333645,
            "bin_end": 4.63959828,
            "count": 0
           },
           {
            "bin_start": 4.63959828,
            "bin_end": 4.915860110000001,
            "count": 1
           },
           {
            "bin_start": 4.915860110000001,
            "bin_end": 5.19212194,
            "count": 1
           },
           {
            "bin_start": 5.19212194,
            "bin_end": 5.468383770000001,
            "count": 0
           },
           {
            "bin_start": 5.468383770000001,
            "bin_end": 5.7446456,
            "count": 1
           }
          ]
         }
        },
        {
         "name": "SLOPE",
         "dtype": "float64",
         "stats": {
          "unique_count": 5,
          "nan_count": 0,
          "min": "31.7457237",
          "max": "54.7479477",
          "histogram": [
           {
            "bin_start": 31.7457237,
            "bin_end": 34.0459461,
            "count": 1
           },
           {
            "bin_start": 34.0459461,
            "bin_end": 36.3461685,
            "count": 0
           },
           {
            "bin_start": 36.3461685,
            "bin_end": 38.6463909,
            "count": 0
           },
           {
            "bin_start": 38.6463909,
            "bin_end": 40.946613299999996,
            "count": 0
           },
           {
            "bin_start": 40.946613299999996,
            "bin_end": 43.2468357,
            "count": 1
           },
           {
            "bin_start": 43.2468357,
            "bin_end": 45.5470581,
            "count": 1
           },
           {
            "bin_start": 45.5470581,
            "bin_end": 47.8472805,
            "count": 0
           },
           {
            "bin_start": 47.8472805,
            "bin_end": 50.1475029,
            "count": 0
           },
           {
            "bin_start": 50.1475029,
            "bin_end": 52.4477253,
            "count": 1
           },
           {
            "bin_start": 52.4477253,
            "bin_end": 54.7479477,
            "count": 1
           }
          ]
         }
        },
        {
         "name": "Landslide",
         "dtype": "int64",
         "stats": {
          "unique_count": 1,
          "nan_count": 0,
          "min": "1",
          "max": "1",
          "histogram": [
           {
            "bin_start": 0.5,
            "bin_end": 0.6,
            "count": 0
           },
           {
            "bin_start": 0.6,
            "bin_end": 0.7,
            "count": 0
           },
           {
            "bin_start": 0.7,
            "bin_end": 0.8,
            "count": 0
           },
           {
            "bin_start": 0.8,
            "bin_end": 0.9,
            "count": 0
           },
           {
            "bin_start": 0.9,
            "bin_end": 1,
            "count": 0
           },
           {
            "bin_start": 1,
            "bin_end": 1.1,
            "count": 5
           },
           {
            "bin_start": 1.1,
            "bin_end": 1.2000000000000002,
            "count": 0
           },
           {
            "bin_start": 1.2000000000000002,
            "bin_end": 1.3,
            "count": 0
           },
           {
            "bin_start": 1.3,
            "bin_end": 1.4,
            "count": 0
           },
           {
            "bin_start": 1.4,
            "bin_end": 1.5,
            "count": 0
           }
          ]
         }
        },
        {
         "name": "_deepnote_index_column",
         "dtype": "int64"
        }
       ],
       "rows": [
        {
         "ID": "nan",
         "Land_poi": 0,
         "X": 493397.47852738266,
         "Y": 4054910.698492207,
         "DEM": 3402,
         "ASPECT": 185.7928009,
         "SPI": 4.2483153,
         "LULC": 2,
         "GEO": 8,
         "FAULT": 4,
         "RAIN": 1,
         "RIVER_BUFF": 105,
         "ROAD_BUFF": 105,
         "CURVA": 0.0367445,
         "TWI": 5.1903563,
         "SLOPE": 31.7457237,
         "Landslide": 1,
         "_deepnote_index_column": 0
        },
        {
         "ID": "nan",
         "Land_poi": 1,
         "X": 484881.6734476933,
         "Y": 4055971.533473897,
         "DEM": 3130,
         "ASPECT": 73.7747269,
         "SPI": 3.209363,
         "LULC": 2,
         "GEO": 8,
         "FAULT": 4,
         "RAIN": 2,
         "RIVER_BUFF": 2,
         "ROAD_BUFF": 2,
         "CURVA": 0.3847047,
         "TWI": 3.4567196,
         "SLOPE": 41.2836189,
         "Landslide": 1,
         "_deepnote_index_column": 1
        },
        {
         "ID": "nan",
         "Land_poi": 2,
         "X": 475180.89340057765,
         "Y": 4066249.5401604255,
         "DEM": 3070,
         "ASPECT": 214.8244934,
         "SPI": 6.1995521,
         "LULC": 2,
         "GEO": 8,
         "FAULT": 4,
         "RAIN": 2,
         "RIVER_BUFF": 1,
         "ROAD_BUFF": 105,
         "CURVA": -0.1657047,
         "TWI": 5.7446456,
         "SLOPE": 51.3346138,
         "Landslide": 1,
         "_deepnote_index_column": 2
        },
        {
         "ID": "nan",
         "Land_poi": 3,
         "X": 473087.6466457734,
         "Y": 4068765.421656069,
         "DEM": 3078,
         "ASPECT": 68.936554,
         "SPI": 3.6840556,
         "LULC": 2,
         "GEO": 8,
         "FAULT": 4,
         "RAIN": 1,
         "RIVER_BUFF": 1,
         "ROAD_BUFF": 105,
         "CURVA": 0.1851503,
         "TWI": 2.9820273,
         "SLOPE": 54.7479477,
         "Landslide": 1,
         "_deepnote_index_column": 3
        },
        {
         "ID": "nan",
         "Land_poi": 4,
         "X": 508983.2838800547,
         "Y": 4039444.507216436,
         "DEM": 3109,
         "ASPECT": 239.3148346,
         "SPI": 4.6676664,
         "LULC": 4,
         "GEO": 7,
         "FAULT": 4,
         "RAIN": 1,
         "RIVER_BUFF": 1,
         "ROAD_BUFF": 105,
         "CURVA": 0.5234393,
         "TWI": 4.7710052,
         "SLOPE": 43.3497849,
         "Landslide": 1,
         "_deepnote_index_column": 4
        }
       ]
      },
      "text/plain": "   ID  Land_poi              X             Y   DEM      ASPECT       SPI  \\\n0 NaN         0  493397.478527  4.054911e+06  3402  185.792801  4.248315   \n1 NaN         1  484881.673448  4.055972e+06  3130   73.774727  3.209363   \n2 NaN         2  475180.893401  4.066250e+06  3070  214.824493  6.199552   \n3 NaN         3  473087.646646  4.068765e+06  3078   68.936554  3.684056   \n4 NaN         4  508983.283880  4.039445e+06  3109  239.314835  4.667666   \n\n   LULC  GEO  FAULT  RAIN  RIVER_BUFF  ROAD_BUFF     CURVA       TWI  \\\n0     2    8      4     1         105        105  0.036744  5.190356   \n1     2    8      4     2           2          2  0.384705  3.456720   \n2     2    8      4     2           1        105 -0.165705  5.744646   \n3     2    8      4     1           1        105  0.185150  2.982027   \n4     4    7      4     1           1        105  0.523439  4.771005   \n\n       SLOPE  Landslide  \n0  31.745724          1  \n1  41.283619          1  \n2  51.334614          1  \n3  54.747948          1  \n4  43.349785          1  ",
      "text/html": "<div>\n<style scoped>\n    .dataframe tbody tr th:only-of-type {\n        vertical-align: middle;\n    }\n\n    .dataframe tbody tr th {\n        vertical-align: top;\n    }\n\n    .dataframe thead th {\n        text-align: right;\n    }\n</style>\n<table border=\"1\" class=\"dataframe\">\n  <thead>\n    <tr style=\"text-align: right;\">\n      <th></th>\n      <th>ID</th>\n      <th>Land_poi</th>\n      <th>X</th>\n      <th>Y</th>\n      <th>DEM</th>\n      <th>ASPECT</th>\n      <th>SPI</th>\n      <th>LULC</th>\n      <th>GEO</th>\n      <th>FAULT</th>\n      <th>RAIN</th>\n      <th>RIVER_BUFF</th>\n      <th>ROAD_BUFF</th>\n      <th>CURVA</th>\n      <th>TWI</th>\n      <th>SLOPE</th>\n      <th>Landslide</th>\n    </tr>\n  </thead>\n  <tbody>\n    <tr>\n      <th>0</th>\n      <td>NaN</td>\n      <td>0</td>\n      <td>493397.478527</td>\n      <td>4.054911e+06</td>\n      <td>3402</td>\n      <td>185.792801</td>\n      <td>4.248315</td>\n      <td>2</td>\n      <td>8</td>\n      <td>4</td>\n      <td>1</td>\n      <td>105</td>\n      <td>105</td>\n      <td>0.036744</td>\n      <td>5.190356</td>\n      <td>31.745724</td>\n      <td>1</td>\n    </tr>\n    <tr>\n      <th>1</th>\n      <td>NaN</td>\n      <td>1</td>\n      <td>484881.673448</td>\n      <td>4.055972e+06</td>\n      <td>3130</td>\n      <td>73.774727</td>\n      <td>3.209363</td>\n      <td>2</td>\n      <td>8</td>\n      <td>4</td>\n      <td>2</td>\n      <td>2</td>\n      <td>2</td>\n      <td>0.384705</td>\n      <td>3.456720</td>\n      <td>41.283619</td>\n      <td>1</td>\n    </tr>\n    <tr>\n      <th>2</th>\n      <td>NaN</td>\n      <td>2</td>\n      <td>475180.893401</td>\n      <td>4.066250e+06</td>\n      <td>3070</td>\n      <td>214.824493</td>\n      <td>6.199552</td>\n      <td>2</td>\n      <td>8</td>\n      <td>4</td>\n      <td>2</td>\n      <td>1</td>\n      <td>105</td>\n      <td>-0.165705</td>\n      <td>5.744646</td>\n      <td>51.334614</td>\n      <td>1</td>\n    </tr>\n    <tr>\n      <th>3</th>\n      <td>NaN</td>\n      <td>3</td>\n      <td>473087.646646</td>\n      <td>4.068765e+06</td>\n      <td>3078</td>\n      <td>68.936554</td>\n      <td>3.684056</td>\n      <td>2</td>\n      <td>8</td>\n      <td>4</td>\n      <td>1</td>\n      <td>1</td>\n      <td>105</td>\n      <td>0.185150</td>\n      <td>2.982027</td>\n      <td>54.747948</td>\n      <td>1</td>\n    </tr>\n    <tr>\n      <th>4</th>\n      <td>NaN</td>\n      <td>4</td>\n      <td>508983.283880</td>\n      <td>4.039445e+06</td>\n      <td>3109</td>\n      <td>239.314835</td>\n      <td>4.667666</td>\n      <td>4</td>\n      <td>7</td>\n      <td>4</td>\n      <td>1</td>\n      <td>1</td>\n      <td>105</td>\n      <td>0.523439</td>\n      <td>4.771005</td>\n      <td>43.349785</td>\n      <td>1</td>\n    </tr>\n  </tbody>\n</table>\n</div>"
     },
     "metadata": {}
    }
   ]
  },
  {
   "cell_type": "code",
   "metadata": {
    "cell_id": "141fb8243a924c8bbf6c3ace63a6749a",
    "tags": [],
    "deepnote_to_be_reexecuted": false,
    "source_hash": "960ee606",
    "execution_start": 1649573657722,
    "execution_millis": 1,
    "deepnote_app_coordinates": {
     "x": 0,
     "y": 135,
     "w": 12,
     "h": 5
    },
    "deepnote_cell_type": "code",
    "deepnote_cell_height": 80.60000610351562
   },
   "source": "df_land=df_land.drop(['ID'], axis = 1) #drop extra column",
   "execution_count": null,
   "outputs": []
  },
  {
   "cell_type": "code",
   "metadata": {
    "cell_id": "00007-34e07318-eb5c-4174-8d09-7024275b2947",
    "deepnote_to_be_reexecuted": false,
    "source_hash": "1ec03142",
    "execution_start": 1649573661832,
    "execution_millis": 13,
    "deepnote_app_coordinates": {
     "x": 0,
     "y": 42,
     "w": 12,
     "h": 5
    },
    "deepnote_cell_type": "code",
    "deepnote_cell_height": 80.60000610351562
   },
   "source": "df_land.to_csv ('/work/land_poi.csv', index=None) # now save the changed dataframe to a csv again, this will overwrite the exisiting one",
   "execution_count": null,
   "outputs": []
  },
  {
   "cell_type": "code",
   "metadata": {
    "cell_id": "00008-177d0027-685b-487d-98de-0b1cf64a87a7",
    "deepnote_to_be_reexecuted": false,
    "source_hash": "be0b4933",
    "execution_start": 1649573665323,
    "execution_millis": 74,
    "deepnote_app_coordinates": {
     "x": 0,
     "y": 48,
     "w": 12,
     "h": 5
    },
    "deepnote_cell_type": "code",
    "deepnote_cell_height": 447
   },
   "source": "#read that newly saved csv file\ndf_land=pd.read_csv('/work/land_poi.csv') \ndf_land.head() # all changes made are now saved in csv file",
   "execution_count": null,
   "outputs": [
    {
     "output_type": "execute_result",
     "execution_count": 13,
     "data": {
      "application/vnd.deepnote.dataframe.v3+json": {
       "column_count": 16,
       "row_count": 5,
       "columns": [
        {
         "name": "Land_poi",
         "dtype": "int64",
         "stats": {
          "unique_count": 5,
          "nan_count": 0,
          "min": "0",
          "max": "4",
          "histogram": [
           {
            "bin_start": 0,
            "bin_end": 0.4,
            "count": 1
           },
           {
            "bin_start": 0.4,
            "bin_end": 0.8,
            "count": 0
           },
           {
            "bin_start": 0.8,
            "bin_end": 1.2000000000000002,
            "count": 1
           },
           {
            "bin_start": 1.2000000000000002,
            "bin_end": 1.6,
            "count": 0
           },
           {
            "bin_start": 1.6,
            "bin_end": 2,
            "count": 0
           },
           {
            "bin_start": 2,
            "bin_end": 2.4000000000000004,
            "count": 1
           },
           {
            "bin_start": 2.4000000000000004,
            "bin_end": 2.8000000000000003,
            "count": 0
           },
           {
            "bin_start": 2.8000000000000003,
            "bin_end": 3.2,
            "count": 1
           },
           {
            "bin_start": 3.2,
            "bin_end": 3.6,
            "count": 0
           },
           {
            "bin_start": 3.6,
            "bin_end": 4,
            "count": 1
           }
          ]
         }
        },
        {
         "name": "X",
         "dtype": "float64",
         "stats": {
          "unique_count": 5,
          "nan_count": 0,
          "min": "473087.6466457734",
          "max": "508983.2838800547",
          "histogram": [
           {
            "bin_start": 473087.6466457734,
            "bin_end": 476677.2103692015,
            "count": 2
           },
           {
            "bin_start": 476677.2103692015,
            "bin_end": 480266.77409262967,
            "count": 0
           },
           {
            "bin_start": 480266.77409262967,
            "bin_end": 483856.3378160578,
            "count": 0
           },
           {
            "bin_start": 483856.3378160578,
            "bin_end": 487445.9015394859,
            "count": 1
           },
           {
            "bin_start": 487445.9015394859,
            "bin_end": 491035.4652629141,
            "count": 0
           },
           {
            "bin_start": 491035.4652629141,
            "bin_end": 494625.0289863422,
            "count": 1
           },
           {
            "bin_start": 494625.0289863422,
            "bin_end": 498214.5927097703,
            "count": 0
           },
           {
            "bin_start": 498214.5927097703,
            "bin_end": 501804.1564331984,
            "count": 0
           },
           {
            "bin_start": 501804.1564331984,
            "bin_end": 505393.7201566266,
            "count": 0
           },
           {
            "bin_start": 505393.7201566266,
            "bin_end": 508983.2838800547,
            "count": 1
           }
          ]
         }
        },
        {
         "name": "Y",
         "dtype": "float64",
         "stats": {
          "unique_count": 5,
          "nan_count": 0,
          "min": "4039444.507216436",
          "max": "4068765.421656069",
          "histogram": [
           {
            "bin_start": 4039444.507216436,
            "bin_end": 4042376.598660399,
            "count": 1
           },
           {
            "bin_start": 4042376.598660399,
            "bin_end": 4045308.6901043626,
            "count": 0
           },
           {
            "bin_start": 4045308.6901043626,
            "bin_end": 4048240.781548326,
            "count": 0
           },
           {
            "bin_start": 4048240.781548326,
            "bin_end": 4051172.8729922893,
            "count": 0
           },
           {
            "bin_start": 4051172.8729922893,
            "bin_end": 4054104.9644362526,
            "count": 0
           },
           {
            "bin_start": 4054104.9644362526,
            "bin_end": 4057037.0558802155,
            "count": 2
           },
           {
            "bin_start": 4057037.0558802155,
            "bin_end": 4059969.147324179,
            "count": 0
           },
           {
            "bin_start": 4059969.147324179,
            "bin_end": 4062901.238768142,
            "count": 0
           },
           {
            "bin_start": 4062901.238768142,
            "bin_end": 4065833.3302121055,
            "count": 0
           },
           {
            "bin_start": 4065833.3302121055,
            "bin_end": 4068765.421656069,
            "count": 2
           }
          ]
         }
        },
        {
         "name": "DEM",
         "dtype": "int64",
         "stats": {
          "unique_count": 5,
          "nan_count": 0,
          "min": "3070",
          "max": "3402",
          "histogram": [
           {
            "bin_start": 3070,
            "bin_end": 3103.2,
            "count": 2
           },
           {
            "bin_start": 3103.2,
            "bin_end": 3136.4,
            "count": 2
           },
           {
            "bin_start": 3136.4,
            "bin_end": 3169.6,
            "count": 0
           },
           {
            "bin_start": 3169.6,
            "bin_end": 3202.8,
            "count": 0
           },
           {
            "bin_start": 3202.8,
            "bin_end": 3236,
            "count": 0
           },
           {
            "bin_start": 3236,
            "bin_end": 3269.2,
            "count": 0
           },
           {
            "bin_start": 3269.2,
            "bin_end": 3302.4,
            "count": 0
           },
           {
            "bin_start": 3302.4,
            "bin_end": 3335.6,
            "count": 0
           },
           {
            "bin_start": 3335.6,
            "bin_end": 3368.8,
            "count": 0
           },
           {
            "bin_start": 3368.8,
            "bin_end": 3402,
            "count": 1
           }
          ]
         }
        },
        {
         "name": "ASPECT",
         "dtype": "float64",
         "stats": {
          "unique_count": 5,
          "nan_count": 0,
          "min": "68.936554",
          "max": "239.3148346",
          "histogram": [
           {
            "bin_start": 68.936554,
            "bin_end": 85.97438206000001,
            "count": 2
           },
           {
            "bin_start": 85.97438206000001,
            "bin_end": 103.01221012,
            "count": 0
           },
           {
            "bin_start": 103.01221012,
            "bin_end": 120.05003818,
            "count": 0
           },
           {
            "bin_start": 120.05003818,
            "bin_end": 137.08786624,
            "count": 0
           },
           {
            "bin_start": 137.08786624,
            "bin_end": 154.12569430000002,
            "count": 0
           },
           {
            "bin_start": 154.12569430000002,
            "bin_end": 171.16352236,
            "count": 0
           },
           {
            "bin_start": 171.16352236,
            "bin_end": 188.20135042,
            "count": 1
           },
           {
            "bin_start": 188.20135042,
            "bin_end": 205.23917848000002,
            "count": 0
           },
           {
            "bin_start": 205.23917848000002,
            "bin_end": 222.27700654000003,
            "count": 1
           },
           {
            "bin_start": 222.27700654000003,
            "bin_end": 239.3148346,
            "count": 1
           }
          ]
         }
        },
        {
         "name": "SPI",
         "dtype": "float64",
         "stats": {
          "unique_count": 5,
          "nan_count": 0,
          "min": "3.209363",
          "max": "6.1995521",
          "histogram": [
           {
            "bin_start": 3.209363,
            "bin_end": 3.50838191,
            "count": 1
           },
           {
            "bin_start": 3.50838191,
            "bin_end": 3.8074008200000002,
            "count": 1
           },
           {
            "bin_start": 3.8074008200000002,
            "bin_end": 4.10641973,
            "count": 0
           },
           {
            "bin_start": 4.10641973,
            "bin_end": 4.40543864,
            "count": 1
           },
           {
            "bin_start": 4.40543864,
            "bin_end": 4.70445755,
            "count": 1
           },
           {
            "bin_start": 4.70445755,
            "bin_end": 5.00347646,
            "count": 0
           },
           {
            "bin_start": 5.00347646,
            "bin_end": 5.30249537,
            "count": 0
           },
           {
            "bin_start": 5.30249537,
            "bin_end": 5.60151428,
            "count": 0
           },
           {
            "bin_start": 5.60151428,
            "bin_end": 5.90053319,
            "count": 0
           },
           {
            "bin_start": 5.90053319,
            "bin_end": 6.1995521,
            "count": 1
           }
          ]
         }
        },
        {
         "name": "LULC",
         "dtype": "int64",
         "stats": {
          "unique_count": 2,
          "nan_count": 0,
          "min": "2",
          "max": "4",
          "histogram": [
           {
            "bin_start": 2,
            "bin_end": 2.2,
            "count": 4
           },
           {
            "bin_start": 2.2,
            "bin_end": 2.4,
            "count": 0
           },
           {
            "bin_start": 2.4,
            "bin_end": 2.6,
            "count": 0
           },
           {
            "bin_start": 2.6,
            "bin_end": 2.8,
            "count": 0
           },
           {
            "bin_start": 2.8,
            "bin_end": 3,
            "count": 0
           },
           {
            "bin_start": 3,
            "bin_end": 3.2,
            "count": 0
           },
           {
            "bin_start": 3.2,
            "bin_end": 3.4000000000000004,
            "count": 0
           },
           {
            "bin_start": 3.4000000000000004,
            "bin_end": 3.6,
            "count": 0
           },
           {
            "bin_start": 3.6,
            "bin_end": 3.8,
            "count": 0
           },
           {
            "bin_start": 3.8,
            "bin_end": 4,
            "count": 1
           }
          ]
         }
        },
        {
         "name": "GEO",
         "dtype": "int64",
         "stats": {
          "unique_count": 2,
          "nan_count": 0,
          "min": "7",
          "max": "8",
          "histogram": [
           {
            "bin_start": 7,
            "bin_end": 7.1,
            "count": 1
           },
           {
            "bin_start": 7.1,
            "bin_end": 7.2,
            "count": 0
           },
           {
            "bin_start": 7.2,
            "bin_end": 7.3,
            "count": 0
           },
           {
            "bin_start": 7.3,
            "bin_end": 7.4,
            "count": 0
           },
           {
            "bin_start": 7.4,
            "bin_end": 7.5,
            "count": 0
           },
           {
            "bin_start": 7.5,
            "bin_end": 7.6,
            "count": 0
           },
           {
            "bin_start": 7.6,
            "bin_end": 7.7,
            "count": 0
           },
           {
            "bin_start": 7.7,
            "bin_end": 7.8,
            "count": 0
           },
           {
            "bin_start": 7.8,
            "bin_end": 7.9,
            "count": 0
           },
           {
            "bin_start": 7.9,
            "bin_end": 8,
            "count": 4
           }
          ]
         }
        },
        {
         "name": "FAULT",
         "dtype": "int64",
         "stats": {
          "unique_count": 1,
          "nan_count": 0,
          "min": "4",
          "max": "4",
          "histogram": [
           {
            "bin_start": 3.5,
            "bin_end": 3.6,
            "count": 0
           },
           {
            "bin_start": 3.6,
            "bin_end": 3.7,
            "count": 0
           },
           {
            "bin_start": 3.7,
            "bin_end": 3.8,
            "count": 0
           },
           {
            "bin_start": 3.8,
            "bin_end": 3.9,
            "count": 0
           },
           {
            "bin_start": 3.9,
            "bin_end": 4,
            "count": 0
           },
           {
            "bin_start": 4,
            "bin_end": 4.1,
            "count": 5
           },
           {
            "bin_start": 4.1,
            "bin_end": 4.2,
            "count": 0
           },
           {
            "bin_start": 4.2,
            "bin_end": 4.3,
            "count": 0
           },
           {
            "bin_start": 4.3,
            "bin_end": 4.4,
            "count": 0
           },
           {
            "bin_start": 4.4,
            "bin_end": 4.5,
            "count": 0
           }
          ]
         }
        },
        {
         "name": "RAIN",
         "dtype": "int64",
         "stats": {
          "unique_count": 2,
          "nan_count": 0,
          "min": "1",
          "max": "2",
          "histogram": [
           {
            "bin_start": 1,
            "bin_end": 1.1,
            "count": 3
           },
           {
            "bin_start": 1.1,
            "bin_end": 1.2,
            "count": 0
           },
           {
            "bin_start": 1.2,
            "bin_end": 1.3,
            "count": 0
           },
           {
            "bin_start": 1.3,
            "bin_end": 1.4,
            "count": 0
           },
           {
            "bin_start": 1.4,
            "bin_end": 1.5,
            "count": 0
           },
           {
            "bin_start": 1.5,
            "bin_end": 1.6,
            "count": 0
           },
           {
            "bin_start": 1.6,
            "bin_end": 1.7000000000000002,
            "count": 0
           },
           {
            "bin_start": 1.7000000000000002,
            "bin_end": 1.8,
            "count": 0
           },
           {
            "bin_start": 1.8,
            "bin_end": 1.9,
            "count": 0
           },
           {
            "bin_start": 1.9,
            "bin_end": 2,
            "count": 2
           }
          ]
         }
        },
        {
         "name": "RIVER_BUFF",
         "dtype": "int64",
         "stats": {
          "unique_count": 3,
          "nan_count": 0,
          "min": "1",
          "max": "105",
          "histogram": [
           {
            "bin_start": 1,
            "bin_end": 11.4,
            "count": 4
           },
           {
            "bin_start": 11.4,
            "bin_end": 21.8,
            "count": 0
           },
           {
            "bin_start": 21.8,
            "bin_end": 32.2,
            "count": 0
           },
           {
            "bin_start": 32.2,
            "bin_end": 42.6,
            "count": 0
           },
           {
            "bin_start": 42.6,
            "bin_end": 53,
            "count": 0
           },
           {
            "bin_start": 53,
            "bin_end": 63.400000000000006,
            "count": 0
           },
           {
            "bin_start": 63.400000000000006,
            "bin_end": 73.8,
            "count": 0
           },
           {
            "bin_start": 73.8,
            "bin_end": 84.2,
            "count": 0
           },
           {
            "bin_start": 84.2,
            "bin_end": 94.60000000000001,
            "count": 0
           },
           {
            "bin_start": 94.60000000000001,
            "bin_end": 105,
            "count": 1
           }
          ]
         }
        },
        {
         "name": "ROAD_BUFF",
         "dtype": "int64",
         "stats": {
          "unique_count": 2,
          "nan_count": 0,
          "min": "2",
          "max": "105",
          "histogram": [
           {
            "bin_start": 2,
            "bin_end": 12.3,
            "count": 1
           },
           {
            "bin_start": 12.3,
            "bin_end": 22.6,
            "count": 0
           },
           {
            "bin_start": 22.6,
            "bin_end": 32.900000000000006,
            "count": 0
           },
           {
            "bin_start": 32.900000000000006,
            "bin_end": 43.2,
            "count": 0
           },
           {
            "bin_start": 43.2,
            "bin_end": 53.5,
            "count": 0
           },
           {
            "bin_start": 53.5,
            "bin_end": 63.800000000000004,
            "count": 0
           },
           {
            "bin_start": 63.800000000000004,
            "bin_end": 74.10000000000001,
            "count": 0
           },
           {
            "bin_start": 74.10000000000001,
            "bin_end": 84.4,
            "count": 0
           },
           {
            "bin_start": 84.4,
            "bin_end": 94.7,
            "count": 0
           },
           {
            "bin_start": 94.7,
            "bin_end": 105,
            "count": 4
           }
          ]
         }
        },
        {
         "name": "CURVA",
         "dtype": "float64",
         "stats": {
          "unique_count": 5,
          "nan_count": 0,
          "min": "-0.1657047",
          "max": "0.5234393",
          "histogram": [
           {
            "bin_start": -0.1657047,
            "bin_end": -0.0967903,
            "count": 1
           },
           {
            "bin_start": -0.0967903,
            "bin_end": -0.02787589999999998,
            "count": 0
           },
           {
            "bin_start": -0.02787589999999998,
            "bin_end": 0.04103850000000003,
            "count": 1
           },
           {
            "bin_start": 0.04103850000000003,
            "bin_end": 0.10995290000000005,
            "count": 0
           },
           {
            "bin_start": 0.10995290000000005,
            "bin_end": 0.1788673000000001,
            "count": 0
           },
           {
            "bin_start": 0.1788673000000001,
            "bin_end": 0.24778170000000008,
            "count": 1
           },
           {
            "bin_start": 0.24778170000000008,
            "bin_end": 0.31669610000000004,
            "count": 0
           },
           {
            "bin_start": 0.31669610000000004,
            "bin_end": 0.3856105000000001,
            "count": 1
           },
           {
            "bin_start": 0.3856105000000001,
            "bin_end": 0.4545249000000001,
            "count": 0
           },
           {
            "bin_start": 0.4545249000000001,
            "bin_end": 0.5234393,
            "count": 1
           }
          ]
         }
        },
        {
         "name": "TWI",
         "dtype": "float64",
         "stats": {
          "unique_count": 5,
          "nan_count": 0,
          "min": "2.9820273",
          "max": "5.7446456",
          "histogram": [
           {
            "bin_start": 2.9820273,
            "bin_end": 3.25828913,
            "count": 1
           },
           {
            "bin_start": 3.25828913,
            "bin_end": 3.53455096,
            "count": 1
           },
           {
            "bin_start": 3.53455096,
            "bin_end": 3.81081279,
            "count": 0
           },
           {
            "bin_start": 3.81081279,
            "bin_end": 4.08707462,
            "count": 0
           },
           {
            "bin_start": 4.08707462,
            "bin_end": 4.36333645,
            "count": 0
           },
           {
            "bin_start": 4.36333645,
            "bin_end": 4.63959828,
            "count": 0
           },
           {
            "bin_start": 4.63959828,
            "bin_end": 4.915860110000001,
            "count": 1
           },
           {
            "bin_start": 4.915860110000001,
            "bin_end": 5.19212194,
            "count": 1
           },
           {
            "bin_start": 5.19212194,
            "bin_end": 5.468383770000001,
            "count": 0
           },
           {
            "bin_start": 5.468383770000001,
            "bin_end": 5.7446456,
            "count": 1
           }
          ]
         }
        },
        {
         "name": "SLOPE",
         "dtype": "float64",
         "stats": {
          "unique_count": 5,
          "nan_count": 0,
          "min": "31.7457237",
          "max": "54.7479477",
          "histogram": [
           {
            "bin_start": 31.7457237,
            "bin_end": 34.0459461,
            "count": 1
           },
           {
            "bin_start": 34.0459461,
            "bin_end": 36.3461685,
            "count": 0
           },
           {
            "bin_start": 36.3461685,
            "bin_end": 38.6463909,
            "count": 0
           },
           {
            "bin_start": 38.6463909,
            "bin_end": 40.946613299999996,
            "count": 0
           },
           {
            "bin_start": 40.946613299999996,
            "bin_end": 43.2468357,
            "count": 1
           },
           {
            "bin_start": 43.2468357,
            "bin_end": 45.5470581,
            "count": 1
           },
           {
            "bin_start": 45.5470581,
            "bin_end": 47.8472805,
            "count": 0
           },
           {
            "bin_start": 47.8472805,
            "bin_end": 50.1475029,
            "count": 0
           },
           {
            "bin_start": 50.1475029,
            "bin_end": 52.4477253,
            "count": 1
           },
           {
            "bin_start": 52.4477253,
            "bin_end": 54.7479477,
            "count": 1
           }
          ]
         }
        },
        {
         "name": "Landslide",
         "dtype": "int64",
         "stats": {
          "unique_count": 1,
          "nan_count": 0,
          "min": "1",
          "max": "1",
          "histogram": [
           {
            "bin_start": 0.5,
            "bin_end": 0.6,
            "count": 0
           },
           {
            "bin_start": 0.6,
            "bin_end": 0.7,
            "count": 0
           },
           {
            "bin_start": 0.7,
            "bin_end": 0.8,
            "count": 0
           },
           {
            "bin_start": 0.8,
            "bin_end": 0.9,
            "count": 0
           },
           {
            "bin_start": 0.9,
            "bin_end": 1,
            "count": 0
           },
           {
            "bin_start": 1,
            "bin_end": 1.1,
            "count": 5
           },
           {
            "bin_start": 1.1,
            "bin_end": 1.2000000000000002,
            "count": 0
           },
           {
            "bin_start": 1.2000000000000002,
            "bin_end": 1.3,
            "count": 0
           },
           {
            "bin_start": 1.3,
            "bin_end": 1.4,
            "count": 0
           },
           {
            "bin_start": 1.4,
            "bin_end": 1.5,
            "count": 0
           }
          ]
         }
        },
        {
         "name": "_deepnote_index_column",
         "dtype": "int64"
        }
       ],
       "rows": [
        {
         "Land_poi": 0,
         "X": 493397.47852738266,
         "Y": 4054910.698492207,
         "DEM": 3402,
         "ASPECT": 185.7928009,
         "SPI": 4.2483153,
         "LULC": 2,
         "GEO": 8,
         "FAULT": 4,
         "RAIN": 1,
         "RIVER_BUFF": 105,
         "ROAD_BUFF": 105,
         "CURVA": 0.0367445,
         "TWI": 5.1903563,
         "SLOPE": 31.7457237,
         "Landslide": 1,
         "_deepnote_index_column": 0
        },
        {
         "Land_poi": 1,
         "X": 484881.6734476933,
         "Y": 4055971.533473897,
         "DEM": 3130,
         "ASPECT": 73.7747269,
         "SPI": 3.209363,
         "LULC": 2,
         "GEO": 8,
         "FAULT": 4,
         "RAIN": 2,
         "RIVER_BUFF": 2,
         "ROAD_BUFF": 2,
         "CURVA": 0.3847047,
         "TWI": 3.4567196,
         "SLOPE": 41.2836189,
         "Landslide": 1,
         "_deepnote_index_column": 1
        },
        {
         "Land_poi": 2,
         "X": 475180.89340057765,
         "Y": 4066249.5401604255,
         "DEM": 3070,
         "ASPECT": 214.8244934,
         "SPI": 6.1995521,
         "LULC": 2,
         "GEO": 8,
         "FAULT": 4,
         "RAIN": 2,
         "RIVER_BUFF": 1,
         "ROAD_BUFF": 105,
         "CURVA": -0.1657047,
         "TWI": 5.7446456,
         "SLOPE": 51.3346138,
         "Landslide": 1,
         "_deepnote_index_column": 2
        },
        {
         "Land_poi": 3,
         "X": 473087.6466457734,
         "Y": 4068765.421656069,
         "DEM": 3078,
         "ASPECT": 68.936554,
         "SPI": 3.6840556,
         "LULC": 2,
         "GEO": 8,
         "FAULT": 4,
         "RAIN": 1,
         "RIVER_BUFF": 1,
         "ROAD_BUFF": 105,
         "CURVA": 0.1851503,
         "TWI": 2.9820273,
         "SLOPE": 54.7479477,
         "Landslide": 1,
         "_deepnote_index_column": 3
        },
        {
         "Land_poi": 4,
         "X": 508983.2838800547,
         "Y": 4039444.507216436,
         "DEM": 3109,
         "ASPECT": 239.3148346,
         "SPI": 4.6676664,
         "LULC": 4,
         "GEO": 7,
         "FAULT": 4,
         "RAIN": 1,
         "RIVER_BUFF": 1,
         "ROAD_BUFF": 105,
         "CURVA": 0.5234393,
         "TWI": 4.7710052,
         "SLOPE": 43.3497849,
         "Landslide": 1,
         "_deepnote_index_column": 4
        }
       ]
      },
      "text/plain": "   Land_poi              X             Y   DEM      ASPECT       SPI  LULC  \\\n0         0  493397.478527  4.054911e+06  3402  185.792801  4.248315     2   \n1         1  484881.673448  4.055972e+06  3130   73.774727  3.209363     2   \n2         2  475180.893401  4.066250e+06  3070  214.824493  6.199552     2   \n3         3  473087.646646  4.068765e+06  3078   68.936554  3.684056     2   \n4         4  508983.283880  4.039445e+06  3109  239.314835  4.667666     4   \n\n   GEO  FAULT  RAIN  RIVER_BUFF  ROAD_BUFF     CURVA       TWI      SLOPE  \\\n0    8      4     1         105        105  0.036744  5.190356  31.745724   \n1    8      4     2           2          2  0.384705  3.456720  41.283619   \n2    8      4     2           1        105 -0.165705  5.744646  51.334614   \n3    8      4     1           1        105  0.185150  2.982027  54.747948   \n4    7      4     1           1        105  0.523439  4.771005  43.349785   \n\n   Landslide  \n0          1  \n1          1  \n2          1  \n3          1  \n4          1  ",
      "text/html": "<div>\n<style scoped>\n    .dataframe tbody tr th:only-of-type {\n        vertical-align: middle;\n    }\n\n    .dataframe tbody tr th {\n        vertical-align: top;\n    }\n\n    .dataframe thead th {\n        text-align: right;\n    }\n</style>\n<table border=\"1\" class=\"dataframe\">\n  <thead>\n    <tr style=\"text-align: right;\">\n      <th></th>\n      <th>Land_poi</th>\n      <th>X</th>\n      <th>Y</th>\n      <th>DEM</th>\n      <th>ASPECT</th>\n      <th>SPI</th>\n      <th>LULC</th>\n      <th>GEO</th>\n      <th>FAULT</th>\n      <th>RAIN</th>\n      <th>RIVER_BUFF</th>\n      <th>ROAD_BUFF</th>\n      <th>CURVA</th>\n      <th>TWI</th>\n      <th>SLOPE</th>\n      <th>Landslide</th>\n    </tr>\n  </thead>\n  <tbody>\n    <tr>\n      <th>0</th>\n      <td>0</td>\n      <td>493397.478527</td>\n      <td>4.054911e+06</td>\n      <td>3402</td>\n      <td>185.792801</td>\n      <td>4.248315</td>\n      <td>2</td>\n      <td>8</td>\n      <td>4</td>\n      <td>1</td>\n      <td>105</td>\n      <td>105</td>\n      <td>0.036744</td>\n      <td>5.190356</td>\n      <td>31.745724</td>\n      <td>1</td>\n    </tr>\n    <tr>\n      <th>1</th>\n      <td>1</td>\n      <td>484881.673448</td>\n      <td>4.055972e+06</td>\n      <td>3130</td>\n      <td>73.774727</td>\n      <td>3.209363</td>\n      <td>2</td>\n      <td>8</td>\n      <td>4</td>\n      <td>2</td>\n      <td>2</td>\n      <td>2</td>\n      <td>0.384705</td>\n      <td>3.456720</td>\n      <td>41.283619</td>\n      <td>1</td>\n    </tr>\n    <tr>\n      <th>2</th>\n      <td>2</td>\n      <td>475180.893401</td>\n      <td>4.066250e+06</td>\n      <td>3070</td>\n      <td>214.824493</td>\n      <td>6.199552</td>\n      <td>2</td>\n      <td>8</td>\n      <td>4</td>\n      <td>2</td>\n      <td>1</td>\n      <td>105</td>\n      <td>-0.165705</td>\n      <td>5.744646</td>\n      <td>51.334614</td>\n      <td>1</td>\n    </tr>\n    <tr>\n      <th>3</th>\n      <td>3</td>\n      <td>473087.646646</td>\n      <td>4.068765e+06</td>\n      <td>3078</td>\n      <td>68.936554</td>\n      <td>3.684056</td>\n      <td>2</td>\n      <td>8</td>\n      <td>4</td>\n      <td>1</td>\n      <td>1</td>\n      <td>105</td>\n      <td>0.185150</td>\n      <td>2.982027</td>\n      <td>54.747948</td>\n      <td>1</td>\n    </tr>\n    <tr>\n      <th>4</th>\n      <td>4</td>\n      <td>508983.283880</td>\n      <td>4.039445e+06</td>\n      <td>3109</td>\n      <td>239.314835</td>\n      <td>4.667666</td>\n      <td>4</td>\n      <td>7</td>\n      <td>4</td>\n      <td>1</td>\n      <td>1</td>\n      <td>105</td>\n      <td>0.523439</td>\n      <td>4.771005</td>\n      <td>43.349785</td>\n      <td>1</td>\n    </tr>\n  </tbody>\n</table>\n</div>"
     },
     "metadata": {}
    }
   ]
  },
  {
   "cell_type": "markdown",
   "source": "## Non_landslide point values",
   "metadata": {
    "cell_id": "00009-3cd690d9-86a3-4ba9-9e48-c3da1aaaecc8",
    "deepnote_app_coordinates": {
     "x": 0,
     "y": 54,
     "w": 12,
     "h": 5
    },
    "deepnote_cell_type": "markdown",
    "deepnote_cell_height": 69.60000610351562
   }
  },
  {
   "cell_type": "code",
   "metadata": {
    "cell_id": "00010-6d1b96d6-567d-4272-aecb-feaa90da19dc",
    "deepnote_to_be_reexecuted": false,
    "source_hash": "6094e302",
    "execution_start": 1649573758665,
    "execution_millis": 0,
    "deepnote_app_coordinates": {
     "x": 0,
     "y": 60,
     "w": 12,
     "h": 5
    },
    "deepnote_cell_type": "code",
    "deepnote_cell_height": 116.60000610351562
   },
   "source": "# now upload the txt file for non-landslide point values extracted from all factor raster maps\nread_file = pd.read_csv ('/work/non_land_poi.txt',delimiter=',')\nread_file.to_csv ('/work/non_land_poi.csv', index=None)",
   "execution_count": null,
   "outputs": []
  },
  {
   "cell_type": "code",
   "metadata": {
    "scrolled": true,
    "cell_id": "00011-13cddeab-14d3-47c9-b2ca-e9b974e3d85a",
    "deepnote_to_be_reexecuted": false,
    "source_hash": "62fb2388",
    "execution_start": 1649573849635,
    "execution_millis": 101,
    "deepnote_app_coordinates": {
     "x": 0,
     "y": 66,
     "w": 12,
     "h": 5
    },
    "deepnote_cell_type": "code",
    "deepnote_cell_height": 429
   },
   "source": "df_non_land=pd.read_csv('/work/non_land_poi.csv')\ndf_non_land.head()",
   "execution_count": null,
   "outputs": [
    {
     "output_type": "execute_result",
     "execution_count": 15,
     "data": {
      "application/vnd.deepnote.dataframe.v3+json": {
       "column_count": 16,
       "row_count": 5,
       "columns": [
        {
         "name": "Rowid_",
         "dtype": "float64",
         "stats": {
          "unique_count": 0,
          "nan_count": 5,
          "min": null,
          "max": null,
          "histogram": [
           {
            "bin_start": 0,
            "bin_end": 0.1,
            "count": 0
           },
           {
            "bin_start": 0.1,
            "bin_end": 0.2,
            "count": 0
           },
           {
            "bin_start": 0.2,
            "bin_end": 0.30000000000000004,
            "count": 0
           },
           {
            "bin_start": 0.30000000000000004,
            "bin_end": 0.4,
            "count": 0
           },
           {
            "bin_start": 0.4,
            "bin_end": 0.5,
            "count": 0
           },
           {
            "bin_start": 0.5,
            "bin_end": 0.6000000000000001,
            "count": 0
           },
           {
            "bin_start": 0.6000000000000001,
            "bin_end": 0.7000000000000001,
            "count": 0
           },
           {
            "bin_start": 0.7000000000000001,
            "bin_end": 0.8,
            "count": 0
           },
           {
            "bin_start": 0.8,
            "bin_end": 0.9,
            "count": 0
           },
           {
            "bin_start": 0.9,
            "bin_end": 1,
            "count": 0
           }
          ]
         }
        },
        {
         "name": "NON_LAND_PROJ",
         "dtype": "int64",
         "stats": {
          "unique_count": 5,
          "nan_count": 0,
          "min": "0",
          "max": "4",
          "histogram": [
           {
            "bin_start": 0,
            "bin_end": 0.4,
            "count": 1
           },
           {
            "bin_start": 0.4,
            "bin_end": 0.8,
            "count": 0
           },
           {
            "bin_start": 0.8,
            "bin_end": 1.2000000000000002,
            "count": 1
           },
           {
            "bin_start": 1.2000000000000002,
            "bin_end": 1.6,
            "count": 0
           },
           {
            "bin_start": 1.6,
            "bin_end": 2,
            "count": 0
           },
           {
            "bin_start": 2,
            "bin_end": 2.4000000000000004,
            "count": 1
           },
           {
            "bin_start": 2.4000000000000004,
            "bin_end": 2.8000000000000003,
            "count": 0
           },
           {
            "bin_start": 2.8000000000000003,
            "bin_end": 3.2,
            "count": 1
           },
           {
            "bin_start": 3.2,
            "bin_end": 3.6,
            "count": 0
           },
           {
            "bin_start": 3.6,
            "bin_end": 4,
            "count": 1
           }
          ]
         }
        },
        {
         "name": "X",
         "dtype": "float64",
         "stats": {
          "unique_count": 5,
          "nan_count": 0,
          "min": "482370.0076754456",
          "max": "537685.1155706005",
          "histogram": [
           {
            "bin_start": 482370.0076754456,
            "bin_end": 487901.5184649611,
            "count": 1
           },
           {
            "bin_start": 487901.5184649611,
            "bin_end": 493433.02925447654,
            "count": 0
           },
           {
            "bin_start": 493433.02925447654,
            "bin_end": 498964.54004399205,
            "count": 0
           },
           {
            "bin_start": 498964.54004399205,
            "bin_end": 504496.05083350756,
            "count": 0
           },
           {
            "bin_start": 504496.05083350756,
            "bin_end": 510027.561623023,
            "count": 0
           },
           {
            "bin_start": 510027.561623023,
            "bin_end": 515559.0724125385,
            "count": 0
           },
           {
            "bin_start": 515559.0724125385,
            "bin_end": 521090.583202054,
            "count": 0
           },
           {
            "bin_start": 521090.583202054,
            "bin_end": 526622.0939915695,
            "count": 0
           },
           {
            "bin_start": 526622.0939915695,
            "bin_end": 532153.604781085,
            "count": 1
           },
           {
            "bin_start": 532153.604781085,
            "bin_end": 537685.1155706005,
            "count": 3
           }
          ]
         }
        },
        {
         "name": "Y",
         "dtype": "float64",
         "stats": {
          "unique_count": 5,
          "nan_count": 0,
          "min": "4077320.270663355",
          "max": "4094980.536246964",
          "histogram": [
           {
            "bin_start": 4077320.270663355,
            "bin_end": 4079086.297221716,
            "count": 4
           },
           {
            "bin_start": 4079086.297221716,
            "bin_end": 4080852.3237800766,
            "count": 0
           },
           {
            "bin_start": 4080852.3237800766,
            "bin_end": 4082618.3503384376,
            "count": 0
           },
           {
            "bin_start": 4082618.3503384376,
            "bin_end": 4084384.3768967986,
            "count": 0
           },
           {
            "bin_start": 4084384.3768967986,
            "bin_end": 4086150.4034551596,
            "count": 0
           },
           {
            "bin_start": 4086150.4034551596,
            "bin_end": 4087916.43001352,
            "count": 0
           },
           {
            "bin_start": 4087916.43001352,
            "bin_end": 4089682.456571881,
            "count": 0
           },
           {
            "bin_start": 4089682.456571881,
            "bin_end": 4091448.483130242,
            "count": 0
           },
           {
            "bin_start": 4091448.483130242,
            "bin_end": 4093214.5096886028,
            "count": 0
           },
           {
            "bin_start": 4093214.5096886028,
            "bin_end": 4094980.536246964,
            "count": 1
           }
          ]
         }
        },
        {
         "name": "DEM",
         "dtype": "int64",
         "stats": {
          "unique_count": 5,
          "nan_count": 0,
          "min": "4300",
          "max": "5163",
          "histogram": [
           {
            "bin_start": 4300,
            "bin_end": 4386.3,
            "count": 1
           },
           {
            "bin_start": 4386.3,
            "bin_end": 4472.6,
            "count": 0
           },
           {
            "bin_start": 4472.6,
            "bin_end": 4558.9,
            "count": 0
           },
           {
            "bin_start": 4558.9,
            "bin_end": 4645.2,
            "count": 0
           },
           {
            "bin_start": 4645.2,
            "bin_end": 4731.5,
            "count": 2
           },
           {
            "bin_start": 4731.5,
            "bin_end": 4817.8,
            "count": 0
           },
           {
            "bin_start": 4817.8,
            "bin_end": 4904.1,
            "count": 0
           },
           {
            "bin_start": 4904.1,
            "bin_end": 4990.4,
            "count": 0
           },
           {
            "bin_start": 4990.4,
            "bin_end": 5076.7,
            "count": 1
           },
           {
            "bin_start": 5076.7,
            "bin_end": 5163,
            "count": 1
           }
          ]
         }
        },
        {
         "name": "ASPECT3_BAND_1",
         "dtype": "float64",
         "stats": {
          "unique_count": 5,
          "nan_count": 0,
          "min": "94.7636414",
          "max": "192.9946136",
          "histogram": [
           {
            "bin_start": 94.7636414,
            "bin_end": 104.58673862,
            "count": 1
           },
           {
            "bin_start": 104.58673862,
            "bin_end": 114.40983584,
            "count": 0
           },
           {
            "bin_start": 114.40983584,
            "bin_end": 124.23293306,
            "count": 0
           },
           {
            "bin_start": 124.23293306,
            "bin_end": 134.05603028000002,
            "count": 0
           },
           {
            "bin_start": 134.05603028000002,
            "bin_end": 143.8791275,
            "count": 0
           },
           {
            "bin_start": 143.8791275,
            "bin_end": 153.70222472,
            "count": 0
           },
           {
            "bin_start": 153.70222472,
            "bin_end": 163.52532194000003,
            "count": 1
           },
           {
            "bin_start": 163.52532194000003,
            "bin_end": 173.34841916,
            "count": 1
           },
           {
            "bin_start": 173.34841916,
            "bin_end": 183.17151638,
            "count": 1
           },
           {
            "bin_start": 183.17151638,
            "bin_end": 192.9946136,
            "count": 1
           }
          ]
         }
        },
        {
         "name": "SPI3_BAND_1",
         "dtype": "float64",
         "stats": {
          "unique_count": 5,
          "nan_count": 0,
          "min": "0.6021493",
          "max": "4.1973495",
          "histogram": [
           {
            "bin_start": 0.6021493,
            "bin_end": 0.9616693199999999,
            "count": 1
           },
           {
            "bin_start": 0.9616693199999999,
            "bin_end": 1.32118934,
            "count": 1
           },
           {
            "bin_start": 1.32118934,
            "bin_end": 1.68070936,
            "count": 0
           },
           {
            "bin_start": 1.68070936,
            "bin_end": 2.04022938,
            "count": 1
           },
           {
            "bin_start": 2.04022938,
            "bin_end": 2.3997494,
            "count": 0
           },
           {
            "bin_start": 2.3997494,
            "bin_end": 2.75926942,
            "count": 0
           },
           {
            "bin_start": 2.75926942,
            "bin_end": 3.1187894399999996,
            "count": 1
           },
           {
            "bin_start": 3.1187894399999996,
            "bin_end": 3.47830946,
            "count": 0
           },
           {
            "bin_start": 3.47830946,
            "bin_end": 3.83782948,
            "count": 0
           },
           {
            "bin_start": 3.83782948,
            "bin_end": 4.1973495,
            "count": 1
           }
          ]
         }
        },
        {
         "name": "LULC2_BAND_1",
         "dtype": "int64",
         "stats": {
          "unique_count": 3,
          "nan_count": 0,
          "min": "1",
          "max": "4",
          "histogram": [
           {
            "bin_start": 1,
            "bin_end": 1.3,
            "count": 1
           },
           {
            "bin_start": 1.3,
            "bin_end": 1.6,
            "count": 0
           },
           {
            "bin_start": 1.6,
            "bin_end": 1.9,
            "count": 0
           },
           {
            "bin_start": 1.9,
            "bin_end": 2.2,
            "count": 3
           },
           {
            "bin_start": 2.2,
            "bin_end": 2.5,
            "count": 0
           },
           {
            "bin_start": 2.5,
            "bin_end": 2.8,
            "count": 0
           },
           {
            "bin_start": 2.8,
            "bin_end": 3.1,
            "count": 0
           },
           {
            "bin_start": 3.1,
            "bin_end": 3.4,
            "count": 0
           },
           {
            "bin_start": 3.4,
            "bin_end": 3.6999999999999997,
            "count": 0
           },
           {
            "bin_start": 3.6999999999999997,
            "bin_end": 4,
            "count": 1
           }
          ]
         }
        },
        {
         "name": "FINAL_GEO2",
         "dtype": "int64",
         "stats": {
          "unique_count": 1,
          "nan_count": 0,
          "min": "10",
          "max": "10",
          "histogram": [
           {
            "bin_start": 9.5,
            "bin_end": 9.6,
            "count": 0
           },
           {
            "bin_start": 9.6,
            "bin_end": 9.7,
            "count": 0
           },
           {
            "bin_start": 9.7,
            "bin_end": 9.8,
            "count": 0
           },
           {
            "bin_start": 9.8,
            "bin_end": 9.9,
            "count": 0
           },
           {
            "bin_start": 9.9,
            "bin_end": 10,
            "count": 0
           },
           {
            "bin_start": 10,
            "bin_end": 10.1,
            "count": 5
           },
           {
            "bin_start": 10.1,
            "bin_end": 10.2,
            "count": 0
           },
           {
            "bin_start": 10.2,
            "bin_end": 10.3,
            "count": 0
           },
           {
            "bin_start": 10.3,
            "bin_end": 10.4,
            "count": 0
           },
           {
            "bin_start": 10.4,
            "bin_end": 10.5,
            "count": 0
           }
          ]
         }
        },
        {
         "name": "FAULT",
         "dtype": "int64",
         "stats": {
          "unique_count": 1,
          "nan_count": 0,
          "min": "4",
          "max": "4",
          "histogram": [
           {
            "bin_start": 3.5,
            "bin_end": 3.6,
            "count": 0
           },
           {
            "bin_start": 3.6,
            "bin_end": 3.7,
            "count": 0
           },
           {
            "bin_start": 3.7,
            "bin_end": 3.8,
            "count": 0
           },
           {
            "bin_start": 3.8,
            "bin_end": 3.9,
            "count": 0
           },
           {
            "bin_start": 3.9,
            "bin_end": 4,
            "count": 0
           },
           {
            "bin_start": 4,
            "bin_end": 4.1,
            "count": 5
           },
           {
            "bin_start": 4.1,
            "bin_end": 4.2,
            "count": 0
           },
           {
            "bin_start": 4.2,
            "bin_end": 4.3,
            "count": 0
           },
           {
            "bin_start": 4.3,
            "bin_end": 4.4,
            "count": 0
           },
           {
            "bin_start": 4.4,
            "bin_end": 4.5,
            "count": 0
           }
          ]
         }
        },
        {
         "name": "RAIN",
         "dtype": "int64",
         "stats": {
          "unique_count": 1,
          "nan_count": 0,
          "min": "1",
          "max": "1",
          "histogram": [
           {
            "bin_start": 0.5,
            "bin_end": 0.6,
            "count": 0
           },
           {
            "bin_start": 0.6,
            "bin_end": 0.7,
            "count": 0
           },
           {
            "bin_start": 0.7,
            "bin_end": 0.8,
            "count": 0
           },
           {
            "bin_start": 0.8,
            "bin_end": 0.9,
            "count": 0
           },
           {
            "bin_start": 0.9,
            "bin_end": 1,
            "count": 0
           },
           {
            "bin_start": 1,
            "bin_end": 1.1,
            "count": 5
           },
           {
            "bin_start": 1.1,
            "bin_end": 1.2000000000000002,
            "count": 0
           },
           {
            "bin_start": 1.2000000000000002,
            "bin_end": 1.3,
            "count": 0
           },
           {
            "bin_start": 1.3,
            "bin_end": 1.4,
            "count": 0
           },
           {
            "bin_start": 1.4,
            "bin_end": 1.5,
            "count": 0
           }
          ]
         }
        },
        {
         "name": "RIVER_BUFF",
         "dtype": "int64",
         "stats": {
          "unique_count": 1,
          "nan_count": 0,
          "min": "105",
          "max": "105",
          "histogram": [
           {
            "bin_start": 104.5,
            "bin_end": 104.6,
            "count": 0
           },
           {
            "bin_start": 104.6,
            "bin_end": 104.7,
            "count": 0
           },
           {
            "bin_start": 104.7,
            "bin_end": 104.8,
            "count": 0
           },
           {
            "bin_start": 104.8,
            "bin_end": 104.9,
            "count": 0
           },
           {
            "bin_start": 104.9,
            "bin_end": 105,
            "count": 0
           },
           {
            "bin_start": 105,
            "bin_end": 105.1,
            "count": 5
           },
           {
            "bin_start": 105.1,
            "bin_end": 105.2,
            "count": 0
           },
           {
            "bin_start": 105.2,
            "bin_end": 105.3,
            "count": 0
           },
           {
            "bin_start": 105.3,
            "bin_end": 105.4,
            "count": 0
           },
           {
            "bin_start": 105.4,
            "bin_end": 105.5,
            "count": 0
           }
          ]
         }
        },
        {
         "name": "KKH_BUFF2",
         "dtype": "int64",
         "stats": {
          "unique_count": 4,
          "nan_count": 0,
          "min": "1",
          "max": "105",
          "histogram": [
           {
            "bin_start": 1,
            "bin_end": 11.4,
            "count": 4
           },
           {
            "bin_start": 11.4,
            "bin_end": 21.8,
            "count": 0
           },
           {
            "bin_start": 21.8,
            "bin_end": 32.2,
            "count": 0
           },
           {
            "bin_start": 32.2,
            "bin_end": 42.6,
            "count": 0
           },
           {
            "bin_start": 42.6,
            "bin_end": 53,
            "count": 0
           },
           {
            "bin_start": 53,
            "bin_end": 63.400000000000006,
            "count": 0
           },
           {
            "bin_start": 63.400000000000006,
            "bin_end": 73.8,
            "count": 0
           },
           {
            "bin_start": 73.8,
            "bin_end": 84.2,
            "count": 0
           },
           {
            "bin_start": 84.2,
            "bin_end": 94.60000000000001,
            "count": 0
           },
           {
            "bin_start": 94.60000000000001,
            "bin_end": 105,
            "count": 1
           }
          ]
         }
        },
        {
         "name": "PCURV",
         "dtype": "float64",
         "stats": {
          "unique_count": 5,
          "nan_count": 0,
          "min": "-0.1221699",
          "max": "0.1940836",
          "histogram": [
           {
            "bin_start": -0.1221699,
            "bin_end": -0.09054455,
            "count": 1
           },
           {
            "bin_start": -0.09054455,
            "bin_end": -0.058919200000000005,
            "count": 0
           },
           {
            "bin_start": -0.058919200000000005,
            "bin_end": -0.02729385000000001,
            "count": 0
           },
           {
            "bin_start": -0.02729385000000001,
            "bin_end": 0.004331499999999988,
            "count": 2
           },
           {
            "bin_start": 0.004331499999999988,
            "bin_end": 0.035956849999999985,
            "count": 1
           },
           {
            "bin_start": 0.035956849999999985,
            "bin_end": 0.06758219999999998,
            "count": 0
           },
           {
            "bin_start": 0.06758219999999998,
            "bin_end": 0.09920754999999998,
            "count": 0
           },
           {
            "bin_start": 0.09920754999999998,
            "bin_end": 0.13083289999999997,
            "count": 0
           },
           {
            "bin_start": 0.13083289999999997,
            "bin_end": 0.16245824999999997,
            "count": 0
           },
           {
            "bin_start": 0.16245824999999997,
            "bin_end": 0.1940836,
            "count": 1
           }
          ]
         }
        },
        {
         "name": "TWI3_BAND_1",
         "dtype": "float64",
         "stats": {
          "unique_count": 5,
          "nan_count": 0,
          "min": "3.7765107",
          "max": "7.8848338",
          "histogram": [
           {
            "bin_start": 3.7765107,
            "bin_end": 4.18734301,
            "count": 1
           },
           {
            "bin_start": 4.18734301,
            "bin_end": 4.59817532,
            "count": 0
           },
           {
            "bin_start": 4.59817532,
            "bin_end": 5.00900763,
            "count": 0
           },
           {
            "bin_start": 5.00900763,
            "bin_end": 5.41983994,
            "count": 0
           },
           {
            "bin_start": 5.41983994,
            "bin_end": 5.83067225,
            "count": 1
           },
           {
            "bin_start": 5.83067225,
            "bin_end": 6.24150456,
            "count": 2
           },
           {
            "bin_start": 6.24150456,
            "bin_end": 6.65233687,
            "count": 0
           },
           {
            "bin_start": 6.65233687,
            "bin_end": 7.06316918,
            "count": 0
           },
           {
            "bin_start": 7.06316918,
            "bin_end": 7.47400149,
            "count": 0
           },
           {
            "bin_start": 7.47400149,
            "bin_end": 7.8848338,
            "count": 1
           }
          ]
         }
        },
        {
         "name": "SLOPE",
         "dtype": "float64",
         "stats": {
          "unique_count": 5,
          "nan_count": 0,
          "min": "3.4057224",
          "max": "32.4627457",
          "histogram": [
           {
            "bin_start": 3.4057224,
            "bin_end": 6.31142473,
            "count": 2
           },
           {
            "bin_start": 6.31142473,
            "bin_end": 9.21712706,
            "count": 2
           },
           {
            "bin_start": 9.21712706,
            "bin_end": 12.122829389999998,
            "count": 0
           },
           {
            "bin_start": 12.122829389999998,
            "bin_end": 15.028531719999998,
            "count": 0
           },
           {
            "bin_start": 15.028531719999998,
            "bin_end": 17.93423405,
            "count": 0
           },
           {
            "bin_start": 17.93423405,
            "bin_end": 20.839936379999997,
            "count": 0
           },
           {
            "bin_start": 20.839936379999997,
            "bin_end": 23.745638709999994,
            "count": 0
           },
           {
            "bin_start": 23.745638709999994,
            "bin_end": 26.65134104,
            "count": 0
           },
           {
            "bin_start": 26.65134104,
            "bin_end": 29.557043369999995,
            "count": 0
           },
           {
            "bin_start": 29.557043369999995,
            "bin_end": 32.4627457,
            "count": 1
           }
          ]
         }
        },
        {
         "name": "_deepnote_index_column",
         "dtype": "int64"
        }
       ],
       "rows": [
        {
         "Rowid_": "nan",
         "NON_LAND_PROJ": 0,
         "X": 530759.398165472,
         "Y": 4077320.270663355,
         "DEM": 5163,
         "ASPECT3_BAND_1": 94.7636414,
         "SPI3_BAND_1": 1.1533304,
         "LULC2_BAND_1": 1,
         "FINAL_GEO2": 10,
         "FAULT": 4,
         "RAIN": 1,
         "RIVER_BUFF": 105,
         "KKH_BUFF2": 3,
         "PCURV": 0.1940836,
         "TWI3_BAND_1": 5.5127525,
         "SLOPE": 6.1314454,
         "_deepnote_index_column": 0
        },
        {
         "Rowid_": "nan",
         "NON_LAND_PROJ": 1,
         "X": 534027.3445658109,
         "Y": 4078562.6816776064,
         "DEM": 5065,
         "ASPECT3_BAND_1": 164.7448883,
         "SPI3_BAND_1": 4.1973495,
         "LULC2_BAND_1": 2,
         "FINAL_GEO2": 10,
         "FAULT": 4,
         "RAIN": 1,
         "RIVER_BUFF": 105,
         "KKH_BUFF2": 2,
         "PCURV": -0.0204872,
         "TWI3_BAND_1": 7.8848338,
         "SLOPE": 8.674963,
         "_deepnote_index_column": 1
        },
        {
         "Rowid_": "nan",
         "NON_LAND_PROJ": 2,
         "X": 536666.057303102,
         "Y": 4077344.674172909,
         "DEM": 4656,
         "ASPECT3_BAND_1": 180,
         "SPI3_BAND_1": 1.9193696,
         "LULC2_BAND_1": 2,
         "FINAL_GEO2": 10,
         "FAULT": 4,
         "RAIN": 1,
         "RIVER_BUFF": 105,
         "KKH_BUFF2": 1,
         "PCURV": 0.0281645,
         "TWI3_BAND_1": 6.1330075,
         "SLOPE": 6.6152864,
         "_deepnote_index_column": 2
        },
        {
         "Rowid_": "nan",
         "NON_LAND_PROJ": 3,
         "X": 537685.1155706005,
         "Y": 4077993.394461488,
         "DEM": 4693,
         "ASPECT3_BAND_1": 192.9946136,
         "SPI3_BAND_1": 0.6021493,
         "LULC2_BAND_1": 2,
         "FINAL_GEO2": 10,
         "FAULT": 4,
         "RAIN": 1,
         "RIVER_BUFF": 105,
         "KKH_BUFF2": 1,
         "PCURV": 0.000969,
         "TWI3_BAND_1": 6.0639334,
         "SLOPE": 3.4057224,
         "_deepnote_index_column": 3
        },
        {
         "Rowid_": "nan",
         "NON_LAND_PROJ": 4,
         "X": 482370.0076754456,
         "Y": 4094980.536246964,
         "DEM": 4300,
         "ASPECT3_BAND_1": 157.7509766,
         "SPI3_BAND_1": 2.8895721,
         "LULC2_BAND_1": 4,
         "FINAL_GEO2": 10,
         "FAULT": 4,
         "RAIN": 1,
         "RIVER_BUFF": 105,
         "KKH_BUFF2": 105,
         "PCURV": -0.1221699,
         "TWI3_BAND_1": 3.7765107,
         "SLOPE": 32.4627457,
         "_deepnote_index_column": 4
        }
       ]
      },
      "text/plain": "   Rowid_  NON_LAND_PROJ              X             Y   DEM  ASPECT3_BAND_1  \\\n0     NaN              0  530759.398165  4.077320e+06  5163       94.763641   \n1     NaN              1  534027.344566  4.078563e+06  5065      164.744888   \n2     NaN              2  536666.057303  4.077345e+06  4656      180.000000   \n3     NaN              3  537685.115571  4.077993e+06  4693      192.994614   \n4     NaN              4  482370.007675  4.094981e+06  4300      157.750977   \n\n   SPI3_BAND_1  LULC2_BAND_1  FINAL_GEO2  FAULT  RAIN  RIVER_BUFF  KKH_BUFF2  \\\n0     1.153330             1          10      4     1         105          3   \n1     4.197349             2          10      4     1         105          2   \n2     1.919370             2          10      4     1         105          1   \n3     0.602149             2          10      4     1         105          1   \n4     2.889572             4          10      4     1         105        105   \n\n      PCURV  TWI3_BAND_1      SLOPE  \n0  0.194084     5.512753   6.131445  \n1 -0.020487     7.884834   8.674963  \n2  0.028164     6.133007   6.615286  \n3  0.000969     6.063933   3.405722  \n4 -0.122170     3.776511  32.462746  ",
      "text/html": "<div>\n<style scoped>\n    .dataframe tbody tr th:only-of-type {\n        vertical-align: middle;\n    }\n\n    .dataframe tbody tr th {\n        vertical-align: top;\n    }\n\n    .dataframe thead th {\n        text-align: right;\n    }\n</style>\n<table border=\"1\" class=\"dataframe\">\n  <thead>\n    <tr style=\"text-align: right;\">\n      <th></th>\n      <th>Rowid_</th>\n      <th>NON_LAND_PROJ</th>\n      <th>X</th>\n      <th>Y</th>\n      <th>DEM</th>\n      <th>ASPECT3_BAND_1</th>\n      <th>SPI3_BAND_1</th>\n      <th>LULC2_BAND_1</th>\n      <th>FINAL_GEO2</th>\n      <th>FAULT</th>\n      <th>RAIN</th>\n      <th>RIVER_BUFF</th>\n      <th>KKH_BUFF2</th>\n      <th>PCURV</th>\n      <th>TWI3_BAND_1</th>\n      <th>SLOPE</th>\n    </tr>\n  </thead>\n  <tbody>\n    <tr>\n      <th>0</th>\n      <td>NaN</td>\n      <td>0</td>\n      <td>530759.398165</td>\n      <td>4.077320e+06</td>\n      <td>5163</td>\n      <td>94.763641</td>\n      <td>1.153330</td>\n      <td>1</td>\n      <td>10</td>\n      <td>4</td>\n      <td>1</td>\n      <td>105</td>\n      <td>3</td>\n      <td>0.194084</td>\n      <td>5.512753</td>\n      <td>6.131445</td>\n    </tr>\n    <tr>\n      <th>1</th>\n      <td>NaN</td>\n      <td>1</td>\n      <td>534027.344566</td>\n      <td>4.078563e+06</td>\n      <td>5065</td>\n      <td>164.744888</td>\n      <td>4.197349</td>\n      <td>2</td>\n      <td>10</td>\n      <td>4</td>\n      <td>1</td>\n      <td>105</td>\n      <td>2</td>\n      <td>-0.020487</td>\n      <td>7.884834</td>\n      <td>8.674963</td>\n    </tr>\n    <tr>\n      <th>2</th>\n      <td>NaN</td>\n      <td>2</td>\n      <td>536666.057303</td>\n      <td>4.077345e+06</td>\n      <td>4656</td>\n      <td>180.000000</td>\n      <td>1.919370</td>\n      <td>2</td>\n      <td>10</td>\n      <td>4</td>\n      <td>1</td>\n      <td>105</td>\n      <td>1</td>\n      <td>0.028164</td>\n      <td>6.133007</td>\n      <td>6.615286</td>\n    </tr>\n    <tr>\n      <th>3</th>\n      <td>NaN</td>\n      <td>3</td>\n      <td>537685.115571</td>\n      <td>4.077993e+06</td>\n      <td>4693</td>\n      <td>192.994614</td>\n      <td>0.602149</td>\n      <td>2</td>\n      <td>10</td>\n      <td>4</td>\n      <td>1</td>\n      <td>105</td>\n      <td>1</td>\n      <td>0.000969</td>\n      <td>6.063933</td>\n      <td>3.405722</td>\n    </tr>\n    <tr>\n      <th>4</th>\n      <td>NaN</td>\n      <td>4</td>\n      <td>482370.007675</td>\n      <td>4.094981e+06</td>\n      <td>4300</td>\n      <td>157.750977</td>\n      <td>2.889572</td>\n      <td>4</td>\n      <td>10</td>\n      <td>4</td>\n      <td>1</td>\n      <td>105</td>\n      <td>105</td>\n      <td>-0.122170</td>\n      <td>3.776511</td>\n      <td>32.462746</td>\n    </tr>\n  </tbody>\n</table>\n</div>"
     },
     "metadata": {}
    }
   ]
  },
  {
   "cell_type": "code",
   "metadata": {
    "cell_id": "00012-b72ce275-2a6a-4d01-96c5-6d90eeeb4174",
    "deepnote_to_be_reexecuted": false,
    "source_hash": "af3f1663",
    "execution_start": 1649573955966,
    "execution_millis": 7,
    "deepnote_app_coordinates": {
     "x": 0,
     "y": 72,
     "w": 12,
     "h": 5
    },
    "deepnote_cell_type": "code",
    "deepnote_cell_height": 98.60000610351562
   },
   "source": "#rename columns to same name as df_land data frame columns because later on they will be joined together\ndf_non_land.columns=['ID','Land_poi','X','Y','DEM','ASPECT','SPI','LULC','GEO','FAULT','RAIN','RIVER_BUFF','ROAD_BUFF','CURVA','TWI','SLOPE']",
   "execution_count": null,
   "outputs": []
  },
  {
   "cell_type": "code",
   "metadata": {
    "scrolled": true,
    "cell_id": "00013-a5ad83b4-aa05-4f9f-b9e6-728513ee9314",
    "deepnote_to_be_reexecuted": false,
    "source_hash": "a57b3140",
    "execution_start": 1649573980536,
    "execution_millis": 46,
    "deepnote_app_coordinates": {
     "x": 0,
     "y": 78,
     "w": 12,
     "h": 5
    },
    "deepnote_cell_type": "code",
    "deepnote_cell_height": 411
   },
   "source": "df_non_land.head()",
   "execution_count": null,
   "outputs": [
    {
     "output_type": "execute_result",
     "execution_count": 17,
     "data": {
      "application/vnd.deepnote.dataframe.v3+json": {
       "column_count": 16,
       "row_count": 5,
       "columns": [
        {
         "name": "ID",
         "dtype": "float64",
         "stats": {
          "unique_count": 0,
          "nan_count": 5,
          "min": null,
          "max": null,
          "histogram": [
           {
            "bin_start": 0,
            "bin_end": 0.1,
            "count": 0
           },
           {
            "bin_start": 0.1,
            "bin_end": 0.2,
            "count": 0
           },
           {
            "bin_start": 0.2,
            "bin_end": 0.30000000000000004,
            "count": 0
           },
           {
            "bin_start": 0.30000000000000004,
            "bin_end": 0.4,
            "count": 0
           },
           {
            "bin_start": 0.4,
            "bin_end": 0.5,
            "count": 0
           },
           {
            "bin_start": 0.5,
            "bin_end": 0.6000000000000001,
            "count": 0
           },
           {
            "bin_start": 0.6000000000000001,
            "bin_end": 0.7000000000000001,
            "count": 0
           },
           {
            "bin_start": 0.7000000000000001,
            "bin_end": 0.8,
            "count": 0
           },
           {
            "bin_start": 0.8,
            "bin_end": 0.9,
            "count": 0
           },
           {
            "bin_start": 0.9,
            "bin_end": 1,
            "count": 0
           }
          ]
         }
        },
        {
         "name": "Land_poi",
         "dtype": "int64",
         "stats": {
          "unique_count": 5,
          "nan_count": 0,
          "min": "0",
          "max": "4",
          "histogram": [
           {
            "bin_start": 0,
            "bin_end": 0.4,
            "count": 1
           },
           {
            "bin_start": 0.4,
            "bin_end": 0.8,
            "count": 0
           },
           {
            "bin_start": 0.8,
            "bin_end": 1.2000000000000002,
            "count": 1
           },
           {
            "bin_start": 1.2000000000000002,
            "bin_end": 1.6,
            "count": 0
           },
           {
            "bin_start": 1.6,
            "bin_end": 2,
            "count": 0
           },
           {
            "bin_start": 2,
            "bin_end": 2.4000000000000004,
            "count": 1
           },
           {
            "bin_start": 2.4000000000000004,
            "bin_end": 2.8000000000000003,
            "count": 0
           },
           {
            "bin_start": 2.8000000000000003,
            "bin_end": 3.2,
            "count": 1
           },
           {
            "bin_start": 3.2,
            "bin_end": 3.6,
            "count": 0
           },
           {
            "bin_start": 3.6,
            "bin_end": 4,
            "count": 1
           }
          ]
         }
        },
        {
         "name": "X",
         "dtype": "float64",
         "stats": {
          "unique_count": 5,
          "nan_count": 0,
          "min": "482370.0076754456",
          "max": "537685.1155706005",
          "histogram": [
           {
            "bin_start": 482370.0076754456,
            "bin_end": 487901.5184649611,
            "count": 1
           },
           {
            "bin_start": 487901.5184649611,
            "bin_end": 493433.02925447654,
            "count": 0
           },
           {
            "bin_start": 493433.02925447654,
            "bin_end": 498964.54004399205,
            "count": 0
           },
           {
            "bin_start": 498964.54004399205,
            "bin_end": 504496.05083350756,
            "count": 0
           },
           {
            "bin_start": 504496.05083350756,
            "bin_end": 510027.561623023,
            "count": 0
           },
           {
            "bin_start": 510027.561623023,
            "bin_end": 515559.0724125385,
            "count": 0
           },
           {
            "bin_start": 515559.0724125385,
            "bin_end": 521090.583202054,
            "count": 0
           },
           {
            "bin_start": 521090.583202054,
            "bin_end": 526622.0939915695,
            "count": 0
           },
           {
            "bin_start": 526622.0939915695,
            "bin_end": 532153.604781085,
            "count": 1
           },
           {
            "bin_start": 532153.604781085,
            "bin_end": 537685.1155706005,
            "count": 3
           }
          ]
         }
        },
        {
         "name": "Y",
         "dtype": "float64",
         "stats": {
          "unique_count": 5,
          "nan_count": 0,
          "min": "4077320.270663355",
          "max": "4094980.536246964",
          "histogram": [
           {
            "bin_start": 4077320.270663355,
            "bin_end": 4079086.297221716,
            "count": 4
           },
           {
            "bin_start": 4079086.297221716,
            "bin_end": 4080852.3237800766,
            "count": 0
           },
           {
            "bin_start": 4080852.3237800766,
            "bin_end": 4082618.3503384376,
            "count": 0
           },
           {
            "bin_start": 4082618.3503384376,
            "bin_end": 4084384.3768967986,
            "count": 0
           },
           {
            "bin_start": 4084384.3768967986,
            "bin_end": 4086150.4034551596,
            "count": 0
           },
           {
            "bin_start": 4086150.4034551596,
            "bin_end": 4087916.43001352,
            "count": 0
           },
           {
            "bin_start": 4087916.43001352,
            "bin_end": 4089682.456571881,
            "count": 0
           },
           {
            "bin_start": 4089682.456571881,
            "bin_end": 4091448.483130242,
            "count": 0
           },
           {
            "bin_start": 4091448.483130242,
            "bin_end": 4093214.5096886028,
            "count": 0
           },
           {
            "bin_start": 4093214.5096886028,
            "bin_end": 4094980.536246964,
            "count": 1
           }
          ]
         }
        },
        {
         "name": "DEM",
         "dtype": "int64",
         "stats": {
          "unique_count": 5,
          "nan_count": 0,
          "min": "4300",
          "max": "5163",
          "histogram": [
           {
            "bin_start": 4300,
            "bin_end": 4386.3,
            "count": 1
           },
           {
            "bin_start": 4386.3,
            "bin_end": 4472.6,
            "count": 0
           },
           {
            "bin_start": 4472.6,
            "bin_end": 4558.9,
            "count": 0
           },
           {
            "bin_start": 4558.9,
            "bin_end": 4645.2,
            "count": 0
           },
           {
            "bin_start": 4645.2,
            "bin_end": 4731.5,
            "count": 2
           },
           {
            "bin_start": 4731.5,
            "bin_end": 4817.8,
            "count": 0
           },
           {
            "bin_start": 4817.8,
            "bin_end": 4904.1,
            "count": 0
           },
           {
            "bin_start": 4904.1,
            "bin_end": 4990.4,
            "count": 0
           },
           {
            "bin_start": 4990.4,
            "bin_end": 5076.7,
            "count": 1
           },
           {
            "bin_start": 5076.7,
            "bin_end": 5163,
            "count": 1
           }
          ]
         }
        },
        {
         "name": "ASPECT",
         "dtype": "float64",
         "stats": {
          "unique_count": 5,
          "nan_count": 0,
          "min": "94.7636414",
          "max": "192.9946136",
          "histogram": [
           {
            "bin_start": 94.7636414,
            "bin_end": 104.58673862,
            "count": 1
           },
           {
            "bin_start": 104.58673862,
            "bin_end": 114.40983584,
            "count": 0
           },
           {
            "bin_start": 114.40983584,
            "bin_end": 124.23293306,
            "count": 0
           },
           {
            "bin_start": 124.23293306,
            "bin_end": 134.05603028000002,
            "count": 0
           },
           {
            "bin_start": 134.05603028000002,
            "bin_end": 143.8791275,
            "count": 0
           },
           {
            "bin_start": 143.8791275,
            "bin_end": 153.70222472,
            "count": 0
           },
           {
            "bin_start": 153.70222472,
            "bin_end": 163.52532194000003,
            "count": 1
           },
           {
            "bin_start": 163.52532194000003,
            "bin_end": 173.34841916,
            "count": 1
           },
           {
            "bin_start": 173.34841916,
            "bin_end": 183.17151638,
            "count": 1
           },
           {
            "bin_start": 183.17151638,
            "bin_end": 192.9946136,
            "count": 1
           }
          ]
         }
        },
        {
         "name": "SPI",
         "dtype": "float64",
         "stats": {
          "unique_count": 5,
          "nan_count": 0,
          "min": "0.6021493",
          "max": "4.1973495",
          "histogram": [
           {
            "bin_start": 0.6021493,
            "bin_end": 0.9616693199999999,
            "count": 1
           },
           {
            "bin_start": 0.9616693199999999,
            "bin_end": 1.32118934,
            "count": 1
           },
           {
            "bin_start": 1.32118934,
            "bin_end": 1.68070936,
            "count": 0
           },
           {
            "bin_start": 1.68070936,
            "bin_end": 2.04022938,
            "count": 1
           },
           {
            "bin_start": 2.04022938,
            "bin_end": 2.3997494,
            "count": 0
           },
           {
            "bin_start": 2.3997494,
            "bin_end": 2.75926942,
            "count": 0
           },
           {
            "bin_start": 2.75926942,
            "bin_end": 3.1187894399999996,
            "count": 1
           },
           {
            "bin_start": 3.1187894399999996,
            "bin_end": 3.47830946,
            "count": 0
           },
           {
            "bin_start": 3.47830946,
            "bin_end": 3.83782948,
            "count": 0
           },
           {
            "bin_start": 3.83782948,
            "bin_end": 4.1973495,
            "count": 1
           }
          ]
         }
        },
        {
         "name": "LULC",
         "dtype": "int64",
         "stats": {
          "unique_count": 3,
          "nan_count": 0,
          "min": "1",
          "max": "4",
          "histogram": [
           {
            "bin_start": 1,
            "bin_end": 1.3,
            "count": 1
           },
           {
            "bin_start": 1.3,
            "bin_end": 1.6,
            "count": 0
           },
           {
            "bin_start": 1.6,
            "bin_end": 1.9,
            "count": 0
           },
           {
            "bin_start": 1.9,
            "bin_end": 2.2,
            "count": 3
           },
           {
            "bin_start": 2.2,
            "bin_end": 2.5,
            "count": 0
           },
           {
            "bin_start": 2.5,
            "bin_end": 2.8,
            "count": 0
           },
           {
            "bin_start": 2.8,
            "bin_end": 3.1,
            "count": 0
           },
           {
            "bin_start": 3.1,
            "bin_end": 3.4,
            "count": 0
           },
           {
            "bin_start": 3.4,
            "bin_end": 3.6999999999999997,
            "count": 0
           },
           {
            "bin_start": 3.6999999999999997,
            "bin_end": 4,
            "count": 1
           }
          ]
         }
        },
        {
         "name": "GEO",
         "dtype": "int64",
         "stats": {
          "unique_count": 1,
          "nan_count": 0,
          "min": "10",
          "max": "10",
          "histogram": [
           {
            "bin_start": 9.5,
            "bin_end": 9.6,
            "count": 0
           },
           {
            "bin_start": 9.6,
            "bin_end": 9.7,
            "count": 0
           },
           {
            "bin_start": 9.7,
            "bin_end": 9.8,
            "count": 0
           },
           {
            "bin_start": 9.8,
            "bin_end": 9.9,
            "count": 0
           },
           {
            "bin_start": 9.9,
            "bin_end": 10,
            "count": 0
           },
           {
            "bin_start": 10,
            "bin_end": 10.1,
            "count": 5
           },
           {
            "bin_start": 10.1,
            "bin_end": 10.2,
            "count": 0
           },
           {
            "bin_start": 10.2,
            "bin_end": 10.3,
            "count": 0
           },
           {
            "bin_start": 10.3,
            "bin_end": 10.4,
            "count": 0
           },
           {
            "bin_start": 10.4,
            "bin_end": 10.5,
            "count": 0
           }
          ]
         }
        },
        {
         "name": "FAULT",
         "dtype": "int64",
         "stats": {
          "unique_count": 1,
          "nan_count": 0,
          "min": "4",
          "max": "4",
          "histogram": [
           {
            "bin_start": 3.5,
            "bin_end": 3.6,
            "count": 0
           },
           {
            "bin_start": 3.6,
            "bin_end": 3.7,
            "count": 0
           },
           {
            "bin_start": 3.7,
            "bin_end": 3.8,
            "count": 0
           },
           {
            "bin_start": 3.8,
            "bin_end": 3.9,
            "count": 0
           },
           {
            "bin_start": 3.9,
            "bin_end": 4,
            "count": 0
           },
           {
            "bin_start": 4,
            "bin_end": 4.1,
            "count": 5
           },
           {
            "bin_start": 4.1,
            "bin_end": 4.2,
            "count": 0
           },
           {
            "bin_start": 4.2,
            "bin_end": 4.3,
            "count": 0
           },
           {
            "bin_start": 4.3,
            "bin_end": 4.4,
            "count": 0
           },
           {
            "bin_start": 4.4,
            "bin_end": 4.5,
            "count": 0
           }
          ]
         }
        },
        {
         "name": "RAIN",
         "dtype": "int64",
         "stats": {
          "unique_count": 1,
          "nan_count": 0,
          "min": "1",
          "max": "1",
          "histogram": [
           {
            "bin_start": 0.5,
            "bin_end": 0.6,
            "count": 0
           },
           {
            "bin_start": 0.6,
            "bin_end": 0.7,
            "count": 0
           },
           {
            "bin_start": 0.7,
            "bin_end": 0.8,
            "count": 0
           },
           {
            "bin_start": 0.8,
            "bin_end": 0.9,
            "count": 0
           },
           {
            "bin_start": 0.9,
            "bin_end": 1,
            "count": 0
           },
           {
            "bin_start": 1,
            "bin_end": 1.1,
            "count": 5
           },
           {
            "bin_start": 1.1,
            "bin_end": 1.2000000000000002,
            "count": 0
           },
           {
            "bin_start": 1.2000000000000002,
            "bin_end": 1.3,
            "count": 0
           },
           {
            "bin_start": 1.3,
            "bin_end": 1.4,
            "count": 0
           },
           {
            "bin_start": 1.4,
            "bin_end": 1.5,
            "count": 0
           }
          ]
         }
        },
        {
         "name": "RIVER_BUFF",
         "dtype": "int64",
         "stats": {
          "unique_count": 1,
          "nan_count": 0,
          "min": "105",
          "max": "105",
          "histogram": [
           {
            "bin_start": 104.5,
            "bin_end": 104.6,
            "count": 0
           },
           {
            "bin_start": 104.6,
            "bin_end": 104.7,
            "count": 0
           },
           {
            "bin_start": 104.7,
            "bin_end": 104.8,
            "count": 0
           },
           {
            "bin_start": 104.8,
            "bin_end": 104.9,
            "count": 0
           },
           {
            "bin_start": 104.9,
            "bin_end": 105,
            "count": 0
           },
           {
            "bin_start": 105,
            "bin_end": 105.1,
            "count": 5
           },
           {
            "bin_start": 105.1,
            "bin_end": 105.2,
            "count": 0
           },
           {
            "bin_start": 105.2,
            "bin_end": 105.3,
            "count": 0
           },
           {
            "bin_start": 105.3,
            "bin_end": 105.4,
            "count": 0
           },
           {
            "bin_start": 105.4,
            "bin_end": 105.5,
            "count": 0
           }
          ]
         }
        },
        {
         "name": "ROAD_BUFF",
         "dtype": "int64",
         "stats": {
          "unique_count": 4,
          "nan_count": 0,
          "min": "1",
          "max": "105",
          "histogram": [
           {
            "bin_start": 1,
            "bin_end": 11.4,
            "count": 4
           },
           {
            "bin_start": 11.4,
            "bin_end": 21.8,
            "count": 0
           },
           {
            "bin_start": 21.8,
            "bin_end": 32.2,
            "count": 0
           },
           {
            "bin_start": 32.2,
            "bin_end": 42.6,
            "count": 0
           },
           {
            "bin_start": 42.6,
            "bin_end": 53,
            "count": 0
           },
           {
            "bin_start": 53,
            "bin_end": 63.400000000000006,
            "count": 0
           },
           {
            "bin_start": 63.400000000000006,
            "bin_end": 73.8,
            "count": 0
           },
           {
            "bin_start": 73.8,
            "bin_end": 84.2,
            "count": 0
           },
           {
            "bin_start": 84.2,
            "bin_end": 94.60000000000001,
            "count": 0
           },
           {
            "bin_start": 94.60000000000001,
            "bin_end": 105,
            "count": 1
           }
          ]
         }
        },
        {
         "name": "CURVA",
         "dtype": "float64",
         "stats": {
          "unique_count": 5,
          "nan_count": 0,
          "min": "-0.1221699",
          "max": "0.1940836",
          "histogram": [
           {
            "bin_start": -0.1221699,
            "bin_end": -0.09054455,
            "count": 1
           },
           {
            "bin_start": -0.09054455,
            "bin_end": -0.058919200000000005,
            "count": 0
           },
           {
            "bin_start": -0.058919200000000005,
            "bin_end": -0.02729385000000001,
            "count": 0
           },
           {
            "bin_start": -0.02729385000000001,
            "bin_end": 0.004331499999999988,
            "count": 2
           },
           {
            "bin_start": 0.004331499999999988,
            "bin_end": 0.035956849999999985,
            "count": 1
           },
           {
            "bin_start": 0.035956849999999985,
            "bin_end": 0.06758219999999998,
            "count": 0
           },
           {
            "bin_start": 0.06758219999999998,
            "bin_end": 0.09920754999999998,
            "count": 0
           },
           {
            "bin_start": 0.09920754999999998,
            "bin_end": 0.13083289999999997,
            "count": 0
           },
           {
            "bin_start": 0.13083289999999997,
            "bin_end": 0.16245824999999997,
            "count": 0
           },
           {
            "bin_start": 0.16245824999999997,
            "bin_end": 0.1940836,
            "count": 1
           }
          ]
         }
        },
        {
         "name": "TWI",
         "dtype": "float64",
         "stats": {
          "unique_count": 5,
          "nan_count": 0,
          "min": "3.7765107",
          "max": "7.8848338",
          "histogram": [
           {
            "bin_start": 3.7765107,
            "bin_end": 4.18734301,
            "count": 1
           },
           {
            "bin_start": 4.18734301,
            "bin_end": 4.59817532,
            "count": 0
           },
           {
            "bin_start": 4.59817532,
            "bin_end": 5.00900763,
            "count": 0
           },
           {
            "bin_start": 5.00900763,
            "bin_end": 5.41983994,
            "count": 0
           },
           {
            "bin_start": 5.41983994,
            "bin_end": 5.83067225,
            "count": 1
           },
           {
            "bin_start": 5.83067225,
            "bin_end": 6.24150456,
            "count": 2
           },
           {
            "bin_start": 6.24150456,
            "bin_end": 6.65233687,
            "count": 0
           },
           {
            "bin_start": 6.65233687,
            "bin_end": 7.06316918,
            "count": 0
           },
           {
            "bin_start": 7.06316918,
            "bin_end": 7.47400149,
            "count": 0
           },
           {
            "bin_start": 7.47400149,
            "bin_end": 7.8848338,
            "count": 1
           }
          ]
         }
        },
        {
         "name": "SLOPE",
         "dtype": "float64",
         "stats": {
          "unique_count": 5,
          "nan_count": 0,
          "min": "3.4057224",
          "max": "32.4627457",
          "histogram": [
           {
            "bin_start": 3.4057224,
            "bin_end": 6.31142473,
            "count": 2
           },
           {
            "bin_start": 6.31142473,
            "bin_end": 9.21712706,
            "count": 2
           },
           {
            "bin_start": 9.21712706,
            "bin_end": 12.122829389999998,
            "count": 0
           },
           {
            "bin_start": 12.122829389999998,
            "bin_end": 15.028531719999998,
            "count": 0
           },
           {
            "bin_start": 15.028531719999998,
            "bin_end": 17.93423405,
            "count": 0
           },
           {
            "bin_start": 17.93423405,
            "bin_end": 20.839936379999997,
            "count": 0
           },
           {
            "bin_start": 20.839936379999997,
            "bin_end": 23.745638709999994,
            "count": 0
           },
           {
            "bin_start": 23.745638709999994,
            "bin_end": 26.65134104,
            "count": 0
           },
           {
            "bin_start": 26.65134104,
            "bin_end": 29.557043369999995,
            "count": 0
           },
           {
            "bin_start": 29.557043369999995,
            "bin_end": 32.4627457,
            "count": 1
           }
          ]
         }
        },
        {
         "name": "_deepnote_index_column",
         "dtype": "int64"
        }
       ],
       "rows": [
        {
         "ID": "nan",
         "Land_poi": 0,
         "X": 530759.398165472,
         "Y": 4077320.270663355,
         "DEM": 5163,
         "ASPECT": 94.7636414,
         "SPI": 1.1533304,
         "LULC": 1,
         "GEO": 10,
         "FAULT": 4,
         "RAIN": 1,
         "RIVER_BUFF": 105,
         "ROAD_BUFF": 3,
         "CURVA": 0.1940836,
         "TWI": 5.5127525,
         "SLOPE": 6.1314454,
         "_deepnote_index_column": 0
        },
        {
         "ID": "nan",
         "Land_poi": 1,
         "X": 534027.3445658109,
         "Y": 4078562.6816776064,
         "DEM": 5065,
         "ASPECT": 164.7448883,
         "SPI": 4.1973495,
         "LULC": 2,
         "GEO": 10,
         "FAULT": 4,
         "RAIN": 1,
         "RIVER_BUFF": 105,
         "ROAD_BUFF": 2,
         "CURVA": -0.0204872,
         "TWI": 7.8848338,
         "SLOPE": 8.674963,
         "_deepnote_index_column": 1
        },
        {
         "ID": "nan",
         "Land_poi": 2,
         "X": 536666.057303102,
         "Y": 4077344.674172909,
         "DEM": 4656,
         "ASPECT": 180,
         "SPI": 1.9193696,
         "LULC": 2,
         "GEO": 10,
         "FAULT": 4,
         "RAIN": 1,
         "RIVER_BUFF": 105,
         "ROAD_BUFF": 1,
         "CURVA": 0.0281645,
         "TWI": 6.1330075,
         "SLOPE": 6.6152864,
         "_deepnote_index_column": 2
        },
        {
         "ID": "nan",
         "Land_poi": 3,
         "X": 537685.1155706005,
         "Y": 4077993.394461488,
         "DEM": 4693,
         "ASPECT": 192.9946136,
         "SPI": 0.6021493,
         "LULC": 2,
         "GEO": 10,
         "FAULT": 4,
         "RAIN": 1,
         "RIVER_BUFF": 105,
         "ROAD_BUFF": 1,
         "CURVA": 0.000969,
         "TWI": 6.0639334,
         "SLOPE": 3.4057224,
         "_deepnote_index_column": 3
        },
        {
         "ID": "nan",
         "Land_poi": 4,
         "X": 482370.0076754456,
         "Y": 4094980.536246964,
         "DEM": 4300,
         "ASPECT": 157.7509766,
         "SPI": 2.8895721,
         "LULC": 4,
         "GEO": 10,
         "FAULT": 4,
         "RAIN": 1,
         "RIVER_BUFF": 105,
         "ROAD_BUFF": 105,
         "CURVA": -0.1221699,
         "TWI": 3.7765107,
         "SLOPE": 32.4627457,
         "_deepnote_index_column": 4
        }
       ]
      },
      "text/plain": "   ID  Land_poi              X             Y   DEM      ASPECT       SPI  \\\n0 NaN         0  530759.398165  4.077320e+06  5163   94.763641  1.153330   \n1 NaN         1  534027.344566  4.078563e+06  5065  164.744888  4.197349   \n2 NaN         2  536666.057303  4.077345e+06  4656  180.000000  1.919370   \n3 NaN         3  537685.115571  4.077993e+06  4693  192.994614  0.602149   \n4 NaN         4  482370.007675  4.094981e+06  4300  157.750977  2.889572   \n\n   LULC  GEO  FAULT  RAIN  RIVER_BUFF  ROAD_BUFF     CURVA       TWI  \\\n0     1   10      4     1         105          3  0.194084  5.512753   \n1     2   10      4     1         105          2 -0.020487  7.884834   \n2     2   10      4     1         105          1  0.028164  6.133007   \n3     2   10      4     1         105          1  0.000969  6.063933   \n4     4   10      4     1         105        105 -0.122170  3.776511   \n\n       SLOPE  \n0   6.131445  \n1   8.674963  \n2   6.615286  \n3   3.405722  \n4  32.462746  ",
      "text/html": "<div>\n<style scoped>\n    .dataframe tbody tr th:only-of-type {\n        vertical-align: middle;\n    }\n\n    .dataframe tbody tr th {\n        vertical-align: top;\n    }\n\n    .dataframe thead th {\n        text-align: right;\n    }\n</style>\n<table border=\"1\" class=\"dataframe\">\n  <thead>\n    <tr style=\"text-align: right;\">\n      <th></th>\n      <th>ID</th>\n      <th>Land_poi</th>\n      <th>X</th>\n      <th>Y</th>\n      <th>DEM</th>\n      <th>ASPECT</th>\n      <th>SPI</th>\n      <th>LULC</th>\n      <th>GEO</th>\n      <th>FAULT</th>\n      <th>RAIN</th>\n      <th>RIVER_BUFF</th>\n      <th>ROAD_BUFF</th>\n      <th>CURVA</th>\n      <th>TWI</th>\n      <th>SLOPE</th>\n    </tr>\n  </thead>\n  <tbody>\n    <tr>\n      <th>0</th>\n      <td>NaN</td>\n      <td>0</td>\n      <td>530759.398165</td>\n      <td>4.077320e+06</td>\n      <td>5163</td>\n      <td>94.763641</td>\n      <td>1.153330</td>\n      <td>1</td>\n      <td>10</td>\n      <td>4</td>\n      <td>1</td>\n      <td>105</td>\n      <td>3</td>\n      <td>0.194084</td>\n      <td>5.512753</td>\n      <td>6.131445</td>\n    </tr>\n    <tr>\n      <th>1</th>\n      <td>NaN</td>\n      <td>1</td>\n      <td>534027.344566</td>\n      <td>4.078563e+06</td>\n      <td>5065</td>\n      <td>164.744888</td>\n      <td>4.197349</td>\n      <td>2</td>\n      <td>10</td>\n      <td>4</td>\n      <td>1</td>\n      <td>105</td>\n      <td>2</td>\n      <td>-0.020487</td>\n      <td>7.884834</td>\n      <td>8.674963</td>\n    </tr>\n    <tr>\n      <th>2</th>\n      <td>NaN</td>\n      <td>2</td>\n      <td>536666.057303</td>\n      <td>4.077345e+06</td>\n      <td>4656</td>\n      <td>180.000000</td>\n      <td>1.919370</td>\n      <td>2</td>\n      <td>10</td>\n      <td>4</td>\n      <td>1</td>\n      <td>105</td>\n      <td>1</td>\n      <td>0.028164</td>\n      <td>6.133007</td>\n      <td>6.615286</td>\n    </tr>\n    <tr>\n      <th>3</th>\n      <td>NaN</td>\n      <td>3</td>\n      <td>537685.115571</td>\n      <td>4.077993e+06</td>\n      <td>4693</td>\n      <td>192.994614</td>\n      <td>0.602149</td>\n      <td>2</td>\n      <td>10</td>\n      <td>4</td>\n      <td>1</td>\n      <td>105</td>\n      <td>1</td>\n      <td>0.000969</td>\n      <td>6.063933</td>\n      <td>3.405722</td>\n    </tr>\n    <tr>\n      <th>4</th>\n      <td>NaN</td>\n      <td>4</td>\n      <td>482370.007675</td>\n      <td>4.094981e+06</td>\n      <td>4300</td>\n      <td>157.750977</td>\n      <td>2.889572</td>\n      <td>4</td>\n      <td>10</td>\n      <td>4</td>\n      <td>1</td>\n      <td>105</td>\n      <td>105</td>\n      <td>-0.122170</td>\n      <td>3.776511</td>\n      <td>32.462746</td>\n    </tr>\n  </tbody>\n</table>\n</div>"
     },
     "metadata": {}
    }
   ]
  },
  {
   "cell_type": "code",
   "metadata": {
    "scrolled": true,
    "cell_id": "00014-3b91a8ef-6969-4b67-814b-5875dc03442c",
    "deepnote_to_be_reexecuted": false,
    "source_hash": "872cef6a",
    "execution_start": 1649574122004,
    "execution_millis": 79,
    "deepnote_app_coordinates": {
     "x": 0,
     "y": 84,
     "w": 12,
     "h": 5
    },
    "deepnote_cell_type": "code",
    "deepnote_cell_height": 447
   },
   "source": "# we have to add a new column for dependent factor landslide absence with value of 0\ndf_non_land['Landslide']=0 # column name should be the same as in df_land\ndf_non_land.head()",
   "execution_count": null,
   "outputs": [
    {
     "output_type": "execute_result",
     "execution_count": 18,
     "data": {
      "application/vnd.deepnote.dataframe.v3+json": {
       "column_count": 17,
       "row_count": 5,
       "columns": [
        {
         "name": "ID",
         "dtype": "float64",
         "stats": {
          "unique_count": 0,
          "nan_count": 5,
          "min": null,
          "max": null,
          "histogram": [
           {
            "bin_start": 0,
            "bin_end": 0.1,
            "count": 0
           },
           {
            "bin_start": 0.1,
            "bin_end": 0.2,
            "count": 0
           },
           {
            "bin_start": 0.2,
            "bin_end": 0.30000000000000004,
            "count": 0
           },
           {
            "bin_start": 0.30000000000000004,
            "bin_end": 0.4,
            "count": 0
           },
           {
            "bin_start": 0.4,
            "bin_end": 0.5,
            "count": 0
           },
           {
            "bin_start": 0.5,
            "bin_end": 0.6000000000000001,
            "count": 0
           },
           {
            "bin_start": 0.6000000000000001,
            "bin_end": 0.7000000000000001,
            "count": 0
           },
           {
            "bin_start": 0.7000000000000001,
            "bin_end": 0.8,
            "count": 0
           },
           {
            "bin_start": 0.8,
            "bin_end": 0.9,
            "count": 0
           },
           {
            "bin_start": 0.9,
            "bin_end": 1,
            "count": 0
           }
          ]
         }
        },
        {
         "name": "Land_poi",
         "dtype": "int64",
         "stats": {
          "unique_count": 5,
          "nan_count": 0,
          "min": "0",
          "max": "4",
          "histogram": [
           {
            "bin_start": 0,
            "bin_end": 0.4,
            "count": 1
           },
           {
            "bin_start": 0.4,
            "bin_end": 0.8,
            "count": 0
           },
           {
            "bin_start": 0.8,
            "bin_end": 1.2000000000000002,
            "count": 1
           },
           {
            "bin_start": 1.2000000000000002,
            "bin_end": 1.6,
            "count": 0
           },
           {
            "bin_start": 1.6,
            "bin_end": 2,
            "count": 0
           },
           {
            "bin_start": 2,
            "bin_end": 2.4000000000000004,
            "count": 1
           },
           {
            "bin_start": 2.4000000000000004,
            "bin_end": 2.8000000000000003,
            "count": 0
           },
           {
            "bin_start": 2.8000000000000003,
            "bin_end": 3.2,
            "count": 1
           },
           {
            "bin_start": 3.2,
            "bin_end": 3.6,
            "count": 0
           },
           {
            "bin_start": 3.6,
            "bin_end": 4,
            "count": 1
           }
          ]
         }
        },
        {
         "name": "X",
         "dtype": "float64",
         "stats": {
          "unique_count": 5,
          "nan_count": 0,
          "min": "482370.0076754456",
          "max": "537685.1155706005",
          "histogram": [
           {
            "bin_start": 482370.0076754456,
            "bin_end": 487901.5184649611,
            "count": 1
           },
           {
            "bin_start": 487901.5184649611,
            "bin_end": 493433.02925447654,
            "count": 0
           },
           {
            "bin_start": 493433.02925447654,
            "bin_end": 498964.54004399205,
            "count": 0
           },
           {
            "bin_start": 498964.54004399205,
            "bin_end": 504496.05083350756,
            "count": 0
           },
           {
            "bin_start": 504496.05083350756,
            "bin_end": 510027.561623023,
            "count": 0
           },
           {
            "bin_start": 510027.561623023,
            "bin_end": 515559.0724125385,
            "count": 0
           },
           {
            "bin_start": 515559.0724125385,
            "bin_end": 521090.583202054,
            "count": 0
           },
           {
            "bin_start": 521090.583202054,
            "bin_end": 526622.0939915695,
            "count": 0
           },
           {
            "bin_start": 526622.0939915695,
            "bin_end": 532153.604781085,
            "count": 1
           },
           {
            "bin_start": 532153.604781085,
            "bin_end": 537685.1155706005,
            "count": 3
           }
          ]
         }
        },
        {
         "name": "Y",
         "dtype": "float64",
         "stats": {
          "unique_count": 5,
          "nan_count": 0,
          "min": "4077320.270663355",
          "max": "4094980.536246964",
          "histogram": [
           {
            "bin_start": 4077320.270663355,
            "bin_end": 4079086.297221716,
            "count": 4
           },
           {
            "bin_start": 4079086.297221716,
            "bin_end": 4080852.3237800766,
            "count": 0
           },
           {
            "bin_start": 4080852.3237800766,
            "bin_end": 4082618.3503384376,
            "count": 0
           },
           {
            "bin_start": 4082618.3503384376,
            "bin_end": 4084384.3768967986,
            "count": 0
           },
           {
            "bin_start": 4084384.3768967986,
            "bin_end": 4086150.4034551596,
            "count": 0
           },
           {
            "bin_start": 4086150.4034551596,
            "bin_end": 4087916.43001352,
            "count": 0
           },
           {
            "bin_start": 4087916.43001352,
            "bin_end": 4089682.456571881,
            "count": 0
           },
           {
            "bin_start": 4089682.456571881,
            "bin_end": 4091448.483130242,
            "count": 0
           },
           {
            "bin_start": 4091448.483130242,
            "bin_end": 4093214.5096886028,
            "count": 0
           },
           {
            "bin_start": 4093214.5096886028,
            "bin_end": 4094980.536246964,
            "count": 1
           }
          ]
         }
        },
        {
         "name": "DEM",
         "dtype": "int64",
         "stats": {
          "unique_count": 5,
          "nan_count": 0,
          "min": "4300",
          "max": "5163",
          "histogram": [
           {
            "bin_start": 4300,
            "bin_end": 4386.3,
            "count": 1
           },
           {
            "bin_start": 4386.3,
            "bin_end": 4472.6,
            "count": 0
           },
           {
            "bin_start": 4472.6,
            "bin_end": 4558.9,
            "count": 0
           },
           {
            "bin_start": 4558.9,
            "bin_end": 4645.2,
            "count": 0
           },
           {
            "bin_start": 4645.2,
            "bin_end": 4731.5,
            "count": 2
           },
           {
            "bin_start": 4731.5,
            "bin_end": 4817.8,
            "count": 0
           },
           {
            "bin_start": 4817.8,
            "bin_end": 4904.1,
            "count": 0
           },
           {
            "bin_start": 4904.1,
            "bin_end": 4990.4,
            "count": 0
           },
           {
            "bin_start": 4990.4,
            "bin_end": 5076.7,
            "count": 1
           },
           {
            "bin_start": 5076.7,
            "bin_end": 5163,
            "count": 1
           }
          ]
         }
        },
        {
         "name": "ASPECT",
         "dtype": "float64",
         "stats": {
          "unique_count": 5,
          "nan_count": 0,
          "min": "94.7636414",
          "max": "192.9946136",
          "histogram": [
           {
            "bin_start": 94.7636414,
            "bin_end": 104.58673862,
            "count": 1
           },
           {
            "bin_start": 104.58673862,
            "bin_end": 114.40983584,
            "count": 0
           },
           {
            "bin_start": 114.40983584,
            "bin_end": 124.23293306,
            "count": 0
           },
           {
            "bin_start": 124.23293306,
            "bin_end": 134.05603028000002,
            "count": 0
           },
           {
            "bin_start": 134.05603028000002,
            "bin_end": 143.8791275,
            "count": 0
           },
           {
            "bin_start": 143.8791275,
            "bin_end": 153.70222472,
            "count": 0
           },
           {
            "bin_start": 153.70222472,
            "bin_end": 163.52532194000003,
            "count": 1
           },
           {
            "bin_start": 163.52532194000003,
            "bin_end": 173.34841916,
            "count": 1
           },
           {
            "bin_start": 173.34841916,
            "bin_end": 183.17151638,
            "count": 1
           },
           {
            "bin_start": 183.17151638,
            "bin_end": 192.9946136,
            "count": 1
           }
          ]
         }
        },
        {
         "name": "SPI",
         "dtype": "float64",
         "stats": {
          "unique_count": 5,
          "nan_count": 0,
          "min": "0.6021493",
          "max": "4.1973495",
          "histogram": [
           {
            "bin_start": 0.6021493,
            "bin_end": 0.9616693199999999,
            "count": 1
           },
           {
            "bin_start": 0.9616693199999999,
            "bin_end": 1.32118934,
            "count": 1
           },
           {
            "bin_start": 1.32118934,
            "bin_end": 1.68070936,
            "count": 0
           },
           {
            "bin_start": 1.68070936,
            "bin_end": 2.04022938,
            "count": 1
           },
           {
            "bin_start": 2.04022938,
            "bin_end": 2.3997494,
            "count": 0
           },
           {
            "bin_start": 2.3997494,
            "bin_end": 2.75926942,
            "count": 0
           },
           {
            "bin_start": 2.75926942,
            "bin_end": 3.1187894399999996,
            "count": 1
           },
           {
            "bin_start": 3.1187894399999996,
            "bin_end": 3.47830946,
            "count": 0
           },
           {
            "bin_start": 3.47830946,
            "bin_end": 3.83782948,
            "count": 0
           },
           {
            "bin_start": 3.83782948,
            "bin_end": 4.1973495,
            "count": 1
           }
          ]
         }
        },
        {
         "name": "LULC",
         "dtype": "int64",
         "stats": {
          "unique_count": 3,
          "nan_count": 0,
          "min": "1",
          "max": "4",
          "histogram": [
           {
            "bin_start": 1,
            "bin_end": 1.3,
            "count": 1
           },
           {
            "bin_start": 1.3,
            "bin_end": 1.6,
            "count": 0
           },
           {
            "bin_start": 1.6,
            "bin_end": 1.9,
            "count": 0
           },
           {
            "bin_start": 1.9,
            "bin_end": 2.2,
            "count": 3
           },
           {
            "bin_start": 2.2,
            "bin_end": 2.5,
            "count": 0
           },
           {
            "bin_start": 2.5,
            "bin_end": 2.8,
            "count": 0
           },
           {
            "bin_start": 2.8,
            "bin_end": 3.1,
            "count": 0
           },
           {
            "bin_start": 3.1,
            "bin_end": 3.4,
            "count": 0
           },
           {
            "bin_start": 3.4,
            "bin_end": 3.6999999999999997,
            "count": 0
           },
           {
            "bin_start": 3.6999999999999997,
            "bin_end": 4,
            "count": 1
           }
          ]
         }
        },
        {
         "name": "GEO",
         "dtype": "int64",
         "stats": {
          "unique_count": 1,
          "nan_count": 0,
          "min": "10",
          "max": "10",
          "histogram": [
           {
            "bin_start": 9.5,
            "bin_end": 9.6,
            "count": 0
           },
           {
            "bin_start": 9.6,
            "bin_end": 9.7,
            "count": 0
           },
           {
            "bin_start": 9.7,
            "bin_end": 9.8,
            "count": 0
           },
           {
            "bin_start": 9.8,
            "bin_end": 9.9,
            "count": 0
           },
           {
            "bin_start": 9.9,
            "bin_end": 10,
            "count": 0
           },
           {
            "bin_start": 10,
            "bin_end": 10.1,
            "count": 5
           },
           {
            "bin_start": 10.1,
            "bin_end": 10.2,
            "count": 0
           },
           {
            "bin_start": 10.2,
            "bin_end": 10.3,
            "count": 0
           },
           {
            "bin_start": 10.3,
            "bin_end": 10.4,
            "count": 0
           },
           {
            "bin_start": 10.4,
            "bin_end": 10.5,
            "count": 0
           }
          ]
         }
        },
        {
         "name": "FAULT",
         "dtype": "int64",
         "stats": {
          "unique_count": 1,
          "nan_count": 0,
          "min": "4",
          "max": "4",
          "histogram": [
           {
            "bin_start": 3.5,
            "bin_end": 3.6,
            "count": 0
           },
           {
            "bin_start": 3.6,
            "bin_end": 3.7,
            "count": 0
           },
           {
            "bin_start": 3.7,
            "bin_end": 3.8,
            "count": 0
           },
           {
            "bin_start": 3.8,
            "bin_end": 3.9,
            "count": 0
           },
           {
            "bin_start": 3.9,
            "bin_end": 4,
            "count": 0
           },
           {
            "bin_start": 4,
            "bin_end": 4.1,
            "count": 5
           },
           {
            "bin_start": 4.1,
            "bin_end": 4.2,
            "count": 0
           },
           {
            "bin_start": 4.2,
            "bin_end": 4.3,
            "count": 0
           },
           {
            "bin_start": 4.3,
            "bin_end": 4.4,
            "count": 0
           },
           {
            "bin_start": 4.4,
            "bin_end": 4.5,
            "count": 0
           }
          ]
         }
        },
        {
         "name": "RAIN",
         "dtype": "int64",
         "stats": {
          "unique_count": 1,
          "nan_count": 0,
          "min": "1",
          "max": "1",
          "histogram": [
           {
            "bin_start": 0.5,
            "bin_end": 0.6,
            "count": 0
           },
           {
            "bin_start": 0.6,
            "bin_end": 0.7,
            "count": 0
           },
           {
            "bin_start": 0.7,
            "bin_end": 0.8,
            "count": 0
           },
           {
            "bin_start": 0.8,
            "bin_end": 0.9,
            "count": 0
           },
           {
            "bin_start": 0.9,
            "bin_end": 1,
            "count": 0
           },
           {
            "bin_start": 1,
            "bin_end": 1.1,
            "count": 5
           },
           {
            "bin_start": 1.1,
            "bin_end": 1.2000000000000002,
            "count": 0
           },
           {
            "bin_start": 1.2000000000000002,
            "bin_end": 1.3,
            "count": 0
           },
           {
            "bin_start": 1.3,
            "bin_end": 1.4,
            "count": 0
           },
           {
            "bin_start": 1.4,
            "bin_end": 1.5,
            "count": 0
           }
          ]
         }
        },
        {
         "name": "RIVER_BUFF",
         "dtype": "int64",
         "stats": {
          "unique_count": 1,
          "nan_count": 0,
          "min": "105",
          "max": "105",
          "histogram": [
           {
            "bin_start": 104.5,
            "bin_end": 104.6,
            "count": 0
           },
           {
            "bin_start": 104.6,
            "bin_end": 104.7,
            "count": 0
           },
           {
            "bin_start": 104.7,
            "bin_end": 104.8,
            "count": 0
           },
           {
            "bin_start": 104.8,
            "bin_end": 104.9,
            "count": 0
           },
           {
            "bin_start": 104.9,
            "bin_end": 105,
            "count": 0
           },
           {
            "bin_start": 105,
            "bin_end": 105.1,
            "count": 5
           },
           {
            "bin_start": 105.1,
            "bin_end": 105.2,
            "count": 0
           },
           {
            "bin_start": 105.2,
            "bin_end": 105.3,
            "count": 0
           },
           {
            "bin_start": 105.3,
            "bin_end": 105.4,
            "count": 0
           },
           {
            "bin_start": 105.4,
            "bin_end": 105.5,
            "count": 0
           }
          ]
         }
        },
        {
         "name": "ROAD_BUFF",
         "dtype": "int64",
         "stats": {
          "unique_count": 4,
          "nan_count": 0,
          "min": "1",
          "max": "105",
          "histogram": [
           {
            "bin_start": 1,
            "bin_end": 11.4,
            "count": 4
           },
           {
            "bin_start": 11.4,
            "bin_end": 21.8,
            "count": 0
           },
           {
            "bin_start": 21.8,
            "bin_end": 32.2,
            "count": 0
           },
           {
            "bin_start": 32.2,
            "bin_end": 42.6,
            "count": 0
           },
           {
            "bin_start": 42.6,
            "bin_end": 53,
            "count": 0
           },
           {
            "bin_start": 53,
            "bin_end": 63.400000000000006,
            "count": 0
           },
           {
            "bin_start": 63.400000000000006,
            "bin_end": 73.8,
            "count": 0
           },
           {
            "bin_start": 73.8,
            "bin_end": 84.2,
            "count": 0
           },
           {
            "bin_start": 84.2,
            "bin_end": 94.60000000000001,
            "count": 0
           },
           {
            "bin_start": 94.60000000000001,
            "bin_end": 105,
            "count": 1
           }
          ]
         }
        },
        {
         "name": "CURVA",
         "dtype": "float64",
         "stats": {
          "unique_count": 5,
          "nan_count": 0,
          "min": "-0.1221699",
          "max": "0.1940836",
          "histogram": [
           {
            "bin_start": -0.1221699,
            "bin_end": -0.09054455,
            "count": 1
           },
           {
            "bin_start": -0.09054455,
            "bin_end": -0.058919200000000005,
            "count": 0
           },
           {
            "bin_start": -0.058919200000000005,
            "bin_end": -0.02729385000000001,
            "count": 0
           },
           {
            "bin_start": -0.02729385000000001,
            "bin_end": 0.004331499999999988,
            "count": 2
           },
           {
            "bin_start": 0.004331499999999988,
            "bin_end": 0.035956849999999985,
            "count": 1
           },
           {
            "bin_start": 0.035956849999999985,
            "bin_end": 0.06758219999999998,
            "count": 0
           },
           {
            "bin_start": 0.06758219999999998,
            "bin_end": 0.09920754999999998,
            "count": 0
           },
           {
            "bin_start": 0.09920754999999998,
            "bin_end": 0.13083289999999997,
            "count": 0
           },
           {
            "bin_start": 0.13083289999999997,
            "bin_end": 0.16245824999999997,
            "count": 0
           },
           {
            "bin_start": 0.16245824999999997,
            "bin_end": 0.1940836,
            "count": 1
           }
          ]
         }
        },
        {
         "name": "TWI",
         "dtype": "float64",
         "stats": {
          "unique_count": 5,
          "nan_count": 0,
          "min": "3.7765107",
          "max": "7.8848338",
          "histogram": [
           {
            "bin_start": 3.7765107,
            "bin_end": 4.18734301,
            "count": 1
           },
           {
            "bin_start": 4.18734301,
            "bin_end": 4.59817532,
            "count": 0
           },
           {
            "bin_start": 4.59817532,
            "bin_end": 5.00900763,
            "count": 0
           },
           {
            "bin_start": 5.00900763,
            "bin_end": 5.41983994,
            "count": 0
           },
           {
            "bin_start": 5.41983994,
            "bin_end": 5.83067225,
            "count": 1
           },
           {
            "bin_start": 5.83067225,
            "bin_end": 6.24150456,
            "count": 2
           },
           {
            "bin_start": 6.24150456,
            "bin_end": 6.65233687,
            "count": 0
           },
           {
            "bin_start": 6.65233687,
            "bin_end": 7.06316918,
            "count": 0
           },
           {
            "bin_start": 7.06316918,
            "bin_end": 7.47400149,
            "count": 0
           },
           {
            "bin_start": 7.47400149,
            "bin_end": 7.8848338,
            "count": 1
           }
          ]
         }
        },
        {
         "name": "SLOPE",
         "dtype": "float64",
         "stats": {
          "unique_count": 5,
          "nan_count": 0,
          "min": "3.4057224",
          "max": "32.4627457",
          "histogram": [
           {
            "bin_start": 3.4057224,
            "bin_end": 6.31142473,
            "count": 2
           },
           {
            "bin_start": 6.31142473,
            "bin_end": 9.21712706,
            "count": 2
           },
           {
            "bin_start": 9.21712706,
            "bin_end": 12.122829389999998,
            "count": 0
           },
           {
            "bin_start": 12.122829389999998,
            "bin_end": 15.028531719999998,
            "count": 0
           },
           {
            "bin_start": 15.028531719999998,
            "bin_end": 17.93423405,
            "count": 0
           },
           {
            "bin_start": 17.93423405,
            "bin_end": 20.839936379999997,
            "count": 0
           },
           {
            "bin_start": 20.839936379999997,
            "bin_end": 23.745638709999994,
            "count": 0
           },
           {
            "bin_start": 23.745638709999994,
            "bin_end": 26.65134104,
            "count": 0
           },
           {
            "bin_start": 26.65134104,
            "bin_end": 29.557043369999995,
            "count": 0
           },
           {
            "bin_start": 29.557043369999995,
            "bin_end": 32.4627457,
            "count": 1
           }
          ]
         }
        },
        {
         "name": "Landslide",
         "dtype": "int64",
         "stats": {
          "unique_count": 1,
          "nan_count": 0,
          "min": "0",
          "max": "0",
          "histogram": [
           {
            "bin_start": -0.5,
            "bin_end": -0.4,
            "count": 0
           },
           {
            "bin_start": -0.4,
            "bin_end": -0.3,
            "count": 0
           },
           {
            "bin_start": -0.3,
            "bin_end": -0.19999999999999996,
            "count": 0
           },
           {
            "bin_start": -0.19999999999999996,
            "bin_end": -0.09999999999999998,
            "count": 0
           },
           {
            "bin_start": -0.09999999999999998,
            "bin_end": 0,
            "count": 0
           },
           {
            "bin_start": 0,
            "bin_end": 0.10000000000000009,
            "count": 5
           },
           {
            "bin_start": 0.10000000000000009,
            "bin_end": 0.20000000000000007,
            "count": 0
           },
           {
            "bin_start": 0.20000000000000007,
            "bin_end": 0.30000000000000004,
            "count": 0
           },
           {
            "bin_start": 0.30000000000000004,
            "bin_end": 0.4,
            "count": 0
           },
           {
            "bin_start": 0.4,
            "bin_end": 0.5,
            "count": 0
           }
          ]
         }
        },
        {
         "name": "_deepnote_index_column",
         "dtype": "int64"
        }
       ],
       "rows": [
        {
         "ID": "nan",
         "Land_poi": 0,
         "X": 530759.398165472,
         "Y": 4077320.270663355,
         "DEM": 5163,
         "ASPECT": 94.7636414,
         "SPI": 1.1533304,
         "LULC": 1,
         "GEO": 10,
         "FAULT": 4,
         "RAIN": 1,
         "RIVER_BUFF": 105,
         "ROAD_BUFF": 3,
         "CURVA": 0.1940836,
         "TWI": 5.5127525,
         "SLOPE": 6.1314454,
         "Landslide": 0,
         "_deepnote_index_column": 0
        },
        {
         "ID": "nan",
         "Land_poi": 1,
         "X": 534027.3445658109,
         "Y": 4078562.6816776064,
         "DEM": 5065,
         "ASPECT": 164.7448883,
         "SPI": 4.1973495,
         "LULC": 2,
         "GEO": 10,
         "FAULT": 4,
         "RAIN": 1,
         "RIVER_BUFF": 105,
         "ROAD_BUFF": 2,
         "CURVA": -0.0204872,
         "TWI": 7.8848338,
         "SLOPE": 8.674963,
         "Landslide": 0,
         "_deepnote_index_column": 1
        },
        {
         "ID": "nan",
         "Land_poi": 2,
         "X": 536666.057303102,
         "Y": 4077344.674172909,
         "DEM": 4656,
         "ASPECT": 180,
         "SPI": 1.9193696,
         "LULC": 2,
         "GEO": 10,
         "FAULT": 4,
         "RAIN": 1,
         "RIVER_BUFF": 105,
         "ROAD_BUFF": 1,
         "CURVA": 0.0281645,
         "TWI": 6.1330075,
         "SLOPE": 6.6152864,
         "Landslide": 0,
         "_deepnote_index_column": 2
        },
        {
         "ID": "nan",
         "Land_poi": 3,
         "X": 537685.1155706005,
         "Y": 4077993.394461488,
         "DEM": 4693,
         "ASPECT": 192.9946136,
         "SPI": 0.6021493,
         "LULC": 2,
         "GEO": 10,
         "FAULT": 4,
         "RAIN": 1,
         "RIVER_BUFF": 105,
         "ROAD_BUFF": 1,
         "CURVA": 0.000969,
         "TWI": 6.0639334,
         "SLOPE": 3.4057224,
         "Landslide": 0,
         "_deepnote_index_column": 3
        },
        {
         "ID": "nan",
         "Land_poi": 4,
         "X": 482370.0076754456,
         "Y": 4094980.536246964,
         "DEM": 4300,
         "ASPECT": 157.7509766,
         "SPI": 2.8895721,
         "LULC": 4,
         "GEO": 10,
         "FAULT": 4,
         "RAIN": 1,
         "RIVER_BUFF": 105,
         "ROAD_BUFF": 105,
         "CURVA": -0.1221699,
         "TWI": 3.7765107,
         "SLOPE": 32.4627457,
         "Landslide": 0,
         "_deepnote_index_column": 4
        }
       ]
      },
      "text/plain": "   ID  Land_poi              X             Y   DEM      ASPECT       SPI  \\\n0 NaN         0  530759.398165  4.077320e+06  5163   94.763641  1.153330   \n1 NaN         1  534027.344566  4.078563e+06  5065  164.744888  4.197349   \n2 NaN         2  536666.057303  4.077345e+06  4656  180.000000  1.919370   \n3 NaN         3  537685.115571  4.077993e+06  4693  192.994614  0.602149   \n4 NaN         4  482370.007675  4.094981e+06  4300  157.750977  2.889572   \n\n   LULC  GEO  FAULT  RAIN  RIVER_BUFF  ROAD_BUFF     CURVA       TWI  \\\n0     1   10      4     1         105          3  0.194084  5.512753   \n1     2   10      4     1         105          2 -0.020487  7.884834   \n2     2   10      4     1         105          1  0.028164  6.133007   \n3     2   10      4     1         105          1  0.000969  6.063933   \n4     4   10      4     1         105        105 -0.122170  3.776511   \n\n       SLOPE  Landslide  \n0   6.131445          0  \n1   8.674963          0  \n2   6.615286          0  \n3   3.405722          0  \n4  32.462746          0  ",
      "text/html": "<div>\n<style scoped>\n    .dataframe tbody tr th:only-of-type {\n        vertical-align: middle;\n    }\n\n    .dataframe tbody tr th {\n        vertical-align: top;\n    }\n\n    .dataframe thead th {\n        text-align: right;\n    }\n</style>\n<table border=\"1\" class=\"dataframe\">\n  <thead>\n    <tr style=\"text-align: right;\">\n      <th></th>\n      <th>ID</th>\n      <th>Land_poi</th>\n      <th>X</th>\n      <th>Y</th>\n      <th>DEM</th>\n      <th>ASPECT</th>\n      <th>SPI</th>\n      <th>LULC</th>\n      <th>GEO</th>\n      <th>FAULT</th>\n      <th>RAIN</th>\n      <th>RIVER_BUFF</th>\n      <th>ROAD_BUFF</th>\n      <th>CURVA</th>\n      <th>TWI</th>\n      <th>SLOPE</th>\n      <th>Landslide</th>\n    </tr>\n  </thead>\n  <tbody>\n    <tr>\n      <th>0</th>\n      <td>NaN</td>\n      <td>0</td>\n      <td>530759.398165</td>\n      <td>4.077320e+06</td>\n      <td>5163</td>\n      <td>94.763641</td>\n      <td>1.153330</td>\n      <td>1</td>\n      <td>10</td>\n      <td>4</td>\n      <td>1</td>\n      <td>105</td>\n      <td>3</td>\n      <td>0.194084</td>\n      <td>5.512753</td>\n      <td>6.131445</td>\n      <td>0</td>\n    </tr>\n    <tr>\n      <th>1</th>\n      <td>NaN</td>\n      <td>1</td>\n      <td>534027.344566</td>\n      <td>4.078563e+06</td>\n      <td>5065</td>\n      <td>164.744888</td>\n      <td>4.197349</td>\n      <td>2</td>\n      <td>10</td>\n      <td>4</td>\n      <td>1</td>\n      <td>105</td>\n      <td>2</td>\n      <td>-0.020487</td>\n      <td>7.884834</td>\n      <td>8.674963</td>\n      <td>0</td>\n    </tr>\n    <tr>\n      <th>2</th>\n      <td>NaN</td>\n      <td>2</td>\n      <td>536666.057303</td>\n      <td>4.077345e+06</td>\n      <td>4656</td>\n      <td>180.000000</td>\n      <td>1.919370</td>\n      <td>2</td>\n      <td>10</td>\n      <td>4</td>\n      <td>1</td>\n      <td>105</td>\n      <td>1</td>\n      <td>0.028164</td>\n      <td>6.133007</td>\n      <td>6.615286</td>\n      <td>0</td>\n    </tr>\n    <tr>\n      <th>3</th>\n      <td>NaN</td>\n      <td>3</td>\n      <td>537685.115571</td>\n      <td>4.077993e+06</td>\n      <td>4693</td>\n      <td>192.994614</td>\n      <td>0.602149</td>\n      <td>2</td>\n      <td>10</td>\n      <td>4</td>\n      <td>1</td>\n      <td>105</td>\n      <td>1</td>\n      <td>0.000969</td>\n      <td>6.063933</td>\n      <td>3.405722</td>\n      <td>0</td>\n    </tr>\n    <tr>\n      <th>4</th>\n      <td>NaN</td>\n      <td>4</td>\n      <td>482370.007675</td>\n      <td>4.094981e+06</td>\n      <td>4300</td>\n      <td>157.750977</td>\n      <td>2.889572</td>\n      <td>4</td>\n      <td>10</td>\n      <td>4</td>\n      <td>1</td>\n      <td>105</td>\n      <td>105</td>\n      <td>-0.122170</td>\n      <td>3.776511</td>\n      <td>32.462746</td>\n      <td>0</td>\n    </tr>\n  </tbody>\n</table>\n</div>"
     },
     "metadata": {}
    }
   ]
  },
  {
   "cell_type": "code",
   "metadata": {
    "cell_id": "c75f68e640f0456bbbc6212d59885b22",
    "tags": [],
    "deepnote_to_be_reexecuted": false,
    "source_hash": "5cadee6a",
    "execution_start": 1649574182542,
    "execution_millis": 0,
    "deepnote_app_coordinates": {
     "x": 0,
     "y": 141,
     "w": 12,
     "h": 5
    },
    "deepnote_cell_type": "code",
    "deepnote_cell_height": 80.60000610351562
   },
   "source": "df_non_land=df_non_land.drop(['ID'], axis = 1) #drop extra column",
   "execution_count": null,
   "outputs": []
  },
  {
   "cell_type": "code",
   "metadata": {
    "cell_id": "00015-b0a67dbe-0b41-43a0-8805-4a7017ea269c",
    "deepnote_to_be_reexecuted": false,
    "source_hash": "51033e20",
    "execution_start": 1649574189501,
    "execution_millis": 18,
    "deepnote_app_coordinates": {
     "x": 0,
     "y": 90,
     "w": 12,
     "h": 5
    },
    "deepnote_cell_type": "code",
    "deepnote_cell_height": 80.60000610351562
   },
   "source": "df_non_land.to_csv ('/work/non_land_poi.csv', index=None)",
   "execution_count": null,
   "outputs": []
  },
  {
   "cell_type": "code",
   "metadata": {
    "scrolled": true,
    "cell_id": "00016-aa2e0cad-d863-48a4-be18-117dcaec1856",
    "deepnote_to_be_reexecuted": false,
    "source_hash": "bf28bd8f",
    "execution_start": 1649574212638,
    "execution_millis": 101,
    "deepnote_app_coordinates": {
     "x": 0,
     "y": 96,
     "w": 12,
     "h": 5
    },
    "deepnote_cell_type": "code",
    "deepnote_cell_height": 447
   },
   "source": "#read newly saved csv file\ndf_non_land=pd.read_csv('/work/non_land_poi.csv')\ndf_non_land.head()",
   "execution_count": null,
   "outputs": [
    {
     "output_type": "execute_result",
     "execution_count": 21,
     "data": {
      "application/vnd.deepnote.dataframe.v3+json": {
       "column_count": 16,
       "row_count": 5,
       "columns": [
        {
         "name": "Land_poi",
         "dtype": "int64",
         "stats": {
          "unique_count": 5,
          "nan_count": 0,
          "min": "0",
          "max": "4",
          "histogram": [
           {
            "bin_start": 0,
            "bin_end": 0.4,
            "count": 1
           },
           {
            "bin_start": 0.4,
            "bin_end": 0.8,
            "count": 0
           },
           {
            "bin_start": 0.8,
            "bin_end": 1.2000000000000002,
            "count": 1
           },
           {
            "bin_start": 1.2000000000000002,
            "bin_end": 1.6,
            "count": 0
           },
           {
            "bin_start": 1.6,
            "bin_end": 2,
            "count": 0
           },
           {
            "bin_start": 2,
            "bin_end": 2.4000000000000004,
            "count": 1
           },
           {
            "bin_start": 2.4000000000000004,
            "bin_end": 2.8000000000000003,
            "count": 0
           },
           {
            "bin_start": 2.8000000000000003,
            "bin_end": 3.2,
            "count": 1
           },
           {
            "bin_start": 3.2,
            "bin_end": 3.6,
            "count": 0
           },
           {
            "bin_start": 3.6,
            "bin_end": 4,
            "count": 1
           }
          ]
         }
        },
        {
         "name": "X",
         "dtype": "float64",
         "stats": {
          "unique_count": 5,
          "nan_count": 0,
          "min": "482370.0076754456",
          "max": "537685.1155706005",
          "histogram": [
           {
            "bin_start": 482370.0076754456,
            "bin_end": 487901.5184649611,
            "count": 1
           },
           {
            "bin_start": 487901.5184649611,
            "bin_end": 493433.02925447654,
            "count": 0
           },
           {
            "bin_start": 493433.02925447654,
            "bin_end": 498964.54004399205,
            "count": 0
           },
           {
            "bin_start": 498964.54004399205,
            "bin_end": 504496.05083350756,
            "count": 0
           },
           {
            "bin_start": 504496.05083350756,
            "bin_end": 510027.561623023,
            "count": 0
           },
           {
            "bin_start": 510027.561623023,
            "bin_end": 515559.0724125385,
            "count": 0
           },
           {
            "bin_start": 515559.0724125385,
            "bin_end": 521090.583202054,
            "count": 0
           },
           {
            "bin_start": 521090.583202054,
            "bin_end": 526622.0939915695,
            "count": 0
           },
           {
            "bin_start": 526622.0939915695,
            "bin_end": 532153.604781085,
            "count": 1
           },
           {
            "bin_start": 532153.604781085,
            "bin_end": 537685.1155706005,
            "count": 3
           }
          ]
         }
        },
        {
         "name": "Y",
         "dtype": "float64",
         "stats": {
          "unique_count": 5,
          "nan_count": 0,
          "min": "4077320.270663355",
          "max": "4094980.536246964",
          "histogram": [
           {
            "bin_start": 4077320.270663355,
            "bin_end": 4079086.297221716,
            "count": 4
           },
           {
            "bin_start": 4079086.297221716,
            "bin_end": 4080852.3237800766,
            "count": 0
           },
           {
            "bin_start": 4080852.3237800766,
            "bin_end": 4082618.3503384376,
            "count": 0
           },
           {
            "bin_start": 4082618.3503384376,
            "bin_end": 4084384.3768967986,
            "count": 0
           },
           {
            "bin_start": 4084384.3768967986,
            "bin_end": 4086150.4034551596,
            "count": 0
           },
           {
            "bin_start": 4086150.4034551596,
            "bin_end": 4087916.43001352,
            "count": 0
           },
           {
            "bin_start": 4087916.43001352,
            "bin_end": 4089682.456571881,
            "count": 0
           },
           {
            "bin_start": 4089682.456571881,
            "bin_end": 4091448.483130242,
            "count": 0
           },
           {
            "bin_start": 4091448.483130242,
            "bin_end": 4093214.5096886028,
            "count": 0
           },
           {
            "bin_start": 4093214.5096886028,
            "bin_end": 4094980.536246964,
            "count": 1
           }
          ]
         }
        },
        {
         "name": "DEM",
         "dtype": "int64",
         "stats": {
          "unique_count": 5,
          "nan_count": 0,
          "min": "4300",
          "max": "5163",
          "histogram": [
           {
            "bin_start": 4300,
            "bin_end": 4386.3,
            "count": 1
           },
           {
            "bin_start": 4386.3,
            "bin_end": 4472.6,
            "count": 0
           },
           {
            "bin_start": 4472.6,
            "bin_end": 4558.9,
            "count": 0
           },
           {
            "bin_start": 4558.9,
            "bin_end": 4645.2,
            "count": 0
           },
           {
            "bin_start": 4645.2,
            "bin_end": 4731.5,
            "count": 2
           },
           {
            "bin_start": 4731.5,
            "bin_end": 4817.8,
            "count": 0
           },
           {
            "bin_start": 4817.8,
            "bin_end": 4904.1,
            "count": 0
           },
           {
            "bin_start": 4904.1,
            "bin_end": 4990.4,
            "count": 0
           },
           {
            "bin_start": 4990.4,
            "bin_end": 5076.7,
            "count": 1
           },
           {
            "bin_start": 5076.7,
            "bin_end": 5163,
            "count": 1
           }
          ]
         }
        },
        {
         "name": "ASPECT",
         "dtype": "float64",
         "stats": {
          "unique_count": 5,
          "nan_count": 0,
          "min": "94.7636414",
          "max": "192.9946136",
          "histogram": [
           {
            "bin_start": 94.7636414,
            "bin_end": 104.58673862,
            "count": 1
           },
           {
            "bin_start": 104.58673862,
            "bin_end": 114.40983584,
            "count": 0
           },
           {
            "bin_start": 114.40983584,
            "bin_end": 124.23293306,
            "count": 0
           },
           {
            "bin_start": 124.23293306,
            "bin_end": 134.05603028000002,
            "count": 0
           },
           {
            "bin_start": 134.05603028000002,
            "bin_end": 143.8791275,
            "count": 0
           },
           {
            "bin_start": 143.8791275,
            "bin_end": 153.70222472,
            "count": 0
           },
           {
            "bin_start": 153.70222472,
            "bin_end": 163.52532194000003,
            "count": 1
           },
           {
            "bin_start": 163.52532194000003,
            "bin_end": 173.34841916,
            "count": 1
           },
           {
            "bin_start": 173.34841916,
            "bin_end": 183.17151638,
            "count": 1
           },
           {
            "bin_start": 183.17151638,
            "bin_end": 192.9946136,
            "count": 1
           }
          ]
         }
        },
        {
         "name": "SPI",
         "dtype": "float64",
         "stats": {
          "unique_count": 5,
          "nan_count": 0,
          "min": "0.6021493",
          "max": "4.1973495",
          "histogram": [
           {
            "bin_start": 0.6021493,
            "bin_end": 0.9616693199999999,
            "count": 1
           },
           {
            "bin_start": 0.9616693199999999,
            "bin_end": 1.32118934,
            "count": 1
           },
           {
            "bin_start": 1.32118934,
            "bin_end": 1.68070936,
            "count": 0
           },
           {
            "bin_start": 1.68070936,
            "bin_end": 2.04022938,
            "count": 1
           },
           {
            "bin_start": 2.04022938,
            "bin_end": 2.3997494,
            "count": 0
           },
           {
            "bin_start": 2.3997494,
            "bin_end": 2.75926942,
            "count": 0
           },
           {
            "bin_start": 2.75926942,
            "bin_end": 3.1187894399999996,
            "count": 1
           },
           {
            "bin_start": 3.1187894399999996,
            "bin_end": 3.47830946,
            "count": 0
           },
           {
            "bin_start": 3.47830946,
            "bin_end": 3.83782948,
            "count": 0
           },
           {
            "bin_start": 3.83782948,
            "bin_end": 4.1973495,
            "count": 1
           }
          ]
         }
        },
        {
         "name": "LULC",
         "dtype": "int64",
         "stats": {
          "unique_count": 3,
          "nan_count": 0,
          "min": "1",
          "max": "4",
          "histogram": [
           {
            "bin_start": 1,
            "bin_end": 1.3,
            "count": 1
           },
           {
            "bin_start": 1.3,
            "bin_end": 1.6,
            "count": 0
           },
           {
            "bin_start": 1.6,
            "bin_end": 1.9,
            "count": 0
           },
           {
            "bin_start": 1.9,
            "bin_end": 2.2,
            "count": 3
           },
           {
            "bin_start": 2.2,
            "bin_end": 2.5,
            "count": 0
           },
           {
            "bin_start": 2.5,
            "bin_end": 2.8,
            "count": 0
           },
           {
            "bin_start": 2.8,
            "bin_end": 3.1,
            "count": 0
           },
           {
            "bin_start": 3.1,
            "bin_end": 3.4,
            "count": 0
           },
           {
            "bin_start": 3.4,
            "bin_end": 3.6999999999999997,
            "count": 0
           },
           {
            "bin_start": 3.6999999999999997,
            "bin_end": 4,
            "count": 1
           }
          ]
         }
        },
        {
         "name": "GEO",
         "dtype": "int64",
         "stats": {
          "unique_count": 1,
          "nan_count": 0,
          "min": "10",
          "max": "10",
          "histogram": [
           {
            "bin_start": 9.5,
            "bin_end": 9.6,
            "count": 0
           },
           {
            "bin_start": 9.6,
            "bin_end": 9.7,
            "count": 0
           },
           {
            "bin_start": 9.7,
            "bin_end": 9.8,
            "count": 0
           },
           {
            "bin_start": 9.8,
            "bin_end": 9.9,
            "count": 0
           },
           {
            "bin_start": 9.9,
            "bin_end": 10,
            "count": 0
           },
           {
            "bin_start": 10,
            "bin_end": 10.1,
            "count": 5
           },
           {
            "bin_start": 10.1,
            "bin_end": 10.2,
            "count": 0
           },
           {
            "bin_start": 10.2,
            "bin_end": 10.3,
            "count": 0
           },
           {
            "bin_start": 10.3,
            "bin_end": 10.4,
            "count": 0
           },
           {
            "bin_start": 10.4,
            "bin_end": 10.5,
            "count": 0
           }
          ]
         }
        },
        {
         "name": "FAULT",
         "dtype": "int64",
         "stats": {
          "unique_count": 1,
          "nan_count": 0,
          "min": "4",
          "max": "4",
          "histogram": [
           {
            "bin_start": 3.5,
            "bin_end": 3.6,
            "count": 0
           },
           {
            "bin_start": 3.6,
            "bin_end": 3.7,
            "count": 0
           },
           {
            "bin_start": 3.7,
            "bin_end": 3.8,
            "count": 0
           },
           {
            "bin_start": 3.8,
            "bin_end": 3.9,
            "count": 0
           },
           {
            "bin_start": 3.9,
            "bin_end": 4,
            "count": 0
           },
           {
            "bin_start": 4,
            "bin_end": 4.1,
            "count": 5
           },
           {
            "bin_start": 4.1,
            "bin_end": 4.2,
            "count": 0
           },
           {
            "bin_start": 4.2,
            "bin_end": 4.3,
            "count": 0
           },
           {
            "bin_start": 4.3,
            "bin_end": 4.4,
            "count": 0
           },
           {
            "bin_start": 4.4,
            "bin_end": 4.5,
            "count": 0
           }
          ]
         }
        },
        {
         "name": "RAIN",
         "dtype": "int64",
         "stats": {
          "unique_count": 1,
          "nan_count": 0,
          "min": "1",
          "max": "1",
          "histogram": [
           {
            "bin_start": 0.5,
            "bin_end": 0.6,
            "count": 0
           },
           {
            "bin_start": 0.6,
            "bin_end": 0.7,
            "count": 0
           },
           {
            "bin_start": 0.7,
            "bin_end": 0.8,
            "count": 0
           },
           {
            "bin_start": 0.8,
            "bin_end": 0.9,
            "count": 0
           },
           {
            "bin_start": 0.9,
            "bin_end": 1,
            "count": 0
           },
           {
            "bin_start": 1,
            "bin_end": 1.1,
            "count": 5
           },
           {
            "bin_start": 1.1,
            "bin_end": 1.2000000000000002,
            "count": 0
           },
           {
            "bin_start": 1.2000000000000002,
            "bin_end": 1.3,
            "count": 0
           },
           {
            "bin_start": 1.3,
            "bin_end": 1.4,
            "count": 0
           },
           {
            "bin_start": 1.4,
            "bin_end": 1.5,
            "count": 0
           }
          ]
         }
        },
        {
         "name": "RIVER_BUFF",
         "dtype": "int64",
         "stats": {
          "unique_count": 1,
          "nan_count": 0,
          "min": "105",
          "max": "105",
          "histogram": [
           {
            "bin_start": 104.5,
            "bin_end": 104.6,
            "count": 0
           },
           {
            "bin_start": 104.6,
            "bin_end": 104.7,
            "count": 0
           },
           {
            "bin_start": 104.7,
            "bin_end": 104.8,
            "count": 0
           },
           {
            "bin_start": 104.8,
            "bin_end": 104.9,
            "count": 0
           },
           {
            "bin_start": 104.9,
            "bin_end": 105,
            "count": 0
           },
           {
            "bin_start": 105,
            "bin_end": 105.1,
            "count": 5
           },
           {
            "bin_start": 105.1,
            "bin_end": 105.2,
            "count": 0
           },
           {
            "bin_start": 105.2,
            "bin_end": 105.3,
            "count": 0
           },
           {
            "bin_start": 105.3,
            "bin_end": 105.4,
            "count": 0
           },
           {
            "bin_start": 105.4,
            "bin_end": 105.5,
            "count": 0
           }
          ]
         }
        },
        {
         "name": "ROAD_BUFF",
         "dtype": "int64",
         "stats": {
          "unique_count": 4,
          "nan_count": 0,
          "min": "1",
          "max": "105",
          "histogram": [
           {
            "bin_start": 1,
            "bin_end": 11.4,
            "count": 4
           },
           {
            "bin_start": 11.4,
            "bin_end": 21.8,
            "count": 0
           },
           {
            "bin_start": 21.8,
            "bin_end": 32.2,
            "count": 0
           },
           {
            "bin_start": 32.2,
            "bin_end": 42.6,
            "count": 0
           },
           {
            "bin_start": 42.6,
            "bin_end": 53,
            "count": 0
           },
           {
            "bin_start": 53,
            "bin_end": 63.400000000000006,
            "count": 0
           },
           {
            "bin_start": 63.400000000000006,
            "bin_end": 73.8,
            "count": 0
           },
           {
            "bin_start": 73.8,
            "bin_end": 84.2,
            "count": 0
           },
           {
            "bin_start": 84.2,
            "bin_end": 94.60000000000001,
            "count": 0
           },
           {
            "bin_start": 94.60000000000001,
            "bin_end": 105,
            "count": 1
           }
          ]
         }
        },
        {
         "name": "CURVA",
         "dtype": "float64",
         "stats": {
          "unique_count": 5,
          "nan_count": 0,
          "min": "-0.1221699",
          "max": "0.1940836",
          "histogram": [
           {
            "bin_start": -0.1221699,
            "bin_end": -0.09054455,
            "count": 1
           },
           {
            "bin_start": -0.09054455,
            "bin_end": -0.058919200000000005,
            "count": 0
           },
           {
            "bin_start": -0.058919200000000005,
            "bin_end": -0.02729385000000001,
            "count": 0
           },
           {
            "bin_start": -0.02729385000000001,
            "bin_end": 0.004331499999999988,
            "count": 2
           },
           {
            "bin_start": 0.004331499999999988,
            "bin_end": 0.035956849999999985,
            "count": 1
           },
           {
            "bin_start": 0.035956849999999985,
            "bin_end": 0.06758219999999998,
            "count": 0
           },
           {
            "bin_start": 0.06758219999999998,
            "bin_end": 0.09920754999999998,
            "count": 0
           },
           {
            "bin_start": 0.09920754999999998,
            "bin_end": 0.13083289999999997,
            "count": 0
           },
           {
            "bin_start": 0.13083289999999997,
            "bin_end": 0.16245824999999997,
            "count": 0
           },
           {
            "bin_start": 0.16245824999999997,
            "bin_end": 0.1940836,
            "count": 1
           }
          ]
         }
        },
        {
         "name": "TWI",
         "dtype": "float64",
         "stats": {
          "unique_count": 5,
          "nan_count": 0,
          "min": "3.7765107",
          "max": "7.8848338",
          "histogram": [
           {
            "bin_start": 3.7765107,
            "bin_end": 4.18734301,
            "count": 1
           },
           {
            "bin_start": 4.18734301,
            "bin_end": 4.59817532,
            "count": 0
           },
           {
            "bin_start": 4.59817532,
            "bin_end": 5.00900763,
            "count": 0
           },
           {
            "bin_start": 5.00900763,
            "bin_end": 5.41983994,
            "count": 0
           },
           {
            "bin_start": 5.41983994,
            "bin_end": 5.83067225,
            "count": 1
           },
           {
            "bin_start": 5.83067225,
            "bin_end": 6.24150456,
            "count": 2
           },
           {
            "bin_start": 6.24150456,
            "bin_end": 6.65233687,
            "count": 0
           },
           {
            "bin_start": 6.65233687,
            "bin_end": 7.06316918,
            "count": 0
           },
           {
            "bin_start": 7.06316918,
            "bin_end": 7.47400149,
            "count": 0
           },
           {
            "bin_start": 7.47400149,
            "bin_end": 7.8848338,
            "count": 1
           }
          ]
         }
        },
        {
         "name": "SLOPE",
         "dtype": "float64",
         "stats": {
          "unique_count": 5,
          "nan_count": 0,
          "min": "3.4057224",
          "max": "32.4627457",
          "histogram": [
           {
            "bin_start": 3.4057224,
            "bin_end": 6.31142473,
            "count": 2
           },
           {
            "bin_start": 6.31142473,
            "bin_end": 9.21712706,
            "count": 2
           },
           {
            "bin_start": 9.21712706,
            "bin_end": 12.122829389999998,
            "count": 0
           },
           {
            "bin_start": 12.122829389999998,
            "bin_end": 15.028531719999998,
            "count": 0
           },
           {
            "bin_start": 15.028531719999998,
            "bin_end": 17.93423405,
            "count": 0
           },
           {
            "bin_start": 17.93423405,
            "bin_end": 20.839936379999997,
            "count": 0
           },
           {
            "bin_start": 20.839936379999997,
            "bin_end": 23.745638709999994,
            "count": 0
           },
           {
            "bin_start": 23.745638709999994,
            "bin_end": 26.65134104,
            "count": 0
           },
           {
            "bin_start": 26.65134104,
            "bin_end": 29.557043369999995,
            "count": 0
           },
           {
            "bin_start": 29.557043369999995,
            "bin_end": 32.4627457,
            "count": 1
           }
          ]
         }
        },
        {
         "name": "Landslide",
         "dtype": "int64",
         "stats": {
          "unique_count": 1,
          "nan_count": 0,
          "min": "0",
          "max": "0",
          "histogram": [
           {
            "bin_start": -0.5,
            "bin_end": -0.4,
            "count": 0
           },
           {
            "bin_start": -0.4,
            "bin_end": -0.3,
            "count": 0
           },
           {
            "bin_start": -0.3,
            "bin_end": -0.19999999999999996,
            "count": 0
           },
           {
            "bin_start": -0.19999999999999996,
            "bin_end": -0.09999999999999998,
            "count": 0
           },
           {
            "bin_start": -0.09999999999999998,
            "bin_end": 0,
            "count": 0
           },
           {
            "bin_start": 0,
            "bin_end": 0.10000000000000009,
            "count": 5
           },
           {
            "bin_start": 0.10000000000000009,
            "bin_end": 0.20000000000000007,
            "count": 0
           },
           {
            "bin_start": 0.20000000000000007,
            "bin_end": 0.30000000000000004,
            "count": 0
           },
           {
            "bin_start": 0.30000000000000004,
            "bin_end": 0.4,
            "count": 0
           },
           {
            "bin_start": 0.4,
            "bin_end": 0.5,
            "count": 0
           }
          ]
         }
        },
        {
         "name": "_deepnote_index_column",
         "dtype": "int64"
        }
       ],
       "rows": [
        {
         "Land_poi": 0,
         "X": 530759.398165472,
         "Y": 4077320.270663355,
         "DEM": 5163,
         "ASPECT": 94.7636414,
         "SPI": 1.1533304,
         "LULC": 1,
         "GEO": 10,
         "FAULT": 4,
         "RAIN": 1,
         "RIVER_BUFF": 105,
         "ROAD_BUFF": 3,
         "CURVA": 0.1940836,
         "TWI": 5.5127525,
         "SLOPE": 6.1314454,
         "Landslide": 0,
         "_deepnote_index_column": 0
        },
        {
         "Land_poi": 1,
         "X": 534027.3445658109,
         "Y": 4078562.6816776064,
         "DEM": 5065,
         "ASPECT": 164.7448883,
         "SPI": 4.1973495,
         "LULC": 2,
         "GEO": 10,
         "FAULT": 4,
         "RAIN": 1,
         "RIVER_BUFF": 105,
         "ROAD_BUFF": 2,
         "CURVA": -0.0204872,
         "TWI": 7.8848338,
         "SLOPE": 8.674963,
         "Landslide": 0,
         "_deepnote_index_column": 1
        },
        {
         "Land_poi": 2,
         "X": 536666.057303102,
         "Y": 4077344.674172909,
         "DEM": 4656,
         "ASPECT": 180,
         "SPI": 1.9193696,
         "LULC": 2,
         "GEO": 10,
         "FAULT": 4,
         "RAIN": 1,
         "RIVER_BUFF": 105,
         "ROAD_BUFF": 1,
         "CURVA": 0.0281645,
         "TWI": 6.1330075,
         "SLOPE": 6.6152864,
         "Landslide": 0,
         "_deepnote_index_column": 2
        },
        {
         "Land_poi": 3,
         "X": 537685.1155706005,
         "Y": 4077993.394461488,
         "DEM": 4693,
         "ASPECT": 192.9946136,
         "SPI": 0.6021493,
         "LULC": 2,
         "GEO": 10,
         "FAULT": 4,
         "RAIN": 1,
         "RIVER_BUFF": 105,
         "ROAD_BUFF": 1,
         "CURVA": 0.000969,
         "TWI": 6.0639334,
         "SLOPE": 3.4057224,
         "Landslide": 0,
         "_deepnote_index_column": 3
        },
        {
         "Land_poi": 4,
         "X": 482370.0076754456,
         "Y": 4094980.536246964,
         "DEM": 4300,
         "ASPECT": 157.7509766,
         "SPI": 2.8895721,
         "LULC": 4,
         "GEO": 10,
         "FAULT": 4,
         "RAIN": 1,
         "RIVER_BUFF": 105,
         "ROAD_BUFF": 105,
         "CURVA": -0.1221699,
         "TWI": 3.7765107,
         "SLOPE": 32.4627457,
         "Landslide": 0,
         "_deepnote_index_column": 4
        }
       ]
      },
      "text/plain": "   Land_poi              X             Y   DEM      ASPECT       SPI  LULC  \\\n0         0  530759.398165  4.077320e+06  5163   94.763641  1.153330     1   \n1         1  534027.344566  4.078563e+06  5065  164.744888  4.197349     2   \n2         2  536666.057303  4.077345e+06  4656  180.000000  1.919370     2   \n3         3  537685.115571  4.077993e+06  4693  192.994614  0.602149     2   \n4         4  482370.007675  4.094981e+06  4300  157.750977  2.889572     4   \n\n   GEO  FAULT  RAIN  RIVER_BUFF  ROAD_BUFF     CURVA       TWI      SLOPE  \\\n0   10      4     1         105          3  0.194084  5.512753   6.131445   \n1   10      4     1         105          2 -0.020487  7.884834   8.674963   \n2   10      4     1         105          1  0.028164  6.133007   6.615286   \n3   10      4     1         105          1  0.000969  6.063933   3.405722   \n4   10      4     1         105        105 -0.122170  3.776511  32.462746   \n\n   Landslide  \n0          0  \n1          0  \n2          0  \n3          0  \n4          0  ",
      "text/html": "<div>\n<style scoped>\n    .dataframe tbody tr th:only-of-type {\n        vertical-align: middle;\n    }\n\n    .dataframe tbody tr th {\n        vertical-align: top;\n    }\n\n    .dataframe thead th {\n        text-align: right;\n    }\n</style>\n<table border=\"1\" class=\"dataframe\">\n  <thead>\n    <tr style=\"text-align: right;\">\n      <th></th>\n      <th>Land_poi</th>\n      <th>X</th>\n      <th>Y</th>\n      <th>DEM</th>\n      <th>ASPECT</th>\n      <th>SPI</th>\n      <th>LULC</th>\n      <th>GEO</th>\n      <th>FAULT</th>\n      <th>RAIN</th>\n      <th>RIVER_BUFF</th>\n      <th>ROAD_BUFF</th>\n      <th>CURVA</th>\n      <th>TWI</th>\n      <th>SLOPE</th>\n      <th>Landslide</th>\n    </tr>\n  </thead>\n  <tbody>\n    <tr>\n      <th>0</th>\n      <td>0</td>\n      <td>530759.398165</td>\n      <td>4.077320e+06</td>\n      <td>5163</td>\n      <td>94.763641</td>\n      <td>1.153330</td>\n      <td>1</td>\n      <td>10</td>\n      <td>4</td>\n      <td>1</td>\n      <td>105</td>\n      <td>3</td>\n      <td>0.194084</td>\n      <td>5.512753</td>\n      <td>6.131445</td>\n      <td>0</td>\n    </tr>\n    <tr>\n      <th>1</th>\n      <td>1</td>\n      <td>534027.344566</td>\n      <td>4.078563e+06</td>\n      <td>5065</td>\n      <td>164.744888</td>\n      <td>4.197349</td>\n      <td>2</td>\n      <td>10</td>\n      <td>4</td>\n      <td>1</td>\n      <td>105</td>\n      <td>2</td>\n      <td>-0.020487</td>\n      <td>7.884834</td>\n      <td>8.674963</td>\n      <td>0</td>\n    </tr>\n    <tr>\n      <th>2</th>\n      <td>2</td>\n      <td>536666.057303</td>\n      <td>4.077345e+06</td>\n      <td>4656</td>\n      <td>180.000000</td>\n      <td>1.919370</td>\n      <td>2</td>\n      <td>10</td>\n      <td>4</td>\n      <td>1</td>\n      <td>105</td>\n      <td>1</td>\n      <td>0.028164</td>\n      <td>6.133007</td>\n      <td>6.615286</td>\n      <td>0</td>\n    </tr>\n    <tr>\n      <th>3</th>\n      <td>3</td>\n      <td>537685.115571</td>\n      <td>4.077993e+06</td>\n      <td>4693</td>\n      <td>192.994614</td>\n      <td>0.602149</td>\n      <td>2</td>\n      <td>10</td>\n      <td>4</td>\n      <td>1</td>\n      <td>105</td>\n      <td>1</td>\n      <td>0.000969</td>\n      <td>6.063933</td>\n      <td>3.405722</td>\n      <td>0</td>\n    </tr>\n    <tr>\n      <th>4</th>\n      <td>4</td>\n      <td>482370.007675</td>\n      <td>4.094981e+06</td>\n      <td>4300</td>\n      <td>157.750977</td>\n      <td>2.889572</td>\n      <td>4</td>\n      <td>10</td>\n      <td>4</td>\n      <td>1</td>\n      <td>105</td>\n      <td>105</td>\n      <td>-0.122170</td>\n      <td>3.776511</td>\n      <td>32.462746</td>\n      <td>0</td>\n    </tr>\n  </tbody>\n</table>\n</div>"
     },
     "metadata": {}
    }
   ]
  },
  {
   "cell_type": "markdown",
   "source": "## Combine landslide and non_landslide points dataframe",
   "metadata": {
    "cell_id": "00017-12ed8c30-f0aa-4d8d-92e9-c05637e47672",
    "deepnote_app_coordinates": {
     "x": 0,
     "y": 102,
     "w": 12,
     "h": 5
    },
    "deepnote_cell_type": "markdown",
    "deepnote_cell_height": 109.60000610351562
   }
  },
  {
   "cell_type": "code",
   "metadata": {
    "scrolled": true,
    "cell_id": "00018-099745a6-dd5a-479c-ab58-a50a199899bb",
    "deepnote_to_be_reexecuted": false,
    "source_hash": "15fe20d7",
    "execution_start": 1649574286242,
    "execution_millis": 119,
    "deepnote_app_coordinates": {
     "x": 0,
     "y": 108,
     "w": 12,
     "h": 5
    },
    "owner_user_id": "07d8587d-5b24-46bc-9248-969233b0e4c4",
    "deepnote_cell_type": "code",
    "deepnote_cell_height": 634
   },
   "source": "df_land_nonland = pd.concat([df_land,df_non_land], ignore_index=True, sort=False)\ndf_land_nonland",
   "execution_count": null,
   "outputs": [
    {
     "output_type": "execute_result",
     "execution_count": 22,
     "data": {
      "application/vnd.deepnote.dataframe.v3+json": {
       "column_count": 16,
       "row_count": 240,
       "columns": [
        {
         "name": "Land_poi",
         "dtype": "int64",
         "stats": {
          "unique_count": 120,
          "nan_count": 0,
          "min": "0",
          "max": "119",
          "histogram": [
           {
            "bin_start": 0,
            "bin_end": 11.9,
            "count": 24
           },
           {
            "bin_start": 11.9,
            "bin_end": 23.8,
            "count": 24
           },
           {
            "bin_start": 23.8,
            "bin_end": 35.7,
            "count": 24
           },
           {
            "bin_start": 35.7,
            "bin_end": 47.6,
            "count": 24
           },
           {
            "bin_start": 47.6,
            "bin_end": 59.5,
            "count": 24
           },
           {
            "bin_start": 59.5,
            "bin_end": 71.4,
            "count": 24
           },
           {
            "bin_start": 71.4,
            "bin_end": 83.3,
            "count": 24
           },
           {
            "bin_start": 83.3,
            "bin_end": 95.2,
            "count": 24
           },
           {
            "bin_start": 95.2,
            "bin_end": 107.10000000000001,
            "count": 24
           },
           {
            "bin_start": 107.10000000000001,
            "bin_end": 119,
            "count": 24
           }
          ]
         }
        },
        {
         "name": "X",
         "dtype": "float64",
         "stats": {
          "unique_count": 240,
          "nan_count": 0,
          "min": "421162.2383268583",
          "max": "565719.8540946904",
          "histogram": [
           {
            "bin_start": 421162.2383268583,
            "bin_end": 435617.9999036415,
            "count": 26
           },
           {
            "bin_start": 435617.9999036415,
            "bin_end": 450073.7614804247,
            "count": 40
           },
           {
            "bin_start": 450073.7614804247,
            "bin_end": 464529.52305720793,
            "count": 27
           },
           {
            "bin_start": 464529.52305720793,
            "bin_end": 478985.28463399113,
            "count": 25
           },
           {
            "bin_start": 478985.28463399113,
            "bin_end": 493441.04621077434,
            "count": 47
           },
           {
            "bin_start": 493441.04621077434,
            "bin_end": 507896.8077875576,
            "count": 16
           },
           {
            "bin_start": 507896.8077875576,
            "bin_end": 522352.5693643408,
            "count": 23
           },
           {
            "bin_start": 522352.5693643408,
            "bin_end": 536808.330941124,
            "count": 22
           },
           {
            "bin_start": 536808.330941124,
            "bin_end": 551264.0925179071,
            "count": 9
           },
           {
            "bin_start": 551264.0925179071,
            "bin_end": 565719.8540946904,
            "count": 5
           }
          ]
         }
        },
        {
         "name": "Y",
         "dtype": "float64",
         "stats": {
          "unique_count": 240,
          "nan_count": 0,
          "min": "3986844.464408837",
          "max": "4096646.320625085",
          "histogram": [
           {
            "bin_start": 3986844.464408837,
            "bin_end": 3997824.6500304616,
            "count": 12
           },
           {
            "bin_start": 3997824.6500304616,
            "bin_end": 4008804.8356520864,
            "count": 24
           },
           {
            "bin_start": 4008804.8356520864,
            "bin_end": 4019785.021273711,
            "count": 44
           },
           {
            "bin_start": 4019785.021273711,
            "bin_end": 4030765.206895336,
            "count": 26
           },
           {
            "bin_start": 4030765.206895336,
            "bin_end": 4041745.392516961,
            "count": 24
           },
           {
            "bin_start": 4041745.392516961,
            "bin_end": 4052725.5781385857,
            "count": 12
           },
           {
            "bin_start": 4052725.5781385857,
            "bin_end": 4063705.7637602105,
            "count": 34
           },
           {
            "bin_start": 4063705.7637602105,
            "bin_end": 4074685.9493818353,
            "count": 30
           },
           {
            "bin_start": 4074685.9493818353,
            "bin_end": 4085666.13500346,
            "count": 25
           },
           {
            "bin_start": 4085666.13500346,
            "bin_end": 4096646.320625085,
            "count": 9
           }
          ]
         }
        },
        {
         "name": "DEM",
         "dtype": "int64",
         "stats": {
          "unique_count": 235,
          "nan_count": 0,
          "min": "1509",
          "max": "7287",
          "histogram": [
           {
            "bin_start": 1509,
            "bin_end": 2086.8,
            "count": 33
           },
           {
            "bin_start": 2086.8,
            "bin_end": 2664.6,
            "count": 34
           },
           {
            "bin_start": 2664.6,
            "bin_end": 3242.3999999999996,
            "count": 65
           },
           {
            "bin_start": 3242.3999999999996,
            "bin_end": 3820.2,
            "count": 38
           },
           {
            "bin_start": 3820.2,
            "bin_end": 4398,
            "count": 28
           },
           {
            "bin_start": 4398,
            "bin_end": 4975.799999999999,
            "count": 23
           },
           {
            "bin_start": 4975.799999999999,
            "bin_end": 5553.599999999999,
            "count": 11
           },
           {
            "bin_start": 5553.599999999999,
            "bin_end": 6131.4,
            "count": 4
           },
           {
            "bin_start": 6131.4,
            "bin_end": 6709.2,
            "count": 0
           },
           {
            "bin_start": 6709.2,
            "bin_end": 7287,
            "count": 4
           }
          ]
         }
        },
        {
         "name": "ASPECT",
         "dtype": "float64",
         "stats": {
          "unique_count": 231,
          "nan_count": 0,
          "min": "0.0",
          "max": "356.8201599",
          "histogram": [
           {
            "bin_start": 0,
            "bin_end": 35.682015990000004,
            "count": 20
           },
           {
            "bin_start": 35.682015990000004,
            "bin_end": 71.36403198000001,
            "count": 20
           },
           {
            "bin_start": 71.36403198000001,
            "bin_end": 107.04604797000002,
            "count": 36
           },
           {
            "bin_start": 107.04604797000002,
            "bin_end": 142.72806396000001,
            "count": 22
           },
           {
            "bin_start": 142.72806396000001,
            "bin_end": 178.41007995,
            "count": 31
           },
           {
            "bin_start": 178.41007995,
            "bin_end": 214.09209594000004,
            "count": 38
           },
           {
            "bin_start": 214.09209594000004,
            "bin_end": 249.77411193000003,
            "count": 27
           },
           {
            "bin_start": 249.77411193000003,
            "bin_end": 285.45612792000003,
            "count": 17
           },
           {
            "bin_start": 285.45612792000003,
            "bin_end": 321.13814391000005,
            "count": 13
           },
           {
            "bin_start": 321.13814391000005,
            "bin_end": 356.8201599,
            "count": 16
           }
          ]
         }
        },
        {
         "name": "SPI",
         "dtype": "float64",
         "stats": {
          "unique_count": 238,
          "nan_count": 0,
          "min": "-1.8430583",
          "max": "10.9402494",
          "histogram": [
           {
            "bin_start": -1.8430583,
            "bin_end": -0.5647275299999999,
            "count": 3
           },
           {
            "bin_start": -0.5647275299999999,
            "bin_end": 0.7136032400000003,
            "count": 13
           },
           {
            "bin_start": 0.7136032400000003,
            "bin_end": 1.9919340100000005,
            "count": 35
           },
           {
            "bin_start": 1.9919340100000005,
            "bin_end": 3.2702647800000006,
            "count": 50
           },
           {
            "bin_start": 3.2702647800000006,
            "bin_end": 4.548595550000001,
            "count": 55
           },
           {
            "bin_start": 4.548595550000001,
            "bin_end": 5.826926320000001,
            "count": 43
           },
           {
            "bin_start": 5.826926320000001,
            "bin_end": 7.105257090000001,
            "count": 19
           },
           {
            "bin_start": 7.105257090000001,
            "bin_end": 8.383587860000002,
            "count": 10
           },
           {
            "bin_start": 8.383587860000002,
            "bin_end": 9.661918630000002,
            "count": 8
           },
           {
            "bin_start": 9.661918630000002,
            "bin_end": 10.9402494,
            "count": 4
           }
          ]
         }
        },
        {
         "name": "LULC",
         "dtype": "int64",
         "stats": {
          "unique_count": 4,
          "nan_count": 0,
          "min": "1",
          "max": "4",
          "histogram": [
           {
            "bin_start": 1,
            "bin_end": 1.3,
            "count": 27
           },
           {
            "bin_start": 1.3,
            "bin_end": 1.6,
            "count": 0
           },
           {
            "bin_start": 1.6,
            "bin_end": 1.9,
            "count": 0
           },
           {
            "bin_start": 1.9,
            "bin_end": 2.2,
            "count": 131
           },
           {
            "bin_start": 2.2,
            "bin_end": 2.5,
            "count": 0
           },
           {
            "bin_start": 2.5,
            "bin_end": 2.8,
            "count": 0
           },
           {
            "bin_start": 2.8,
            "bin_end": 3.1,
            "count": 32
           },
           {
            "bin_start": 3.1,
            "bin_end": 3.4,
            "count": 0
           },
           {
            "bin_start": 3.4,
            "bin_end": 3.6999999999999997,
            "count": 0
           },
           {
            "bin_start": 3.6999999999999997,
            "bin_end": 4,
            "count": 50
           }
          ]
         }
        },
        {
         "name": "GEO",
         "dtype": "int64",
         "stats": {
          "unique_count": 9,
          "nan_count": 0,
          "min": "1",
          "max": "10",
          "histogram": [
           {
            "bin_start": 1,
            "bin_end": 1.9,
            "count": 54
           },
           {
            "bin_start": 1.9,
            "bin_end": 2.8,
            "count": 12
           },
           {
            "bin_start": 2.8,
            "bin_end": 3.7,
            "count": 0
           },
           {
            "bin_start": 3.7,
            "bin_end": 4.6,
            "count": 3
           },
           {
            "bin_start": 4.6,
            "bin_end": 5.5,
            "count": 26
           },
           {
            "bin_start": 5.5,
            "bin_end": 6.4,
            "count": 18
           },
           {
            "bin_start": 6.4,
            "bin_end": 7.3,
            "count": 29
           },
           {
            "bin_start": 7.3,
            "bin_end": 8.2,
            "count": 44
           },
           {
            "bin_start": 8.2,
            "bin_end": 9.1,
            "count": 6
           },
           {
            "bin_start": 9.1,
            "bin_end": 10,
            "count": 48
           }
          ]
         }
        },
        {
         "name": "FAULT",
         "dtype": "int64",
         "stats": {
          "unique_count": 5,
          "nan_count": 0,
          "min": "0",
          "max": "4",
          "histogram": [
           {
            "bin_start": 0,
            "bin_end": 0.4,
            "count": 2
           },
           {
            "bin_start": 0.4,
            "bin_end": 0.8,
            "count": 0
           },
           {
            "bin_start": 0.8,
            "bin_end": 1.2000000000000002,
            "count": 3
           },
           {
            "bin_start": 1.2000000000000002,
            "bin_end": 1.6,
            "count": 0
           },
           {
            "bin_start": 1.6,
            "bin_end": 2,
            "count": 0
           },
           {
            "bin_start": 2,
            "bin_end": 2.4000000000000004,
            "count": 1
           },
           {
            "bin_start": 2.4000000000000004,
            "bin_end": 2.8000000000000003,
            "count": 0
           },
           {
            "bin_start": 2.8000000000000003,
            "bin_end": 3.2,
            "count": 3
           },
           {
            "bin_start": 3.2,
            "bin_end": 3.6,
            "count": 0
           },
           {
            "bin_start": 3.6,
            "bin_end": 4,
            "count": 231
           }
          ]
         }
        },
        {
         "name": "RAIN",
         "dtype": "int64",
         "stats": {
          "unique_count": 5,
          "nan_count": 0,
          "min": "1",
          "max": "5",
          "histogram": [
           {
            "bin_start": 1,
            "bin_end": 1.4,
            "count": 102
           },
           {
            "bin_start": 1.4,
            "bin_end": 1.8,
            "count": 0
           },
           {
            "bin_start": 1.8,
            "bin_end": 2.2,
            "count": 85
           },
           {
            "bin_start": 2.2,
            "bin_end": 2.6,
            "count": 0
           },
           {
            "bin_start": 2.6,
            "bin_end": 3,
            "count": 0
           },
           {
            "bin_start": 3,
            "bin_end": 3.4000000000000004,
            "count": 31
           },
           {
            "bin_start": 3.4000000000000004,
            "bin_end": 3.8000000000000003,
            "count": 0
           },
           {
            "bin_start": 3.8000000000000003,
            "bin_end": 4.2,
            "count": 17
           },
           {
            "bin_start": 4.2,
            "bin_end": 4.6,
            "count": 0
           },
           {
            "bin_start": 4.6,
            "bin_end": 5,
            "count": 5
           }
          ]
         }
        },
        {
         "name": "RIVER_BUFF",
         "dtype": "int64",
         "stats": {
          "unique_count": 4,
          "nan_count": 0,
          "min": "1",
          "max": "105",
          "histogram": [
           {
            "bin_start": 1,
            "bin_end": 11.4,
            "count": 177
           },
           {
            "bin_start": 11.4,
            "bin_end": 21.8,
            "count": 0
           },
           {
            "bin_start": 21.8,
            "bin_end": 32.2,
            "count": 0
           },
           {
            "bin_start": 32.2,
            "bin_end": 42.6,
            "count": 0
           },
           {
            "bin_start": 42.6,
            "bin_end": 53,
            "count": 0
           },
           {
            "bin_start": 53,
            "bin_end": 63.400000000000006,
            "count": 0
           },
           {
            "bin_start": 63.400000000000006,
            "bin_end": 73.8,
            "count": 0
           },
           {
            "bin_start": 73.8,
            "bin_end": 84.2,
            "count": 0
           },
           {
            "bin_start": 84.2,
            "bin_end": 94.60000000000001,
            "count": 0
           },
           {
            "bin_start": 94.60000000000001,
            "bin_end": 105,
            "count": 63
           }
          ]
         }
        },
        {
         "name": "ROAD_BUFF",
         "dtype": "int64",
         "stats": {
          "unique_count": 5,
          "nan_count": 0,
          "min": "1",
          "max": "105",
          "histogram": [
           {
            "bin_start": 1,
            "bin_end": 11.4,
            "count": 102
           },
           {
            "bin_start": 11.4,
            "bin_end": 21.8,
            "count": 0
           },
           {
            "bin_start": 21.8,
            "bin_end": 32.2,
            "count": 0
           },
           {
            "bin_start": 32.2,
            "bin_end": 42.6,
            "count": 0
           },
           {
            "bin_start": 42.6,
            "bin_end": 53,
            "count": 0
           },
           {
            "bin_start": 53,
            "bin_end": 63.400000000000006,
            "count": 0
           },
           {
            "bin_start": 63.400000000000006,
            "bin_end": 73.8,
            "count": 0
           },
           {
            "bin_start": 73.8,
            "bin_end": 84.2,
            "count": 0
           },
           {
            "bin_start": 84.2,
            "bin_end": 94.60000000000001,
            "count": 0
           },
           {
            "bin_start": 94.60000000000001,
            "bin_end": 105,
            "count": 138
           }
          ]
         }
        },
        {
         "name": "CURVA",
         "dtype": "float64",
         "stats": {
          "unique_count": 239,
          "nan_count": 0,
          "min": "-2.3573148",
          "max": "2.0918908",
          "histogram": [
           {
            "bin_start": -2.3573148,
            "bin_end": -1.9123942400000002,
            "count": 1
           },
           {
            "bin_start": -1.9123942400000002,
            "bin_end": -1.4674736800000001,
            "count": 2
           },
           {
            "bin_start": -1.4674736800000001,
            "bin_end": -1.02255312,
            "count": 3
           },
           {
            "bin_start": -1.02255312,
            "bin_end": -0.5776325600000001,
            "count": 15
           },
           {
            "bin_start": -0.5776325600000001,
            "bin_end": -0.13271200000000016,
            "count": 47
           },
           {
            "bin_start": -0.13271200000000016,
            "bin_end": 0.3122085600000002,
            "count": 140
           },
           {
            "bin_start": 0.3122085600000002,
            "bin_end": 0.7571291200000001,
            "count": 24
           },
           {
            "bin_start": 0.7571291200000001,
            "bin_end": 1.20204968,
            "count": 6
           },
           {
            "bin_start": 1.20204968,
            "bin_end": 1.64697024,
            "count": 1
           },
           {
            "bin_start": 1.64697024,
            "bin_end": 2.0918908,
            "count": 1
           }
          ]
         }
        },
        {
         "name": "TWI",
         "dtype": "float64",
         "stats": {
          "unique_count": 238,
          "nan_count": 0,
          "min": "2.2370377",
          "max": "16.2829552",
          "histogram": [
           {
            "bin_start": 2.2370377,
            "bin_end": 3.64162945,
            "count": 19
           },
           {
            "bin_start": 3.64162945,
            "bin_end": 5.0462212,
            "count": 69
           },
           {
            "bin_start": 5.0462212,
            "bin_end": 6.45081295,
            "count": 79
           },
           {
            "bin_start": 6.45081295,
            "bin_end": 7.8554047,
            "count": 31
           },
           {
            "bin_start": 7.8554047,
            "bin_end": 9.25999645,
            "count": 17
           },
           {
            "bin_start": 9.25999645,
            "bin_end": 10.6645882,
            "count": 15
           },
           {
            "bin_start": 10.6645882,
            "bin_end": 12.06917995,
            "count": 4
           },
           {
            "bin_start": 12.06917995,
            "bin_end": 13.4737717,
            "count": 2
           },
           {
            "bin_start": 13.4737717,
            "bin_end": 14.87836345,
            "count": 3
           },
           {
            "bin_start": 14.87836345,
            "bin_end": 16.2829552,
            "count": 1
           }
          ]
         }
        },
        {
         "name": "SLOPE",
         "dtype": "float64",
         "stats": {
          "unique_count": 222,
          "nan_count": 0,
          "min": "0.0",
          "max": "71.487648",
          "histogram": [
           {
            "bin_start": 0,
            "bin_end": 7.1487647999999995,
            "count": 54
           },
           {
            "bin_start": 7.1487647999999995,
            "bin_end": 14.297529599999999,
            "count": 35
           },
           {
            "bin_start": 14.297529599999999,
            "bin_end": 21.4462944,
            "count": 19
           },
           {
            "bin_start": 21.4462944,
            "bin_end": 28.595059199999998,
            "count": 17
           },
           {
            "bin_start": 28.595059199999998,
            "bin_end": 35.743824,
            "count": 42
           },
           {
            "bin_start": 35.743824,
            "bin_end": 42.8925888,
            "count": 34
           },
           {
            "bin_start": 42.8925888,
            "bin_end": 50.041353599999994,
            "count": 22
           },
           {
            "bin_start": 50.041353599999994,
            "bin_end": 57.190118399999996,
            "count": 8
           },
           {
            "bin_start": 57.190118399999996,
            "bin_end": 64.3388832,
            "count": 5
           },
           {
            "bin_start": 64.3388832,
            "bin_end": 71.487648,
            "count": 4
           }
          ]
         }
        },
        {
         "name": "Landslide",
         "dtype": "int64",
         "stats": {
          "unique_count": 2,
          "nan_count": 0,
          "min": "0",
          "max": "1",
          "histogram": [
           {
            "bin_start": 0,
            "bin_end": 0.1,
            "count": 120
           },
           {
            "bin_start": 0.1,
            "bin_end": 0.2,
            "count": 0
           },
           {
            "bin_start": 0.2,
            "bin_end": 0.30000000000000004,
            "count": 0
           },
           {
            "bin_start": 0.30000000000000004,
            "bin_end": 0.4,
            "count": 0
           },
           {
            "bin_start": 0.4,
            "bin_end": 0.5,
            "count": 0
           },
           {
            "bin_start": 0.5,
            "bin_end": 0.6000000000000001,
            "count": 0
           },
           {
            "bin_start": 0.6000000000000001,
            "bin_end": 0.7000000000000001,
            "count": 0
           },
           {
            "bin_start": 0.7000000000000001,
            "bin_end": 0.8,
            "count": 0
           },
           {
            "bin_start": 0.8,
            "bin_end": 0.9,
            "count": 0
           },
           {
            "bin_start": 0.9,
            "bin_end": 1,
            "count": 120
           }
          ]
         }
        },
        {
         "name": "_deepnote_index_column",
         "dtype": "int64"
        }
       ],
       "rows": [
        {
         "Land_poi": 0,
         "X": 493397.47852738266,
         "Y": 4054910.698492207,
         "DEM": 3402,
         "ASPECT": 185.7928009,
         "SPI": 4.2483153,
         "LULC": 2,
         "GEO": 8,
         "FAULT": 4,
         "RAIN": 1,
         "RIVER_BUFF": 105,
         "ROAD_BUFF": 105,
         "CURVA": 0.0367445,
         "TWI": 5.1903563,
         "SLOPE": 31.7457237,
         "Landslide": 1,
         "_deepnote_index_column": 0
        },
        {
         "Land_poi": 1,
         "X": 484881.6734476933,
         "Y": 4055971.533473897,
         "DEM": 3130,
         "ASPECT": 73.7747269,
         "SPI": 3.209363,
         "LULC": 2,
         "GEO": 8,
         "FAULT": 4,
         "RAIN": 2,
         "RIVER_BUFF": 2,
         "ROAD_BUFF": 2,
         "CURVA": 0.3847047,
         "TWI": 3.4567196,
         "SLOPE": 41.2836189,
         "Landslide": 1,
         "_deepnote_index_column": 1
        },
        {
         "Land_poi": 2,
         "X": 475180.89340057765,
         "Y": 4066249.5401604255,
         "DEM": 3070,
         "ASPECT": 214.8244934,
         "SPI": 6.1995521,
         "LULC": 2,
         "GEO": 8,
         "FAULT": 4,
         "RAIN": 2,
         "RIVER_BUFF": 1,
         "ROAD_BUFF": 105,
         "CURVA": -0.1657047,
         "TWI": 5.7446456,
         "SLOPE": 51.3346138,
         "Landslide": 1,
         "_deepnote_index_column": 2
        },
        {
         "Land_poi": 3,
         "X": 473087.6466457734,
         "Y": 4068765.421656069,
         "DEM": 3078,
         "ASPECT": 68.936554,
         "SPI": 3.6840556,
         "LULC": 2,
         "GEO": 8,
         "FAULT": 4,
         "RAIN": 1,
         "RIVER_BUFF": 1,
         "ROAD_BUFF": 105,
         "CURVA": 0.1851503,
         "TWI": 2.9820273,
         "SLOPE": 54.7479477,
         "Landslide": 1,
         "_deepnote_index_column": 3
        },
        {
         "Land_poi": 4,
         "X": 508983.2838800547,
         "Y": 4039444.507216436,
         "DEM": 3109,
         "ASPECT": 239.3148346,
         "SPI": 4.6676664,
         "LULC": 4,
         "GEO": 7,
         "FAULT": 4,
         "RAIN": 1,
         "RIVER_BUFF": 1,
         "ROAD_BUFF": 105,
         "CURVA": 0.5234393,
         "TWI": 4.7710052,
         "SLOPE": 43.3497849,
         "Landslide": 1,
         "_deepnote_index_column": 4
        },
        {
         "Land_poi": 5,
         "X": 558576.1586414035,
         "Y": 4039113.7831218257,
         "DEM": 4652,
         "ASPECT": 121.4805832,
         "SPI": 4.2026119,
         "LULC": 4,
         "GEO": 10,
         "FAULT": 4,
         "RAIN": 1,
         "RIVER_BUFF": 105,
         "ROAD_BUFF": 105,
         "CURVA": -0.2431341,
         "TWI": 3.8497653,
         "SLOPE": 49.894207,
         "Landslide": 1,
         "_deepnote_index_column": 5
        },
        {
         "Land_poi": 6,
         "X": 464046.8538346964,
         "Y": 4075272.372297887,
         "DEM": 3616,
         "ASPECT": 169.0074921,
         "SPI": 3.5756023,
         "LULC": 4,
         "GEO": 8,
         "FAULT": 4,
         "RAIN": 1,
         "RIVER_BUFF": 1,
         "ROAD_BUFF": 105,
         "CURVA": 0.2143533,
         "TWI": 4.4767747,
         "SLOPE": 32.2767181,
         "Landslide": 1,
         "_deepnote_index_column": 6
        },
        {
         "Land_poi": 7,
         "X": 465389.2384225565,
         "Y": 4080188.947802611,
         "DEM": 3718,
         "ASPECT": 206.3654175,
         "SPI": 4.8645887,
         "LULC": 2,
         "GEO": 9,
         "FAULT": 4,
         "RAIN": 1,
         "RIVER_BUFF": 1,
         "ROAD_BUFF": 105,
         "CURVA": -0.0168353,
         "TWI": 5.9603772,
         "SLOPE": 29.791851,
         "Landslide": 1,
         "_deepnote_index_column": 7
        },
        {
         "Land_poi": 8,
         "X": 463417.0839787839,
         "Y": 4081448.143883914,
         "DEM": 3879,
         "ASPECT": 205.4160004,
         "SPI": 3.6723399,
         "LULC": 2,
         "GEO": 9,
         "FAULT": 4,
         "RAIN": 1,
         "RIVER_BUFF": 1,
         "ROAD_BUFF": 105,
         "CURVA": 0.245103,
         "TWI": 4.3800373,
         "SLOPE": 34.8507233,
         "Landslide": 1,
         "_deepnote_index_column": 8
        },
        {
         "Land_poi": 9,
         "X": 535324.8739009348,
         "Y": 4032577.9359740415,
         "DEM": 3513,
         "ASPECT": 89.5878067,
         "SPI": 5.8553352,
         "LULC": 1,
         "GEO": 7,
         "FAULT": 4,
         "RAIN": 1,
         "RIVER_BUFF": 1,
         "ROAD_BUFF": 105,
         "CURVA": 0.7631485,
         "TWI": 5.4159179,
         "SLOPE": 51.1169777,
         "Landslide": 1,
         "_deepnote_index_column": 9
        }
       ]
      },
      "text/plain": "     Land_poi              X             Y   DEM      ASPECT       SPI  LULC  \\\n0           0  493397.478527  4.054911e+06  3402  185.792801  4.248315     2   \n1           1  484881.673448  4.055972e+06  3130   73.774727  3.209363     2   \n2           2  475180.893401  4.066250e+06  3070  214.824493  6.199552     2   \n3           3  473087.646646  4.068765e+06  3078   68.936554  3.684056     2   \n4           4  508983.283880  4.039445e+06  3109  239.314835  4.667666     4   \n..        ...            ...           ...   ...         ...       ...   ...   \n235       115  528949.342921  4.063218e+06  4222   70.407715  2.077760     2   \n236       116  515988.443396  4.060221e+06  3602  315.000000 -1.843058     4   \n237       117  466070.675089  4.056656e+06  4326  152.525574  1.996218     3   \n238       118  461669.202368  4.023336e+06  2547  228.691391  3.909985     2   \n239       119  492493.472338  4.077384e+06  5147   57.875000  4.069807     1   \n\n     GEO  FAULT  RAIN  RIVER_BUFF  ROAD_BUFF     CURVA       TWI      SLOPE  \\\n0      8      4     1         105        105  0.036744  5.190356  31.745724   \n1      8      4     2           2          2  0.384705  3.456720  41.283619   \n2      8      4     2           1        105 -0.165705  5.744646  51.334614   \n3      8      4     1           1        105  0.185150  2.982027  54.747948   \n4      7      4     1           1        105  0.523439  4.771005  43.349785   \n..   ...    ...   ...         ...        ...       ...       ...        ...   \n235   10      4     1         105        105 -0.036821  4.588323  15.607489   \n236   10      4     1           1        105 -0.000000  8.509141   0.000000   \n237    7      4     2         105        105 -0.067091  6.056159   7.163907   \n238    5      1     2           1        105 -0.168066  4.953323  30.450403   \n239   10      4     1         105        105 -0.225836  6.990724  12.761073   \n\n     Landslide  \n0            1  \n1            1  \n2            1  \n3            1  \n4            1  \n..         ...  \n235          0  \n236          0  \n237          0  \n238          0  \n239          0  \n\n[240 rows x 16 columns]",
      "text/html": "<div>\n<style scoped>\n    .dataframe tbody tr th:only-of-type {\n        vertical-align: middle;\n    }\n\n    .dataframe tbody tr th {\n        vertical-align: top;\n    }\n\n    .dataframe thead th {\n        text-align: right;\n    }\n</style>\n<table border=\"1\" class=\"dataframe\">\n  <thead>\n    <tr style=\"text-align: right;\">\n      <th></th>\n      <th>Land_poi</th>\n      <th>X</th>\n      <th>Y</th>\n      <th>DEM</th>\n      <th>ASPECT</th>\n      <th>SPI</th>\n      <th>LULC</th>\n      <th>GEO</th>\n      <th>FAULT</th>\n      <th>RAIN</th>\n      <th>RIVER_BUFF</th>\n      <th>ROAD_BUFF</th>\n      <th>CURVA</th>\n      <th>TWI</th>\n      <th>SLOPE</th>\n      <th>Landslide</th>\n    </tr>\n  </thead>\n  <tbody>\n    <tr>\n      <th>0</th>\n      <td>0</td>\n      <td>493397.478527</td>\n      <td>4.054911e+06</td>\n      <td>3402</td>\n      <td>185.792801</td>\n      <td>4.248315</td>\n      <td>2</td>\n      <td>8</td>\n      <td>4</td>\n      <td>1</td>\n      <td>105</td>\n      <td>105</td>\n      <td>0.036744</td>\n      <td>5.190356</td>\n      <td>31.745724</td>\n      <td>1</td>\n    </tr>\n    <tr>\n      <th>1</th>\n      <td>1</td>\n      <td>484881.673448</td>\n      <td>4.055972e+06</td>\n      <td>3130</td>\n      <td>73.774727</td>\n      <td>3.209363</td>\n      <td>2</td>\n      <td>8</td>\n      <td>4</td>\n      <td>2</td>\n      <td>2</td>\n      <td>2</td>\n      <td>0.384705</td>\n      <td>3.456720</td>\n      <td>41.283619</td>\n      <td>1</td>\n    </tr>\n    <tr>\n      <th>2</th>\n      <td>2</td>\n      <td>475180.893401</td>\n      <td>4.066250e+06</td>\n      <td>3070</td>\n      <td>214.824493</td>\n      <td>6.199552</td>\n      <td>2</td>\n      <td>8</td>\n      <td>4</td>\n      <td>2</td>\n      <td>1</td>\n      <td>105</td>\n      <td>-0.165705</td>\n      <td>5.744646</td>\n      <td>51.334614</td>\n      <td>1</td>\n    </tr>\n    <tr>\n      <th>3</th>\n      <td>3</td>\n      <td>473087.646646</td>\n      <td>4.068765e+06</td>\n      <td>3078</td>\n      <td>68.936554</td>\n      <td>3.684056</td>\n      <td>2</td>\n      <td>8</td>\n      <td>4</td>\n      <td>1</td>\n      <td>1</td>\n      <td>105</td>\n      <td>0.185150</td>\n      <td>2.982027</td>\n      <td>54.747948</td>\n      <td>1</td>\n    </tr>\n    <tr>\n      <th>4</th>\n      <td>4</td>\n      <td>508983.283880</td>\n      <td>4.039445e+06</td>\n      <td>3109</td>\n      <td>239.314835</td>\n      <td>4.667666</td>\n      <td>4</td>\n      <td>7</td>\n      <td>4</td>\n      <td>1</td>\n      <td>1</td>\n      <td>105</td>\n      <td>0.523439</td>\n      <td>4.771005</td>\n      <td>43.349785</td>\n      <td>1</td>\n    </tr>\n    <tr>\n      <th>...</th>\n      <td>...</td>\n      <td>...</td>\n      <td>...</td>\n      <td>...</td>\n      <td>...</td>\n      <td>...</td>\n      <td>...</td>\n      <td>...</td>\n      <td>...</td>\n      <td>...</td>\n      <td>...</td>\n      <td>...</td>\n      <td>...</td>\n      <td>...</td>\n      <td>...</td>\n      <td>...</td>\n    </tr>\n    <tr>\n      <th>235</th>\n      <td>115</td>\n      <td>528949.342921</td>\n      <td>4.063218e+06</td>\n      <td>4222</td>\n      <td>70.407715</td>\n      <td>2.077760</td>\n      <td>2</td>\n      <td>10</td>\n      <td>4</td>\n      <td>1</td>\n      <td>105</td>\n      <td>105</td>\n      <td>-0.036821</td>\n      <td>4.588323</td>\n      <td>15.607489</td>\n      <td>0</td>\n    </tr>\n    <tr>\n      <th>236</th>\n      <td>116</td>\n      <td>515988.443396</td>\n      <td>4.060221e+06</td>\n      <td>3602</td>\n      <td>315.000000</td>\n      <td>-1.843058</td>\n      <td>4</td>\n      <td>10</td>\n      <td>4</td>\n      <td>1</td>\n      <td>1</td>\n      <td>105</td>\n      <td>-0.000000</td>\n      <td>8.509141</td>\n      <td>0.000000</td>\n      <td>0</td>\n    </tr>\n    <tr>\n      <th>237</th>\n      <td>117</td>\n      <td>466070.675089</td>\n      <td>4.056656e+06</td>\n      <td>4326</td>\n      <td>152.525574</td>\n      <td>1.996218</td>\n      <td>3</td>\n      <td>7</td>\n      <td>4</td>\n      <td>2</td>\n      <td>105</td>\n      <td>105</td>\n      <td>-0.067091</td>\n      <td>6.056159</td>\n      <td>7.163907</td>\n      <td>0</td>\n    </tr>\n    <tr>\n      <th>238</th>\n      <td>118</td>\n      <td>461669.202368</td>\n      <td>4.023336e+06</td>\n      <td>2547</td>\n      <td>228.691391</td>\n      <td>3.909985</td>\n      <td>2</td>\n      <td>5</td>\n      <td>1</td>\n      <td>2</td>\n      <td>1</td>\n      <td>105</td>\n      <td>-0.168066</td>\n      <td>4.953323</td>\n      <td>30.450403</td>\n      <td>0</td>\n    </tr>\n    <tr>\n      <th>239</th>\n      <td>119</td>\n      <td>492493.472338</td>\n      <td>4.077384e+06</td>\n      <td>5147</td>\n      <td>57.875000</td>\n      <td>4.069807</td>\n      <td>1</td>\n      <td>10</td>\n      <td>4</td>\n      <td>1</td>\n      <td>105</td>\n      <td>105</td>\n      <td>-0.225836</td>\n      <td>6.990724</td>\n      <td>12.761073</td>\n      <td>0</td>\n    </tr>\n  </tbody>\n</table>\n<p>240 rows × 16 columns</p>\n</div>"
     },
     "metadata": {}
    }
   ]
  },
  {
   "cell_type": "markdown",
   "source": "Now all points values for landslide, non-landslide are in one data frame. Last column (Landslide) with 0 and 1 values are also stacked together. You can check total no of rows and see if they are equal to sum of landslide, non-landslide data frames.",
   "metadata": {
    "cell_id": "8d43aec7d2db44b4aa52b7589d9a3ad3",
    "tags": [],
    "is_collapsed": false,
    "deepnote_app_coordinates": {
     "x": 0,
     "y": 147,
     "w": 8,
     "h": 2
    },
    "deepnote_cell_type": "text-cell-p"
   }
  },
  {
   "cell_type": "code",
   "metadata": {
    "cell_id": "dd53345379934d78aa55c9e1b2715ef5",
    "tags": [],
    "deepnote_to_be_reexecuted": false,
    "source_hash": "b9f36d6b",
    "execution_start": 1649574529716,
    "execution_millis": 262,
    "deepnote_app_coordinates": {
     "x": 0,
     "y": 150,
     "w": 12,
     "h": 5
    },
    "deepnote_cell_type": "code",
    "deepnote_cell_height": 551.4000244140625
   },
   "source": "df_land.info() # we got 120 points ",
   "execution_count": null,
   "outputs": [
    {
     "name": "stdout",
     "text": "<class 'pandas.core.frame.DataFrame'>\nRangeIndex: 120 entries, 0 to 119\nData columns (total 16 columns):\n #   Column      Non-Null Count  Dtype  \n---  ------      --------------  -----  \n 0   Land_poi    120 non-null    int64  \n 1   X           120 non-null    float64\n 2   Y           120 non-null    float64\n 3   DEM         120 non-null    int64  \n 4   ASPECT      120 non-null    float64\n 5   SPI         120 non-null    float64\n 6   LULC        120 non-null    int64  \n 7   GEO         120 non-null    int64  \n 8   FAULT       120 non-null    int64  \n 9   RAIN        120 non-null    int64  \n 10  RIVER_BUFF  120 non-null    int64  \n 11  ROAD_BUFF   120 non-null    int64  \n 12  CURVA       120 non-null    float64\n 13  TWI         120 non-null    float64\n 14  SLOPE       120 non-null    float64\n 15  Landslide   120 non-null    int64  \ndtypes: float64(7), int64(9)\nmemory usage: 15.1 KB\n",
     "output_type": "stream"
    }
   ]
  },
  {
   "cell_type": "code",
   "metadata": {
    "cell_id": "113220691b7a43648d41dff1d373f66f",
    "tags": [],
    "deepnote_to_be_reexecuted": false,
    "source_hash": "ac28cec6",
    "execution_start": 1649574569615,
    "execution_millis": 350,
    "deepnote_app_coordinates": {
     "x": 0,
     "y": 156,
     "w": 12,
     "h": 5
    },
    "deepnote_cell_type": "code",
    "deepnote_cell_height": 551.4000244140625
   },
   "source": "df_non_land.info() # 120 so combining these two we will get 240 rows",
   "execution_count": null,
   "outputs": [
    {
     "name": "stdout",
     "text": "<class 'pandas.core.frame.DataFrame'>\nRangeIndex: 120 entries, 0 to 119\nData columns (total 16 columns):\n #   Column      Non-Null Count  Dtype  \n---  ------      --------------  -----  \n 0   Land_poi    120 non-null    int64  \n 1   X           120 non-null    float64\n 2   Y           120 non-null    float64\n 3   DEM         120 non-null    int64  \n 4   ASPECT      120 non-null    float64\n 5   SPI         120 non-null    float64\n 6   LULC        120 non-null    int64  \n 7   GEO         120 non-null    int64  \n 8   FAULT       120 non-null    int64  \n 9   RAIN        120 non-null    int64  \n 10  RIVER_BUFF  120 non-null    int64  \n 11  ROAD_BUFF   120 non-null    int64  \n 12  CURVA       120 non-null    float64\n 13  TWI         120 non-null    float64\n 14  SLOPE       120 non-null    float64\n 15  Landslide   120 non-null    int64  \ndtypes: float64(7), int64(9)\nmemory usage: 15.1 KB\n",
     "output_type": "stream"
    }
   ]
  },
  {
   "cell_type": "code",
   "metadata": {
    "cell_id": "f6b4efecc6ef427ebfc34819f574c95f",
    "tags": [],
    "deepnote_to_be_reexecuted": false,
    "source_hash": "d1511a11",
    "execution_start": 1649574625733,
    "execution_millis": 36,
    "deepnote_app_coordinates": {
     "x": 0,
     "y": 162,
     "w": 12,
     "h": 5
    },
    "deepnote_cell_type": "code",
    "deepnote_cell_height": 551.4000244140625
   },
   "source": "df_land_nonland.info()",
   "execution_count": null,
   "outputs": [
    {
     "name": "stdout",
     "text": "<class 'pandas.core.frame.DataFrame'>\nRangeIndex: 240 entries, 0 to 239\nData columns (total 16 columns):\n #   Column      Non-Null Count  Dtype  \n---  ------      --------------  -----  \n 0   Land_poi    240 non-null    int64  \n 1   X           240 non-null    float64\n 2   Y           240 non-null    float64\n 3   DEM         240 non-null    int64  \n 4   ASPECT      240 non-null    float64\n 5   SPI         240 non-null    float64\n 6   LULC        240 non-null    int64  \n 7   GEO         240 non-null    int64  \n 8   FAULT       240 non-null    int64  \n 9   RAIN        240 non-null    int64  \n 10  RIVER_BUFF  240 non-null    int64  \n 11  ROAD_BUFF   240 non-null    int64  \n 12  CURVA       240 non-null    float64\n 13  TWI         240 non-null    float64\n 14  SLOPE       240 non-null    float64\n 15  Landslide   240 non-null    int64  \ndtypes: float64(7), int64(9)\nmemory usage: 30.1 KB\n",
     "output_type": "stream"
    }
   ]
  },
  {
   "cell_type": "code",
   "metadata": {
    "cell_id": "00021-1ff43b7c-ecfc-4dcd-9efc-c8630849f75d",
    "deepnote_to_be_reexecuted": false,
    "source_hash": "9b4ab46",
    "execution_start": 1649574673301,
    "execution_millis": 19,
    "deepnote_app_coordinates": {
     "x": 0,
     "y": 114,
     "w": 12,
     "h": 5
    },
    "deepnote_cell_type": "code",
    "deepnote_cell_height": 844.4000244140625
   },
   "source": "#shuffle this dataframe\nimport numpy as np \n  \n# # shuffle the DataFrame rows \ndf_land_nonland = df_land_nonland.sample(frac = 1) \n  \n# # print the shuffled DataFrame \nprint(\"\\nShuffled DataFrame:\") \nprint(df_land_nonland) ",
   "execution_count": null,
   "outputs": [
    {
     "name": "stdout",
     "text": "\nShuffled DataFrame:\n     Land_poi              X             Y   DEM      ASPECT        SPI  LULC  \\\n167        47  550077.160599  4.020553e+06  3818   45.000000   1.789182     2   \n233       113  524888.306006  4.056844e+06  4447   40.236359  10.940249     2   \n124         4  482370.007675  4.094981e+06  4300  157.750977   2.889572     4   \n232       112  523812.577247  4.058925e+06  3728  270.000000   1.198959     2   \n219        99  475172.293885  4.070998e+06  4593   31.429565   1.692323     2   \n..        ...            ...           ...   ...         ...        ...   ...   \n110       110  478853.966556  4.064470e+06  3339  182.700623   5.992255     2   \n152        32  476366.243144  4.059682e+06  5338  133.331665   6.437299     2   \n133        13  523301.554683  4.076415e+06  3879  176.877869   3.900618     4   \n158        38  442394.682738  4.012852e+06  1778   28.610458   1.191137     4   \n13         13  467340.202879  4.020747e+06  2704  170.148666   5.006762     2   \n\n     GEO  FAULT  RAIN  RIVER_BUFF  ROAD_BUFF     CURVA        TWI      SLOPE  \\\n167    7      4     1           1        105 -0.055362   6.263196   5.774558   \n233   10      4     1           2        105 -0.415230  14.636011   8.638372   \n124   10      4     1         105        105 -0.122170   3.776511  32.462746   \n232   10      4     1           1        105 -0.000000   6.853418   3.063925   \n219    8      4     1           3        105 -0.018096   4.973760  10.657889   \n..   ...    ...   ...         ...        ...       ...        ...        ...   \n110    8      4     2           1        105 -0.152184   6.089928  43.431297   \n152    8      4     2         105        105  0.036191   7.281505  33.024563   \n133   10      4     1           1          1 -0.045752   6.924348  12.125588   \n158    1      4     3           1          1  0.112120   5.474946   6.378107   \n13     5      2     2           3          2 -0.101391   5.551142  37.091473   \n\n     Landslide  \n167          0  \n233          0  \n124          0  \n232          0  \n219          0  \n..         ...  \n110          1  \n152          0  \n133          0  \n158          0  \n13           1  \n\n[240 rows x 16 columns]\n",
     "output_type": "stream"
    }
   ]
  },
  {
   "cell_type": "code",
   "metadata": {
    "cell_id": "00022-e6fdd2e4-839f-4e51-9edd-3e049a9aa740",
    "deepnote_to_be_reexecuted": false,
    "source_hash": "cf25ae91",
    "execution_start": 1649574731401,
    "execution_millis": 0,
    "deepnote_app_coordinates": {
     "x": 0,
     "y": 120,
     "w": 12,
     "h": 5
    },
    "deepnote_cell_type": "code",
    "deepnote_cell_height": 98.60000610351562
   },
   "source": "#save this combine dataframe to a new csv file\ndf_land_nonland.to_csv ('/work/df_land_nonland.csv', index=None)",
   "execution_count": null,
   "outputs": []
  },
  {
   "cell_type": "code",
   "metadata": {
    "cell_id": "00023-db5d8ff5-7f48-4526-b6cb-dfd2823f5042",
    "deepnote_to_be_reexecuted": false,
    "source_hash": "bd6f111c",
    "execution_start": 1649574762898,
    "execution_millis": 143,
    "deepnote_app_coordinates": {
     "x": 0,
     "y": 126,
     "w": 12,
     "h": 5
    },
    "deepnote_cell_type": "code",
    "deepnote_cell_height": 447
   },
   "source": "#read newly saved csv file of combine dataframe\ndf_land_nonland=pd.read_csv('/work/df_land_nonland.csv')\ndf_land_nonland.head()",
   "execution_count": null,
   "outputs": [
    {
     "output_type": "execute_result",
     "execution_count": 28,
     "data": {
      "application/vnd.deepnote.dataframe.v3+json": {
       "column_count": 16,
       "row_count": 5,
       "columns": [
        {
         "name": "Land_poi",
         "dtype": "int64",
         "stats": {
          "unique_count": 5,
          "nan_count": 0,
          "min": "4",
          "max": "113",
          "histogram": [
           {
            "bin_start": 4,
            "bin_end": 14.9,
            "count": 1
           },
           {
            "bin_start": 14.9,
            "bin_end": 25.8,
            "count": 0
           },
           {
            "bin_start": 25.8,
            "bin_end": 36.7,
            "count": 0
           },
           {
            "bin_start": 36.7,
            "bin_end": 47.6,
            "count": 1
           },
           {
            "bin_start": 47.6,
            "bin_end": 58.5,
            "count": 0
           },
           {
            "bin_start": 58.5,
            "bin_end": 69.4,
            "count": 0
           },
           {
            "bin_start": 69.4,
            "bin_end": 80.3,
            "count": 0
           },
           {
            "bin_start": 80.3,
            "bin_end": 91.2,
            "count": 0
           },
           {
            "bin_start": 91.2,
            "bin_end": 102.10000000000001,
            "count": 1
           },
           {
            "bin_start": 102.10000000000001,
            "bin_end": 113,
            "count": 2
           }
          ]
         }
        },
        {
         "name": "X",
         "dtype": "float64",
         "stats": {
          "unique_count": 5,
          "nan_count": 0,
          "min": "475172.29388453066",
          "max": "550077.1605987672",
          "histogram": [
           {
            "bin_start": 475172.29388453066,
            "bin_end": 482662.7805559543,
            "count": 2
           },
           {
            "bin_start": 482662.7805559543,
            "bin_end": 490153.267227378,
            "count": 0
           },
           {
            "bin_start": 490153.267227378,
            "bin_end": 497643.75389880163,
            "count": 0
           },
           {
            "bin_start": 497643.75389880163,
            "bin_end": 505134.2405702253,
            "count": 0
           },
           {
            "bin_start": 505134.2405702253,
            "bin_end": 512624.72724164894,
            "count": 0
           },
           {
            "bin_start": 512624.72724164894,
            "bin_end": 520115.2139130726,
            "count": 0
           },
           {
            "bin_start": 520115.2139130726,
            "bin_end": 527605.7005844963,
            "count": 2
           },
           {
            "bin_start": 527605.7005844963,
            "bin_end": 535096.1872559199,
            "count": 0
           },
           {
            "bin_start": 535096.1872559199,
            "bin_end": 542586.6739273436,
            "count": 0
           },
           {
            "bin_start": 542586.6739273436,
            "bin_end": 550077.1605987672,
            "count": 1
           }
          ]
         }
        },
        {
         "name": "Y",
         "dtype": "float64",
         "stats": {
          "unique_count": 5,
          "nan_count": 0,
          "min": "4020553.265186708",
          "max": "4094980.536246964",
          "histogram": [
           {
            "bin_start": 4020553.265186708,
            "bin_end": 4027995.9922927334,
            "count": 1
           },
           {
            "bin_start": 4027995.9922927334,
            "bin_end": 4035438.7193987593,
            "count": 0
           },
           {
            "bin_start": 4035438.7193987593,
            "bin_end": 4042881.4465047847,
            "count": 0
           },
           {
            "bin_start": 4042881.4465047847,
            "bin_end": 4050324.17361081,
            "count": 0
           },
           {
            "bin_start": 4050324.17361081,
            "bin_end": 4057766.9007168356,
            "count": 1
           },
           {
            "bin_start": 4057766.9007168356,
            "bin_end": 4065209.6278228615,
            "count": 1
           },
           {
            "bin_start": 4065209.6278228615,
            "bin_end": 4072652.354928887,
            "count": 1
           },
           {
            "bin_start": 4072652.354928887,
            "bin_end": 4080095.0820349124,
            "count": 0
           },
           {
            "bin_start": 4080095.0820349124,
            "bin_end": 4087537.8091409383,
            "count": 0
           },
           {
            "bin_start": 4087537.8091409383,
            "bin_end": 4094980.536246964,
            "count": 1
           }
          ]
         }
        },
        {
         "name": "DEM",
         "dtype": "int64",
         "stats": {
          "unique_count": 5,
          "nan_count": 0,
          "min": "3728",
          "max": "4593",
          "histogram": [
           {
            "bin_start": 3728,
            "bin_end": 3814.5,
            "count": 1
           },
           {
            "bin_start": 3814.5,
            "bin_end": 3901,
            "count": 1
           },
           {
            "bin_start": 3901,
            "bin_end": 3987.5,
            "count": 0
           },
           {
            "bin_start": 3987.5,
            "bin_end": 4074,
            "count": 0
           },
           {
            "bin_start": 4074,
            "bin_end": 4160.5,
            "count": 0
           },
           {
            "bin_start": 4160.5,
            "bin_end": 4247,
            "count": 0
           },
           {
            "bin_start": 4247,
            "bin_end": 4333.5,
            "count": 1
           },
           {
            "bin_start": 4333.5,
            "bin_end": 4420,
            "count": 0
           },
           {
            "bin_start": 4420,
            "bin_end": 4506.5,
            "count": 1
           },
           {
            "bin_start": 4506.5,
            "bin_end": 4593,
            "count": 1
           }
          ]
         }
        },
        {
         "name": "ASPECT",
         "dtype": "float64",
         "stats": {
          "unique_count": 5,
          "nan_count": 0,
          "min": "31.4295654",
          "max": "270.0",
          "histogram": [
           {
            "bin_start": 31.4295654,
            "bin_end": 55.28660886,
            "count": 3
           },
           {
            "bin_start": 55.28660886,
            "bin_end": 79.14365232,
            "count": 0
           },
           {
            "bin_start": 79.14365232,
            "bin_end": 103.00069578,
            "count": 0
           },
           {
            "bin_start": 103.00069578,
            "bin_end": 126.85773924,
            "count": 0
           },
           {
            "bin_start": 126.85773924,
            "bin_end": 150.7147827,
            "count": 0
           },
           {
            "bin_start": 150.7147827,
            "bin_end": 174.57182616,
            "count": 1
           },
           {
            "bin_start": 174.57182616,
            "bin_end": 198.42886962,
            "count": 0
           },
           {
            "bin_start": 198.42886962,
            "bin_end": 222.28591308,
            "count": 0
           },
           {
            "bin_start": 222.28591308,
            "bin_end": 246.14295654,
            "count": 0
           },
           {
            "bin_start": 246.14295654,
            "bin_end": 270,
            "count": 1
           }
          ]
         }
        },
        {
         "name": "SPI",
         "dtype": "float64",
         "stats": {
          "unique_count": 5,
          "nan_count": 0,
          "min": "1.198959",
          "max": "10.9402494",
          "histogram": [
           {
            "bin_start": 1.198959,
            "bin_end": 2.17308804,
            "count": 3
           },
           {
            "bin_start": 2.17308804,
            "bin_end": 3.14721708,
            "count": 1
           },
           {
            "bin_start": 3.14721708,
            "bin_end": 4.12134612,
            "count": 0
           },
           {
            "bin_start": 4.12134612,
            "bin_end": 5.09547516,
            "count": 0
           },
           {
            "bin_start": 5.09547516,
            "bin_end": 6.069604200000001,
            "count": 0
           },
           {
            "bin_start": 6.069604200000001,
            "bin_end": 7.04373324,
            "count": 0
           },
           {
            "bin_start": 7.04373324,
            "bin_end": 8.01786228,
            "count": 0
           },
           {
            "bin_start": 8.01786228,
            "bin_end": 8.99199132,
            "count": 0
           },
           {
            "bin_start": 8.99199132,
            "bin_end": 9.96612036,
            "count": 0
           },
           {
            "bin_start": 9.96612036,
            "bin_end": 10.9402494,
            "count": 1
           }
          ]
         }
        },
        {
         "name": "LULC",
         "dtype": "int64",
         "stats": {
          "unique_count": 2,
          "nan_count": 0,
          "min": "2",
          "max": "4",
          "histogram": [
           {
            "bin_start": 2,
            "bin_end": 2.2,
            "count": 4
           },
           {
            "bin_start": 2.2,
            "bin_end": 2.4,
            "count": 0
           },
           {
            "bin_start": 2.4,
            "bin_end": 2.6,
            "count": 0
           },
           {
            "bin_start": 2.6,
            "bin_end": 2.8,
            "count": 0
           },
           {
            "bin_start": 2.8,
            "bin_end": 3,
            "count": 0
           },
           {
            "bin_start": 3,
            "bin_end": 3.2,
            "count": 0
           },
           {
            "bin_start": 3.2,
            "bin_end": 3.4000000000000004,
            "count": 0
           },
           {
            "bin_start": 3.4000000000000004,
            "bin_end": 3.6,
            "count": 0
           },
           {
            "bin_start": 3.6,
            "bin_end": 3.8,
            "count": 0
           },
           {
            "bin_start": 3.8,
            "bin_end": 4,
            "count": 1
           }
          ]
         }
        },
        {
         "name": "GEO",
         "dtype": "int64",
         "stats": {
          "unique_count": 3,
          "nan_count": 0,
          "min": "7",
          "max": "10",
          "histogram": [
           {
            "bin_start": 7,
            "bin_end": 7.3,
            "count": 1
           },
           {
            "bin_start": 7.3,
            "bin_end": 7.6,
            "count": 0
           },
           {
            "bin_start": 7.6,
            "bin_end": 7.9,
            "count": 0
           },
           {
            "bin_start": 7.9,
            "bin_end": 8.2,
            "count": 1
           },
           {
            "bin_start": 8.2,
            "bin_end": 8.5,
            "count": 0
           },
           {
            "bin_start": 8.5,
            "bin_end": 8.8,
            "count": 0
           },
           {
            "bin_start": 8.8,
            "bin_end": 9.1,
            "count": 0
           },
           {
            "bin_start": 9.1,
            "bin_end": 9.4,
            "count": 0
           },
           {
            "bin_start": 9.4,
            "bin_end": 9.7,
            "count": 0
           },
           {
            "bin_start": 9.7,
            "bin_end": 10,
            "count": 3
           }
          ]
         }
        },
        {
         "name": "FAULT",
         "dtype": "int64",
         "stats": {
          "unique_count": 1,
          "nan_count": 0,
          "min": "4",
          "max": "4",
          "histogram": [
           {
            "bin_start": 3.5,
            "bin_end": 3.6,
            "count": 0
           },
           {
            "bin_start": 3.6,
            "bin_end": 3.7,
            "count": 0
           },
           {
            "bin_start": 3.7,
            "bin_end": 3.8,
            "count": 0
           },
           {
            "bin_start": 3.8,
            "bin_end": 3.9,
            "count": 0
           },
           {
            "bin_start": 3.9,
            "bin_end": 4,
            "count": 0
           },
           {
            "bin_start": 4,
            "bin_end": 4.1,
            "count": 5
           },
           {
            "bin_start": 4.1,
            "bin_end": 4.2,
            "count": 0
           },
           {
            "bin_start": 4.2,
            "bin_end": 4.3,
            "count": 0
           },
           {
            "bin_start": 4.3,
            "bin_end": 4.4,
            "count": 0
           },
           {
            "bin_start": 4.4,
            "bin_end": 4.5,
            "count": 0
           }
          ]
         }
        },
        {
         "name": "RAIN",
         "dtype": "int64",
         "stats": {
          "unique_count": 1,
          "nan_count": 0,
          "min": "1",
          "max": "1",
          "histogram": [
           {
            "bin_start": 0.5,
            "bin_end": 0.6,
            "count": 0
           },
           {
            "bin_start": 0.6,
            "bin_end": 0.7,
            "count": 0
           },
           {
            "bin_start": 0.7,
            "bin_end": 0.8,
            "count": 0
           },
           {
            "bin_start": 0.8,
            "bin_end": 0.9,
            "count": 0
           },
           {
            "bin_start": 0.9,
            "bin_end": 1,
            "count": 0
           },
           {
            "bin_start": 1,
            "bin_end": 1.1,
            "count": 5
           },
           {
            "bin_start": 1.1,
            "bin_end": 1.2000000000000002,
            "count": 0
           },
           {
            "bin_start": 1.2000000000000002,
            "bin_end": 1.3,
            "count": 0
           },
           {
            "bin_start": 1.3,
            "bin_end": 1.4,
            "count": 0
           },
           {
            "bin_start": 1.4,
            "bin_end": 1.5,
            "count": 0
           }
          ]
         }
        },
        {
         "name": "RIVER_BUFF",
         "dtype": "int64",
         "stats": {
          "unique_count": 4,
          "nan_count": 0,
          "min": "1",
          "max": "105",
          "histogram": [
           {
            "bin_start": 1,
            "bin_end": 11.4,
            "count": 4
           },
           {
            "bin_start": 11.4,
            "bin_end": 21.8,
            "count": 0
           },
           {
            "bin_start": 21.8,
            "bin_end": 32.2,
            "count": 0
           },
           {
            "bin_start": 32.2,
            "bin_end": 42.6,
            "count": 0
           },
           {
            "bin_start": 42.6,
            "bin_end": 53,
            "count": 0
           },
           {
            "bin_start": 53,
            "bin_end": 63.400000000000006,
            "count": 0
           },
           {
            "bin_start": 63.400000000000006,
            "bin_end": 73.8,
            "count": 0
           },
           {
            "bin_start": 73.8,
            "bin_end": 84.2,
            "count": 0
           },
           {
            "bin_start": 84.2,
            "bin_end": 94.60000000000001,
            "count": 0
           },
           {
            "bin_start": 94.60000000000001,
            "bin_end": 105,
            "count": 1
           }
          ]
         }
        },
        {
         "name": "ROAD_BUFF",
         "dtype": "int64",
         "stats": {
          "unique_count": 1,
          "nan_count": 0,
          "min": "105",
          "max": "105",
          "histogram": [
           {
            "bin_start": 104.5,
            "bin_end": 104.6,
            "count": 0
           },
           {
            "bin_start": 104.6,
            "bin_end": 104.7,
            "count": 0
           },
           {
            "bin_start": 104.7,
            "bin_end": 104.8,
            "count": 0
           },
           {
            "bin_start": 104.8,
            "bin_end": 104.9,
            "count": 0
           },
           {
            "bin_start": 104.9,
            "bin_end": 105,
            "count": 0
           },
           {
            "bin_start": 105,
            "bin_end": 105.1,
            "count": 5
           },
           {
            "bin_start": 105.1,
            "bin_end": 105.2,
            "count": 0
           },
           {
            "bin_start": 105.2,
            "bin_end": 105.3,
            "count": 0
           },
           {
            "bin_start": 105.3,
            "bin_end": 105.4,
            "count": 0
           },
           {
            "bin_start": 105.4,
            "bin_end": 105.5,
            "count": 0
           }
          ]
         }
        },
        {
         "name": "CURVA",
         "dtype": "float64",
         "stats": {
          "unique_count": 5,
          "nan_count": 0,
          "min": "-0.4152302",
          "max": "-0.0",
          "histogram": [
           {
            "bin_start": -0.4152302,
            "bin_end": -0.37370717999999997,
            "count": 1
           },
           {
            "bin_start": -0.37370717999999997,
            "bin_end": -0.33218416,
            "count": 0
           },
           {
            "bin_start": -0.33218416,
            "bin_end": -0.29066114,
            "count": 0
           },
           {
            "bin_start": -0.29066114,
            "bin_end": -0.24913812,
            "count": 0
           },
           {
            "bin_start": -0.24913812,
            "bin_end": -0.2076151,
            "count": 0
           },
           {
            "bin_start": -0.2076151,
            "bin_end": -0.16609207999999998,
            "count": 0
           },
           {
            "bin_start": -0.16609207999999998,
            "bin_end": -0.12456906000000001,
            "count": 0
           },
           {
            "bin_start": -0.12456906000000001,
            "bin_end": -0.08304603999999999,
            "count": 1
           },
           {
            "bin_start": -0.08304603999999999,
            "bin_end": -0.041523019999999966,
            "count": 1
           },
           {
            "bin_start": -0.041523019999999966,
            "bin_end": 0,
            "count": 2
           }
          ]
         }
        },
        {
         "name": "TWI",
         "dtype": "float64",
         "stats": {
          "unique_count": 5,
          "nan_count": 0,
          "min": "3.7765107",
          "max": "14.6360111",
          "histogram": [
           {
            "bin_start": 3.7765107,
            "bin_end": 4.8624607399999995,
            "count": 1
           },
           {
            "bin_start": 4.8624607399999995,
            "bin_end": 5.94841078,
            "count": 1
           },
           {
            "bin_start": 5.94841078,
            "bin_end": 7.03436082,
            "count": 2
           },
           {
            "bin_start": 7.03436082,
            "bin_end": 8.12031086,
            "count": 0
           },
           {
            "bin_start": 8.12031086,
            "bin_end": 9.2062609,
            "count": 0
           },
           {
            "bin_start": 9.2062609,
            "bin_end": 10.292210939999999,
            "count": 0
           },
           {
            "bin_start": 10.292210939999999,
            "bin_end": 11.378160979999997,
            "count": 0
           },
           {
            "bin_start": 11.378160979999997,
            "bin_end": 12.464111019999997,
            "count": 0
           },
           {
            "bin_start": 12.464111019999997,
            "bin_end": 13.550061059999997,
            "count": 0
           },
           {
            "bin_start": 13.550061059999997,
            "bin_end": 14.6360111,
            "count": 1
           }
          ]
         }
        },
        {
         "name": "SLOPE",
         "dtype": "float64",
         "stats": {
          "unique_count": 5,
          "nan_count": 0,
          "min": "3.063925",
          "max": "32.4627457",
          "histogram": [
           {
            "bin_start": 3.063925,
            "bin_end": 6.00380707,
            "count": 2
           },
           {
            "bin_start": 6.00380707,
            "bin_end": 8.94368914,
            "count": 1
           },
           {
            "bin_start": 8.94368914,
            "bin_end": 11.88357121,
            "count": 1
           },
           {
            "bin_start": 11.88357121,
            "bin_end": 14.823453279999999,
            "count": 0
           },
           {
            "bin_start": 14.823453279999999,
            "bin_end": 17.76333535,
            "count": 0
           },
           {
            "bin_start": 17.76333535,
            "bin_end": 20.70321742,
            "count": 0
           },
           {
            "bin_start": 20.70321742,
            "bin_end": 23.64309949,
            "count": 0
           },
           {
            "bin_start": 23.64309949,
            "bin_end": 26.58298156,
            "count": 0
           },
           {
            "bin_start": 26.58298156,
            "bin_end": 29.52286363,
            "count": 0
           },
           {
            "bin_start": 29.52286363,
            "bin_end": 32.4627457,
            "count": 1
           }
          ]
         }
        },
        {
         "name": "Landslide",
         "dtype": "int64",
         "stats": {
          "unique_count": 1,
          "nan_count": 0,
          "min": "0",
          "max": "0",
          "histogram": [
           {
            "bin_start": -0.5,
            "bin_end": -0.4,
            "count": 0
           },
           {
            "bin_start": -0.4,
            "bin_end": -0.3,
            "count": 0
           },
           {
            "bin_start": -0.3,
            "bin_end": -0.19999999999999996,
            "count": 0
           },
           {
            "bin_start": -0.19999999999999996,
            "bin_end": -0.09999999999999998,
            "count": 0
           },
           {
            "bin_start": -0.09999999999999998,
            "bin_end": 0,
            "count": 0
           },
           {
            "bin_start": 0,
            "bin_end": 0.10000000000000009,
            "count": 5
           },
           {
            "bin_start": 0.10000000000000009,
            "bin_end": 0.20000000000000007,
            "count": 0
           },
           {
            "bin_start": 0.20000000000000007,
            "bin_end": 0.30000000000000004,
            "count": 0
           },
           {
            "bin_start": 0.30000000000000004,
            "bin_end": 0.4,
            "count": 0
           },
           {
            "bin_start": 0.4,
            "bin_end": 0.5,
            "count": 0
           }
          ]
         }
        },
        {
         "name": "_deepnote_index_column",
         "dtype": "int64"
        }
       ],
       "rows": [
        {
         "Land_poi": 47,
         "X": 550077.1605987672,
         "Y": 4020553.265186708,
         "DEM": 3818,
         "ASPECT": 45,
         "SPI": 1.7891816,
         "LULC": 2,
         "GEO": 7,
         "FAULT": 4,
         "RAIN": 1,
         "RIVER_BUFF": 1,
         "ROAD_BUFF": 105,
         "CURVA": -0.0553621,
         "TWI": 6.2631955,
         "SLOPE": 5.7745581,
         "Landslide": 0,
         "_deepnote_index_column": 0
        },
        {
         "Land_poi": 113,
         "X": 524888.3060063312,
         "Y": 4056844.253309296,
         "DEM": 4447,
         "ASPECT": 40.2363586,
         "SPI": 10.9402494,
         "LULC": 2,
         "GEO": 10,
         "FAULT": 4,
         "RAIN": 1,
         "RIVER_BUFF": 2,
         "ROAD_BUFF": 105,
         "CURVA": -0.4152302,
         "TWI": 14.6360111,
         "SLOPE": 8.6383724,
         "Landslide": 0,
         "_deepnote_index_column": 1
        },
        {
         "Land_poi": 4,
         "X": 482370.0076754456,
         "Y": 4094980.536246964,
         "DEM": 4300,
         "ASPECT": 157.7509766,
         "SPI": 2.8895721,
         "LULC": 4,
         "GEO": 10,
         "FAULT": 4,
         "RAIN": 1,
         "RIVER_BUFF": 105,
         "ROAD_BUFF": 105,
         "CURVA": -0.1221699,
         "TWI": 3.7765107,
         "SLOPE": 32.4627457,
         "Landslide": 0,
         "_deepnote_index_column": 2
        },
        {
         "Land_poi": 112,
         "X": 523812.5772469511,
         "Y": 4058924.6679870337,
         "DEM": 3728,
         "ASPECT": 270,
         "SPI": 1.198959,
         "LULC": 2,
         "GEO": 10,
         "FAULT": 4,
         "RAIN": 1,
         "RIVER_BUFF": 1,
         "ROAD_BUFF": 105,
         "CURVA": 0,
         "TWI": 6.8534184,
         "SLOPE": 3.063925,
         "Landslide": 0,
         "_deepnote_index_column": 3
        },
        {
         "Land_poi": 99,
         "X": 475172.29388453066,
         "Y": 4070997.7622226337,
         "DEM": 4593,
         "ASPECT": 31.4295654,
         "SPI": 1.6923227,
         "LULC": 2,
         "GEO": 8,
         "FAULT": 4,
         "RAIN": 1,
         "RIVER_BUFF": 3,
         "ROAD_BUFF": 105,
         "CURVA": -0.0180961,
         "TWI": 4.9737601,
         "SLOPE": 10.6578894,
         "Landslide": 0,
         "_deepnote_index_column": 4
        }
       ]
      },
      "text/plain": "   Land_poi              X             Y   DEM      ASPECT        SPI  LULC  \\\n0        47  550077.160599  4.020553e+06  3818   45.000000   1.789182     2   \n1       113  524888.306006  4.056844e+06  4447   40.236359  10.940249     2   \n2         4  482370.007675  4.094981e+06  4300  157.750977   2.889572     4   \n3       112  523812.577247  4.058925e+06  3728  270.000000   1.198959     2   \n4        99  475172.293885  4.070998e+06  4593   31.429565   1.692323     2   \n\n   GEO  FAULT  RAIN  RIVER_BUFF  ROAD_BUFF     CURVA        TWI      SLOPE  \\\n0    7      4     1           1        105 -0.055362   6.263196   5.774558   \n1   10      4     1           2        105 -0.415230  14.636011   8.638372   \n2   10      4     1         105        105 -0.122170   3.776511  32.462746   \n3   10      4     1           1        105 -0.000000   6.853418   3.063925   \n4    8      4     1           3        105 -0.018096   4.973760  10.657889   \n\n   Landslide  \n0          0  \n1          0  \n2          0  \n3          0  \n4          0  ",
      "text/html": "<div>\n<style scoped>\n    .dataframe tbody tr th:only-of-type {\n        vertical-align: middle;\n    }\n\n    .dataframe tbody tr th {\n        vertical-align: top;\n    }\n\n    .dataframe thead th {\n        text-align: right;\n    }\n</style>\n<table border=\"1\" class=\"dataframe\">\n  <thead>\n    <tr style=\"text-align: right;\">\n      <th></th>\n      <th>Land_poi</th>\n      <th>X</th>\n      <th>Y</th>\n      <th>DEM</th>\n      <th>ASPECT</th>\n      <th>SPI</th>\n      <th>LULC</th>\n      <th>GEO</th>\n      <th>FAULT</th>\n      <th>RAIN</th>\n      <th>RIVER_BUFF</th>\n      <th>ROAD_BUFF</th>\n      <th>CURVA</th>\n      <th>TWI</th>\n      <th>SLOPE</th>\n      <th>Landslide</th>\n    </tr>\n  </thead>\n  <tbody>\n    <tr>\n      <th>0</th>\n      <td>47</td>\n      <td>550077.160599</td>\n      <td>4.020553e+06</td>\n      <td>3818</td>\n      <td>45.000000</td>\n      <td>1.789182</td>\n      <td>2</td>\n      <td>7</td>\n      <td>4</td>\n      <td>1</td>\n      <td>1</td>\n      <td>105</td>\n      <td>-0.055362</td>\n      <td>6.263196</td>\n      <td>5.774558</td>\n      <td>0</td>\n    </tr>\n    <tr>\n      <th>1</th>\n      <td>113</td>\n      <td>524888.306006</td>\n      <td>4.056844e+06</td>\n      <td>4447</td>\n      <td>40.236359</td>\n      <td>10.940249</td>\n      <td>2</td>\n      <td>10</td>\n      <td>4</td>\n      <td>1</td>\n      <td>2</td>\n      <td>105</td>\n      <td>-0.415230</td>\n      <td>14.636011</td>\n      <td>8.638372</td>\n      <td>0</td>\n    </tr>\n    <tr>\n      <th>2</th>\n      <td>4</td>\n      <td>482370.007675</td>\n      <td>4.094981e+06</td>\n      <td>4300</td>\n      <td>157.750977</td>\n      <td>2.889572</td>\n      <td>4</td>\n      <td>10</td>\n      <td>4</td>\n      <td>1</td>\n      <td>105</td>\n      <td>105</td>\n      <td>-0.122170</td>\n      <td>3.776511</td>\n      <td>32.462746</td>\n      <td>0</td>\n    </tr>\n    <tr>\n      <th>3</th>\n      <td>112</td>\n      <td>523812.577247</td>\n      <td>4.058925e+06</td>\n      <td>3728</td>\n      <td>270.000000</td>\n      <td>1.198959</td>\n      <td>2</td>\n      <td>10</td>\n      <td>4</td>\n      <td>1</td>\n      <td>1</td>\n      <td>105</td>\n      <td>-0.000000</td>\n      <td>6.853418</td>\n      <td>3.063925</td>\n      <td>0</td>\n    </tr>\n    <tr>\n      <th>4</th>\n      <td>99</td>\n      <td>475172.293885</td>\n      <td>4.070998e+06</td>\n      <td>4593</td>\n      <td>31.429565</td>\n      <td>1.692323</td>\n      <td>2</td>\n      <td>8</td>\n      <td>4</td>\n      <td>1</td>\n      <td>3</td>\n      <td>105</td>\n      <td>-0.018096</td>\n      <td>4.973760</td>\n      <td>10.657889</td>\n      <td>0</td>\n    </tr>\n  </tbody>\n</table>\n</div>"
     },
     "metadata": {}
    }
   ]
  },
  {
   "cell_type": "markdown",
   "source": "So, we now have a data frame for landslide points and non-landslide points. This data frame will be used for training machine learning model. For prediction, we need all these factors values for all the study area (each pixel value), and then we will do the prediction for that data frame based on training data frame. Data preparation for prediction data frame will be covered in the next tutorial. ",
   "metadata": {
    "cell_id": "ba9d5b6ed99f49758b8e47e11af372cc",
    "tags": [],
    "is_collapsed": false,
    "deepnote_app_coordinates": {
     "x": 0,
     "y": 168,
     "w": 8,
     "h": 2
    },
    "deepnote_cell_type": "text-cell-p"
   }
  },
  {
   "cell_type": "markdown",
   "source": "",
   "metadata": {
    "cell_id": "7ddab31b2c0f4bba9dd752abee589ce3",
    "tags": [],
    "is_collapsed": false,
    "deepnote_app_coordinates": {
     "x": 0,
     "y": 171,
     "w": 8,
     "h": 2
    },
    "deepnote_cell_type": "text-cell-p"
   }
  },
  {
   "cell_type": "markdown",
   "source": "<a style='text-decoration:none;line-height:16px;display:flex;color:#5B5B62;padding:10px;justify-content:end;' href='https://deepnote.com?utm_source=created-in-deepnote-cell&projectId=664a82e1-f989-4f0b-a2cb-1198db6a61e8' target=\"_blank\">\n<img alt='Created in deepnote.com' style='display:inline;max-height:16px;margin:0px;margin-right:7.5px;' src='data:image/svg+xml;base64,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' > </img>\nCreated in <span style='font-weight:600;margin-left:4px;'>Deepnote</span></a>",
   "metadata": {
    "tags": [],
    "created_in_deepnote_cell": true,
    "deepnote_cell_type": "markdown"
   }
  }
 ],
 "nbformat": 4,
 "nbformat_minor": 2,
 "metadata": {
  "kernelspec": {
   "display_name": "Python 3",
   "language": "python",
   "name": "python3"
  },
  "language_info": {
   "codemirror_mode": {
    "name": "ipython",
    "version": 3
   },
   "file_extension": ".py",
   "mimetype": "text/x-python",
   "name": "python",
   "nbconvert_exporter": "python",
   "pygments_lexer": "ipython3",
   "version": "3.8.5"
  },
  "deepnote_notebook_id": "dae41db7-1e10-4628-84e6-c67a4d6838fa",
  "deepnote": {},
  "deepnote_app_layout": "article",
  "deepnote_execution_queue": []
 }
}